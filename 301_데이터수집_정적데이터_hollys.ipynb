{
  "nbformat": 4,
  "nbformat_minor": 0,
  "metadata": {
    "colab": {
      "provenance": [],
      "authorship_tag": "ABX9TyPydrZX0k/KVB84f3Ql1bRh",
      "include_colab_link": true
    },
    "kernelspec": {
      "name": "python3",
      "display_name": "Python 3"
    },
    "language_info": {
      "name": "python"
    }
  },
  "cells": [
    {
      "cell_type": "markdown",
      "metadata": {
        "id": "view-in-github",
        "colab_type": "text"
      },
      "source": [
        "<a href=\"https://colab.research.google.com/github/onleey/data_demo/blob/master/301_%EB%8D%B0%EC%9D%B4%ED%84%B0%EC%88%98%EC%A7%91_%EC%A0%95%EC%A0%81%EB%8D%B0%EC%9D%B4%ED%84%B0_hollys.ipynb\" target=\"_parent\"><img src=\"https://colab.research.google.com/assets/colab-badge.svg\" alt=\"Open In Colab\"/></a>"
      ]
    },
    {
      "cell_type": "code",
      "execution_count": 78,
      "metadata": {
        "id": "tG913LtT8_qJ"
      },
      "outputs": [],
      "source": [
        "import requests\n",
        "# import bs4\n",
        "\n",
        "from bs4 import BeautifulSoup"
      ]
    },
    {
      "cell_type": "code",
      "source": [
        "url = 'https://www.hollys.co.kr/store/korea/korStore2.do'\n",
        "\n",
        "res = requests.get(url)\n",
        "print(res)    # Response [200]\n",
        "\n",
        "soup = BeautifulSoup(res.text, 'html.parser')\n",
        "#print(soup)\n",
        "print(type(soup))  #bs4.BeautifulSoup\n",
        "print(dir(soup))\n",
        "\n",
        "\n",
        "tag_body = soup.find('tbody')\n",
        "#print(tag_body)\n",
        "print(type(tag_body))  # bs4.element.Tag\n",
        "\n",
        "tag_tr = tag_body.find_all('tr')\n",
        "#print(tag_tr)\n",
        "print(type(tag_tr)) # bs4.element.ResultSet"
      ],
      "metadata": {
        "colab": {
          "base_uri": "https://localhost:8080/"
        },
        "id": "R51QQ0MB9WvW",
        "outputId": "3aa915a8-023f-4eab-f0f9-d600d8910c3c"
      },
      "execution_count": 79,
      "outputs": [
        {
          "output_type": "stream",
          "name": "stdout",
          "text": [
            "<Response [200]>\n",
            "<class 'bs4.BeautifulSoup'>\n",
            "['ASCII_SPACES', 'DEFAULT_BUILDER_FEATURES', 'DEFAULT_INTERESTING_STRING_TYPES', 'NO_PARSER_SPECIFIED_WARNING', 'ROOT_TAG_NAME', '__bool__', '__call__', '__class__', '__contains__', '__copy__', '__delattr__', '__delitem__', '__dict__', '__dir__', '__doc__', '__eq__', '__format__', '__ge__', '__getattr__', '__getattribute__', '__getitem__', '__getstate__', '__gt__', '__hash__', '__init__', '__init_subclass__', '__iter__', '__le__', '__len__', '__lt__', '__module__', '__ne__', '__new__', '__reduce__', '__reduce_ex__', '__repr__', '__setattr__', '__setitem__', '__sizeof__', '__str__', '__subclasshook__', '__unicode__', '__weakref__', '_all_strings', '_decode_markup', '_feed', '_find_all', '_find_one', '_is_xml', '_lastRecursiveChild', '_last_descendant', '_linkage_fixer', '_markup_is_url', '_markup_resembles_filename', '_most_recent_element', '_namespaces', '_popToTag', '_should_pretty_print', 'append', 'attrs', 'builder', 'can_be_empty_element', 'cdata_list_attributes', 'childGenerator', 'children', 'clear', 'contains_replacement_characters', 'contents', 'currentTag', 'current_data', 'declared_html_encoding', 'decode', 'decode_contents', 'decompose', 'decomposed', 'default', 'descendants', 'element_classes', 'encode', 'encode_contents', 'endData', 'extend', 'extract', 'fetchNextSiblings', 'fetchParents', 'fetchPrevious', 'fetchPreviousSiblings', 'find', 'findAll', 'findAllNext', 'findAllPrevious', 'findChild', 'findChildren', 'findNext', 'findNextSibling', 'findNextSiblings', 'findParent', 'findParents', 'findPrevious', 'findPreviousSibling', 'findPreviousSiblings', 'find_all', 'find_all_next', 'find_all_previous', 'find_next', 'find_next_sibling', 'find_next_siblings', 'find_parent', 'find_parents', 'find_previous', 'find_previous_sibling', 'find_previous_siblings', 'format_string', 'formatter_for_name', 'get', 'getText', 'get_attribute_list', 'get_text', 'handle_data', 'handle_endtag', 'handle_starttag', 'has_attr', 'has_key', 'hidden', 'index', 'insert', 'insert_after', 'insert_before', 'interesting_string_types', 'isSelfClosing', 'is_empty_element', 'is_xml', 'known_xml', 'markup', 'name', 'namespace', 'new_string', 'new_tag', 'next', 'nextGenerator', 'nextSibling', 'nextSiblingGenerator', 'next_element', 'next_elements', 'next_sibling', 'next_siblings', 'object_was_parsed', 'open_tag_counter', 'original_encoding', 'parent', 'parentGenerator', 'parents', 'parse_only', 'parserClass', 'parser_class', 'popTag', 'prefix', 'preserve_whitespace_tag_stack', 'preserve_whitespace_tags', 'prettify', 'previous', 'previousGenerator', 'previousSibling', 'previousSiblingGenerator', 'previous_element', 'previous_elements', 'previous_sibling', 'previous_siblings', 'pushTag', 'recursiveChildGenerator', 'renderContents', 'replaceWith', 'replaceWithChildren', 'replace_with', 'replace_with_children', 'reset', 'select', 'select_one', 'setup', 'smooth', 'string', 'string_container', 'string_container_stack', 'strings', 'stripped_strings', 'tagStack', 'text', 'unwrap', 'wrap']\n",
            "<class 'bs4.element.Tag'>\n",
            "<class 'bs4.element.ResultSet'>\n"
          ]
        }
      ]
    },
    {
      "cell_type": "code",
      "source": [
        "tag_table = soup.select_one('table.tb_store tbody')    # find() = select_one()\n",
        "#print(tag_table)\n",
        "print(type(tag_table))    #bs4.element.Tag\n",
        "\n",
        "tag_tr_list = tag_table.select('tr')                # find_all()  = select()\n",
        "#print(tag_tr_list)\n",
        "\n",
        "\n"
      ],
      "metadata": {
        "colab": {
          "base_uri": "https://localhost:8080/"
        },
        "id": "QmNSNp7_9vfw",
        "outputId": "ef5092ed-1043-4092-956c-ff96dbf4eac9"
      },
      "execution_count": 80,
      "outputs": [
        {
          "output_type": "stream",
          "name": "stdout",
          "text": [
            "<class 'bs4.element.Tag'>\n"
          ]
        }
      ]
    },
    {
      "cell_type": "code",
      "source": [
        "len (tag_tr_list)"
      ],
      "metadata": {
        "colab": {
          "base_uri": "https://localhost:8080/"
        },
        "id": "HpjknMAYXUOA",
        "outputId": "28d2fef9-89c5-4334-bced-e8f762e7775a"
      },
      "execution_count": 81,
      "outputs": [
        {
          "output_type": "execute_result",
          "data": {
            "text/plain": [
              "10"
            ]
          },
          "metadata": {},
          "execution_count": 81
        }
      ]
    },
    {
      "cell_type": "code",
      "source": [
        "for store in tag_tr_list:\n",
        " td_list = store.find_all('td')\n",
        " print(td_list[0].text)\n",
        "  # store_id = store[0].text\n",
        "\n",
        " #break"
      ],
      "metadata": {
        "colab": {
          "base_uri": "https://localhost:8080/"
        },
        "id": "sNyRgZ_mXAY-",
        "outputId": "25255b51-5757-42a3-a9a1-d6d1f4737089"
      },
      "execution_count": 82,
      "outputs": [
        {
          "output_type": "stream",
          "name": "stdout",
          "text": [
            "서울 중랑구\n",
            "경기 성남시 분당구\n",
            "서울 광진구\n",
            "경기 오산시\n",
            "서울 양천구\n",
            "경기 오산시\n",
            "서울 용산구\n",
            "서울 강서구\n",
            "부산 사상구\n",
            "강원 춘천시\n"
          ]
        }
      ]
    },
    {
      "cell_type": "code",
      "source": [
        "for store in tag_tr_list:\n",
        "#  td_area = store.select_one('td.noline.center_t')\n",
        "#  print(td_area.text)\n",
        " td_list = store.select('td')\n",
        " print(td_list[0].text, td_list[1].text, td_list[2].text, td_list[3].text, td_list[5].text)\n",
        "\n",
        "\n",
        "\n",
        " #break"
      ],
      "metadata": {
        "colab": {
          "base_uri": "https://localhost:8080/"
        },
        "id": "2YQtSMmtYjor",
        "outputId": "9b1e7475-09f5-4dcc-cf01-88254874ae8f"
      },
      "execution_count": 83,
      "outputs": [
        {
          "output_type": "stream",
          "name": "stdout",
          "text": [
            "서울 중랑구 중랑역점 영업중 서울특별시 중랑구 망우로 210 (상봉동) . 02.6085.7858\n",
            "경기 성남시 분당구 분당서울대병원점 영업중 경기도 성남시 분당구 구미로173번길 82 (구미동, 분당서울대학교병원) 본관 1동 031-8039-6020\n",
            "서울 광진구 강변역점 영업중 서울 광진구 구의강변로 64, 구의아크로리버 1층 구의동 589-10 070-7802-0303\n",
            "경기 오산시 오산궐동점 오픈예정 경기도 오산시 궐리사길 34, 1층 031-374-7999\n",
            "서울 양천구 서서울공원점 영업중 서울특별시 양천구 남부순환로58길 37 신월동 205-36 070-4277-6756\n",
            "경기 오산시 오산역점 영업중 경기도 오산시 오산로 195 (오산동, 명신예식홀) . 031-8042-7719\n",
            "서울 용산구 용산아이파크몰점 영업중 서울특별시 용산구 한강대로23길 55 (한강로3가, 용산역) 4층 02-2012-0473\n",
            "서울 강서구 등촌역점 영업중 서울특별시 강서구 등촌로 229 (등촌동)  02-2655-2290\n",
            "부산 사상구 부산서부터미널점 영업중 부산광역시 사상구 사상로 201 (괘법동, 서부시외버스터미널) . 051-323-0305\n",
            "강원 춘천시 춘천강원대점 영업중 강원특별자치도 춘천시 서부대성로 229 (효자동) . 033-253-0425\n"
          ]
        }
      ]
    },
    {
      "cell_type": "code",
      "source": [
        "result = []\n",
        "\n",
        "for store in tag_tr_list:\n",
        "  td_area = store.select_one('td.noline.center_t')\n",
        "  td_point = store.select_one('td:nth-child(2)')\n",
        "  td_open = store.select_one ('td.center_t.tdp0')\n",
        "  td_addr = store.select_one('td:nth-child(4)')\n",
        "  td_tel = store.select_one('td:nth-child(6)')\n",
        "  result.append([td_area.text]+[td_point.text]+[td_open.text]+[td_addr.text]+[td_tel.text])\n",
        "  print(td_area.text, td_point.text, td_open.text, td_addr.text, td_tel.text)"
      ],
      "metadata": {
        "colab": {
          "base_uri": "https://localhost:8080/"
        },
        "id": "lndKWuYSaZsK",
        "outputId": "d90dde17-6bfa-4612-e3fd-197d9b6b2ec8"
      },
      "execution_count": 84,
      "outputs": [
        {
          "output_type": "stream",
          "name": "stdout",
          "text": [
            "서울 중랑구 중랑역점 영업중 서울특별시 중랑구 망우로 210 (상봉동) . 02.6085.7858\n",
            "경기 성남시 분당구 분당서울대병원점 영업중 경기도 성남시 분당구 구미로173번길 82 (구미동, 분당서울대학교병원) 본관 1동 031-8039-6020\n",
            "서울 광진구 강변역점 영업중 서울 광진구 구의강변로 64, 구의아크로리버 1층 구의동 589-10 070-7802-0303\n",
            "경기 오산시 오산궐동점 오픈예정 경기도 오산시 궐리사길 34, 1층 031-374-7999\n",
            "서울 양천구 서서울공원점 영업중 서울특별시 양천구 남부순환로58길 37 신월동 205-36 070-4277-6756\n",
            "경기 오산시 오산역점 영업중 경기도 오산시 오산로 195 (오산동, 명신예식홀) . 031-8042-7719\n",
            "서울 용산구 용산아이파크몰점 영업중 서울특별시 용산구 한강대로23길 55 (한강로3가, 용산역) 4층 02-2012-0473\n",
            "서울 강서구 등촌역점 영업중 서울특별시 강서구 등촌로 229 (등촌동)  02-2655-2290\n",
            "부산 사상구 부산서부터미널점 영업중 부산광역시 사상구 사상로 201 (괘법동, 서부시외버스터미널) . 051-323-0305\n",
            "강원 춘천시 춘천강원대점 영업중 강원특별자치도 춘천시 서부대성로 229 (효자동) . 033-253-0425\n"
          ]
        }
      ]
    },
    {
      "cell_type": "code",
      "source": [
        "from google.colab import drive\n",
        "drive.mount('/content/drive')"
      ],
      "metadata": {
        "colab": {
          "base_uri": "https://localhost:8080/"
        },
        "id": "Uba4QsYpcwy4",
        "outputId": "c1a10dee-bddc-499d-aa05-7c46a69b6726"
      },
      "execution_count": 85,
      "outputs": [
        {
          "output_type": "stream",
          "name": "stdout",
          "text": [
            "Drive already mounted at /content/drive; to attempt to forcibly remount, call drive.mount(\"/content/drive\", force_remount=True).\n"
          ]
        }
      ]
    },
    {
      "cell_type": "code",
      "source": [
        "%cd /content/drive/MyDrive/001"
      ],
      "metadata": {
        "colab": {
          "base_uri": "https://localhost:8080/"
        },
        "id": "alYtmjPyc_do",
        "outputId": "2c5552a8-93e6-4a38-9a61-ea4458572880"
      },
      "execution_count": 86,
      "outputs": [
        {
          "output_type": "stream",
          "name": "stdout",
          "text": [
            "/content/drive/MyDrive/001\n"
          ]
        }
      ]
    },
    {
      "cell_type": "code",
      "source": [
        "!pwd"
      ],
      "metadata": {
        "colab": {
          "base_uri": "https://localhost:8080/"
        },
        "id": "hD3w8QAadMS7",
        "outputId": "c60f3836-4ebb-4b5b-e854-8b2284c94c19"
      },
      "execution_count": 87,
      "outputs": [
        {
          "output_type": "stream",
          "name": "stdout",
          "text": [
            "/content/drive/MyDrive/001\n"
          ]
        }
      ]
    },
    {
      "cell_type": "code",
      "source": [
        "import csv\n",
        "\n",
        "fields = ['store_area', 'store_point', 'store_open', 'store_addr', 'store_tel']\n",
        "\n",
        "with open('./001_1/hollys.csv', 'w') as f:\n",
        "  write = csv.writer(f)\n",
        "  write.writerow(fields)\n",
        "  write.writerows(result)"
      ],
      "metadata": {
        "id": "RlqnH497dgkI"
      },
      "execution_count": 88,
      "outputs": []
    },
    {
      "cell_type": "markdown",
      "source": [
        "파일 읽기"
      ],
      "metadata": {
        "id": "9aaJS8v1gRfX"
      }
    },
    {
      "cell_type": "code",
      "source": [
        "import csv\n",
        "\n",
        "with open('./001_1/hollys.csv', 'r') as f:\n",
        "  reader = csv.reader(f)\n",
        "  for row in reader:\n",
        "    # # print(row)\n",
        "    # print(type(row))\n",
        "\n",
        "    #  for cell in row:\n",
        "    #    print(cell, end=',')\n",
        "    #  print(end='\\n')\n",
        "\n",
        "   print (','.join(row))"
      ],
      "metadata": {
        "colab": {
          "base_uri": "https://localhost:8080/"
        },
        "id": "UQcudBzJgTlW",
        "outputId": "18d07aa5-0eff-45bc-d340-00fd8c021f65"
      },
      "execution_count": 93,
      "outputs": [
        {
          "output_type": "stream",
          "name": "stdout",
          "text": [
            "store_area,store_point,store_open,store_addr,store_tel\n",
            "서울 중랑구,중랑역점,영업중,서울특별시 중랑구 망우로 210 (상봉동) .,02.6085.7858\n",
            "경기 성남시 분당구,분당서울대병원점,영업중,경기도 성남시 분당구 구미로173번길 82 (구미동, 분당서울대학교병원) 본관 1동,031-8039-6020\n",
            "서울 광진구,강변역점,영업중,서울 광진구 구의강변로 64, 구의아크로리버 1층 구의동 589-10,070-7802-0303\n",
            "경기 오산시,오산궐동점,오픈예정,경기도 오산시 궐리사길 34, 1층,031-374-7999\n",
            "서울 양천구,서서울공원점,영업중,서울특별시 양천구 남부순환로58길 37 신월동 205-36,070-4277-6756\n",
            "경기 오산시,오산역점,영업중,경기도 오산시 오산로 195 (오산동, 명신예식홀) .,031-8042-7719\n",
            "서울 용산구,용산아이파크몰점,영업중,서울특별시 용산구 한강대로23길 55 (한강로3가, 용산역) 4층,02-2012-0473\n",
            "서울 강서구,등촌역점,영업중,서울특별시 강서구 등촌로 229 (등촌동) ,02-2655-2290\n",
            "부산 사상구,부산서부터미널점,영업중,부산광역시 사상구 사상로 201 (괘법동, 서부시외버스터미널) .,051-323-0305\n",
            "강원 춘천시,춘천강원대점,영업중,강원특별자치도 춘천시 서부대성로 229 (효자동) .,033-253-0425\n"
          ]
        }
      ]
    },
    {
      "cell_type": "code",
      "source": [
        "import csv\n",
        "\n",
        "with open('./001_1/hollys.csv', 'r') as f:\n",
        "  reader = csv.reader(f)\n",
        "\n",
        "  for row in reader:\n",
        "    #print(row)\n",
        "    #print(type(row))\n",
        "\n",
        "    # for cell in row:\n",
        "    #   print(cell, end=',')\n",
        "    # print(end='\\n')\n",
        "\n",
        "   print(','.join(row))"
      ],
      "metadata": {
        "colab": {
          "base_uri": "https://localhost:8080/"
        },
        "id": "K0i4XYGKmgwI",
        "outputId": "52d3abdc-28d2-4ee9-dc1e-a3c63a0a6a95"
      },
      "execution_count": 143,
      "outputs": [
        {
          "output_type": "stream",
          "name": "stdout",
          "text": [
            "store_area,store_point,store_open,store_addr,store_tel\n",
            "서울 중랑구,중랑역점,영업중,서울특별시 중랑구 망우로 210 (상봉동) .,02.6085.7858\n",
            "경기 성남시 분당구,분당서울대병원점,영업중,경기도 성남시 분당구 구미로173번길 82 (구미동, 분당서울대학교병원) 본관 1동,031-8039-6020\n",
            "서울 광진구,강변역점,영업중,서울 광진구 구의강변로 64, 구의아크로리버 1층 구의동 589-10,070-7802-0303\n",
            "경기 오산시,오산궐동점,오픈예정,경기도 오산시 궐리사길 34, 1층,031-374-7999\n",
            "서울 양천구,서서울공원점,영업중,서울특별시 양천구 남부순환로58길 37 신월동 205-36,070-4277-6756\n",
            "경기 오산시,오산역점,영업중,경기도 오산시 오산로 195 (오산동, 명신예식홀) .,031-8042-7719\n",
            "서울 용산구,용산아이파크몰점,영업중,서울특별시 용산구 한강대로23길 55 (한강로3가, 용산역) 4층,02-2012-0473\n",
            "서울 강서구,등촌역점,영업중,서울특별시 강서구 등촌로 229 (등촌동) ,02-2655-2290\n",
            "부산 사상구,부산서부터미널점,영업중,부산광역시 사상구 사상로 201 (괘법동, 서부시외버스터미널) .,051-323-0305\n",
            "강원 춘천시,춘천강원대점,영업중,강원특별자치도 춘천시 서부대성로 229 (효자동) .,033-253-0425\n"
          ]
        }
      ]
    },
    {
      "cell_type": "code",
      "source": [
        "import datetime\n",
        "\n",
        "now =datetime.datetime.today()\n",
        "print(now)\n",
        "print(dir(now))\n",
        "\n",
        "print(now.year, now.month, now.day, now.hour , now.minute,now.second)"
      ],
      "metadata": {
        "colab": {
          "base_uri": "https://localhost:8080/"
        },
        "id": "niTALKzFlsbe",
        "outputId": "2858c542-adab-4782-8a97-d2ba797e131e"
      },
      "execution_count": 97,
      "outputs": [
        {
          "output_type": "stream",
          "name": "stdout",
          "text": [
            "2023-11-28 01:44:29.360249\n",
            "['__add__', '__class__', '__delattr__', '__dir__', '__doc__', '__eq__', '__format__', '__ge__', '__getattribute__', '__gt__', '__hash__', '__init__', '__init_subclass__', '__le__', '__lt__', '__ne__', '__new__', '__radd__', '__reduce__', '__reduce_ex__', '__repr__', '__rsub__', '__setattr__', '__sizeof__', '__str__', '__sub__', '__subclasshook__', 'astimezone', 'combine', 'ctime', 'date', 'day', 'dst', 'fold', 'fromisocalendar', 'fromisoformat', 'fromordinal', 'fromtimestamp', 'hour', 'isocalendar', 'isoformat', 'isoweekday', 'max', 'microsecond', 'min', 'minute', 'month', 'now', 'replace', 'resolution', 'second', 'strftime', 'strptime', 'time', 'timestamp', 'timetuple', 'timetz', 'today', 'toordinal', 'tzinfo', 'tzname', 'utcfromtimestamp', 'utcnow', 'utcoffset', 'utctimetuple', 'weekday', 'year']\n",
            "2023 11 28 1 44 29\n"
          ]
        }
      ]
    },
    {
      "cell_type": "markdown",
      "source": [
        "## 파일작성하여 크롤링하기"
      ],
      "metadata": {
        "id": "jqMyjYVrmWkd"
      }
    },
    {
      "cell_type": "code",
      "source": [
        "!pwd"
      ],
      "metadata": {
        "colab": {
          "base_uri": "https://localhost:8080/"
        },
        "id": "DXJ6828evCAB",
        "outputId": "53ace474-268d-4b67-efa3-36f39620db67"
      },
      "execution_count": 157,
      "outputs": [
        {
          "output_type": "stream",
          "name": "stdout",
          "text": [
            "/content/drive/MyDrive/001\n"
          ]
        }
      ]
    },
    {
      "cell_type": "code",
      "source": [
        "%%writefile ./001_1/hollys_collector.py\n",
        "\n",
        "from bs4 import BeautifulSoup\n",
        "import requests\n",
        "import csv\n",
        "import datetime\n",
        "\n",
        "result = []\n",
        "\n",
        "def hollys_process():\n",
        "\n",
        "  url = 'https://www.hollys.co.kr/store/korea/korStore2.do'\n",
        "  res = requests.get(url)\n",
        "\n",
        "  soup = BeautifulSoup(res.text, 'html.parser')\n",
        "  tag_table = soup.select_one('table.tb_store tbody')\n",
        "  tag_tr_list = tag_table.select('tr')\n",
        "\n",
        "  for store in tag_tr_list:\n",
        "   td_area =  store.select_one('td.noline.center_t').text\n",
        "   td_point = store.select_one('td:nth-child(2)').text\n",
        "   td_open = store.select_one('td.center_t.tdp0').text\n",
        "   td_addr = store.select_one('td:nth-child(4)').text\n",
        "   td_tel = store.select_one('td:nth-child(6)').text\n",
        "   result.append([td_area]+[td_point]+[td_open]+[td_addr]+[td_tel])\n",
        "\n",
        "def hollys_save(filename):\n",
        "  fields = ['store_area', 'store_point', 'store_open', 'store_addr', 'store_tel']\n",
        "\n",
        "  with open('./001_1/'+filename, 'w') as f:\n",
        "    write = csv.writer(f)\n",
        "    write.writerow(fields)\n",
        "    write.writerows(result)\n",
        "\n",
        "  print('hollys 데이터 저장 완료')\n",
        "  del result[:]\n",
        "\n",
        "\n",
        "def hollys_load(filename):\n",
        " with open('./001_1/'+filename, 'r') as f:\n",
        "  reader = csv.reader(f)\n",
        "\n",
        "  for row in reader:\n",
        "    print(','.join(row))\n",
        "\n",
        "\n",
        "if __name__ == '__main__':\n",
        "   hollys_process()\n",
        "\n",
        "   to_now = datetime.datetime.now()\n",
        "   to_now = to_now.strftime('%Y-%m-%d %H:%M:%s')\n",
        "\n",
        "   #filename = '%s-hollys.csv' % (to_now)\n",
        "   filename ='{}-hollys.csv'.format(to_now)\n",
        "   hollys_save(filename)\n",
        "\n",
        "   hollys_load(filename)\n",
        "\n"
      ],
      "metadata": {
        "colab": {
          "base_uri": "https://localhost:8080/"
        },
        "id": "ytZMTgsWmds7",
        "outputId": "8bc00c24-ade0-4ed1-d999-7355fe8e2a4b"
      },
      "execution_count": 158,
      "outputs": [
        {
          "output_type": "stream",
          "name": "stdout",
          "text": [
            "Writing ./001_1/hollys_collector.py\n"
          ]
        }
      ]
    },
    {
      "cell_type": "code",
      "source": [
        "to_now =datetime.datetime.now()\n",
        "to_now = to_now.strftime('%Y-%m-%d %H:%M:%s')\n",
        "to_now"
      ],
      "metadata": {
        "colab": {
          "base_uri": "https://localhost:8080/",
          "height": 35
        },
        "id": "KazmC-vpqVFz",
        "outputId": "2af8c0e1-0c53-4024-c865-0dc239b6c16f"
      },
      "execution_count": 160,
      "outputs": [
        {
          "output_type": "execute_result",
          "data": {
            "text/plain": [
              "'2023-11-28 02:24:1701138263'"
            ],
            "application/vnd.google.colaboratory.intrinsic+json": {
              "type": "string"
            }
          },
          "metadata": {},
          "execution_count": 160
        }
      ]
    },
    {
      "cell_type": "code",
      "source": [
        "hollys_save ('hollys.csv')"
      ],
      "metadata": {
        "colab": {
          "base_uri": "https://localhost:8080/"
        },
        "id": "WeaA5Hzqqmqy",
        "outputId": "1bd9e537-6940-4cee-ec1d-4f654370df42"
      },
      "execution_count": 151,
      "outputs": [
        {
          "output_type": "stream",
          "name": "stdout",
          "text": [
            "hollys 데이터 저장 완료\n"
          ]
        }
      ]
    },
    {
      "cell_type": "code",
      "source": [
        "hollys_process()"
      ],
      "metadata": {
        "id": "jTxX6XT8gQ9f"
      },
      "execution_count": 152,
      "outputs": []
    },
    {
      "cell_type": "code",
      "source": [
        "hollys_save('hollys.csv')"
      ],
      "metadata": {
        "colab": {
          "base_uri": "https://localhost:8080/"
        },
        "id": "Fgh8LwDMpBBM",
        "outputId": "13adbc27-2571-4fb7-ddf4-4367278b3c96"
      },
      "execution_count": 153,
      "outputs": [
        {
          "output_type": "stream",
          "name": "stdout",
          "text": [
            "hollys 데이터 저장 완료\n"
          ]
        }
      ]
    },
    {
      "cell_type": "code",
      "source": [
        "hollys_load('hollys.csv')"
      ],
      "metadata": {
        "colab": {
          "base_uri": "https://localhost:8080/"
        },
        "id": "ZnoSXsmGpE-C",
        "outputId": "47fda3ed-21a1-4115-e516-f7231e6cda4e"
      },
      "execution_count": 154,
      "outputs": [
        {
          "output_type": "stream",
          "name": "stdout",
          "text": [
            "store_area,store_point,store_open,store_addr,store_tel\n",
            "서울 중랑구,중랑역점,영업중,서울특별시 중랑구 망우로 210 (상봉동) .,02.6085.7858\n",
            "경기 성남시 분당구,분당서울대병원점,영업중,경기도 성남시 분당구 구미로173번길 82 (구미동, 분당서울대학교병원) 본관 1동,031-8039-6020\n",
            "서울 광진구,강변역점,영업중,서울 광진구 구의강변로 64, 구의아크로리버 1층 구의동 589-10,070-7802-0303\n",
            "경기 오산시,오산궐동점,오픈예정,경기도 오산시 궐리사길 34, 1층,031-374-7999\n",
            "서울 양천구,서서울공원점,영업중,서울특별시 양천구 남부순환로58길 37 신월동 205-36,070-4277-6756\n",
            "경기 오산시,오산역점,영업중,경기도 오산시 오산로 195 (오산동, 명신예식홀) .,031-8042-7719\n",
            "서울 용산구,용산아이파크몰점,영업중,서울특별시 용산구 한강대로23길 55 (한강로3가, 용산역) 4층,02-2012-0473\n",
            "서울 강서구,등촌역점,영업중,서울특별시 강서구 등촌로 229 (등촌동) ,02-2655-2290\n",
            "부산 사상구,부산서부터미널점,영업중,부산광역시 사상구 사상로 201 (괘법동, 서부시외버스터미널) .,051-323-0305\n",
            "강원 춘천시,춘천강원대점,영업중,강원특별자치도 춘천시 서부대성로 229 (효자동) .,033-253-0425\n"
          ]
        }
      ]
    },
    {
      "cell_type": "code",
      "source": [
        "!pwd"
      ],
      "metadata": {
        "colab": {
          "base_uri": "https://localhost:8080/"
        },
        "id": "As_F2AxHuOQZ",
        "outputId": "78aa88eb-4f9f-4e39-96b3-e2020855c86f"
      },
      "execution_count": 155,
      "outputs": [
        {
          "output_type": "stream",
          "name": "stdout",
          "text": [
            "/content/drive/MyDrive/001\n"
          ]
        }
      ]
    },
    {
      "cell_type": "code",
      "source": [
        "!python ./001_1/hollys_collector.py"
      ],
      "metadata": {
        "colab": {
          "base_uri": "https://localhost:8080/"
        },
        "id": "tJOYr6QBuPpA",
        "outputId": "d57fbaff-b1b3-4ebb-edde-b91335f6f13e"
      },
      "execution_count": 159,
      "outputs": [
        {
          "output_type": "stream",
          "name": "stdout",
          "text": [
            "hollys 데이터 저장 완료\n",
            "store_area,store_point,store_open,store_addr,store_tel\n",
            "서울 중랑구,중랑역점,영업중,서울특별시 중랑구 망우로 210 (상봉동) .,02.6085.7858\n",
            "경기 성남시 분당구,분당서울대병원점,영업중,경기도 성남시 분당구 구미로173번길 82 (구미동, 분당서울대학교병원) 본관 1동,031-8039-6020\n",
            "서울 광진구,강변역점,영업중,서울 광진구 구의강변로 64, 구의아크로리버 1층 구의동 589-10,070-7802-0303\n",
            "경기 오산시,오산궐동점,오픈예정,경기도 오산시 궐리사길 34, 1층,031-374-7999\n",
            "서울 양천구,서서울공원점,영업중,서울특별시 양천구 남부순환로58길 37 신월동 205-36,070-4277-6756\n",
            "경기 오산시,오산역점,영업중,경기도 오산시 오산로 195 (오산동, 명신예식홀) .,031-8042-7719\n",
            "서울 용산구,용산아이파크몰점,영업중,서울특별시 용산구 한강대로23길 55 (한강로3가, 용산역) 4층,02-2012-0473\n",
            "서울 강서구,등촌역점,영업중,서울특별시 강서구 등촌로 229 (등촌동) ,02-2655-2290\n",
            "부산 사상구,부산서부터미널점,영업중,부산광역시 사상구 사상로 201 (괘법동, 서부시외버스터미널) .,051-323-0305\n",
            "강원 춘천시,춘천강원대점,영업중,강원특별자치도 춘천시 서부대성로 229 (효자동) .,033-253-0425\n"
          ]
        }
      ]
    }
  ]
}