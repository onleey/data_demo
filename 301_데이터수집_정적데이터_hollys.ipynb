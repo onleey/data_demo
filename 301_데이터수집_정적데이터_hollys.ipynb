{
  "nbformat": 4,
  "nbformat_minor": 0,
  "metadata": {
    "colab": {
      "provenance": [],
      "authorship_tag": "ABX9TyOr1KH3bZgKAMYpR8cDqnp1",
      "include_colab_link": true
    },
    "kernelspec": {
      "name": "python3",
      "display_name": "Python 3"
    },
    "language_info": {
      "name": "python"
    }
  },
  "cells": [
    {
      "cell_type": "markdown",
      "metadata": {
        "id": "view-in-github",
        "colab_type": "text"
      },
      "source": [
        "<a href=\"https://colab.research.google.com/github/onleey/data_demo/blob/master/301_%EB%8D%B0%EC%9D%B4%ED%84%B0%EC%88%98%EC%A7%91_%EC%A0%95%EC%A0%81%EB%8D%B0%EC%9D%B4%ED%84%B0_hollys.ipynb\" target=\"_parent\"><img src=\"https://colab.research.google.com/assets/colab-badge.svg\" alt=\"Open In Colab\"/></a>"
      ]
    },
    {
      "cell_type": "code",
      "execution_count": 3,
      "metadata": {
        "id": "tG913LtT8_qJ"
      },
      "outputs": [],
      "source": [
        "import requests\n",
        "# import bs4\n",
        "\n",
        "from bs4 import BeautifulSoup"
      ]
    },
    {
      "cell_type": "code",
      "source": [
        "url = 'https://www.hollys.co.kr/store/korea/korStore2.do'\n",
        "\n",
        "res = requests.get(url)\n",
        "print(res)             # 200번으로 떨어지는지 봐야함.\n",
        "\n",
        "\n",
        "soup = BeautifulSoup (res.text, 'html.parser')\n",
        "#print(soup)\n",
        "print(type(soup))\n",
        "print(dir(soup))\n",
        "\n",
        "tag_body = soup.find('tbody')\n",
        "#print(tag_body)\n",
        "print(type(tag_body))\n",
        "tag_tr = tag_body.find_all('tr')\n",
        "#print(tag_tr)\n",
        "print(type(tag_tr))\n",
        "\n",
        "#tag_table = soup.select_one('#contents > div.content > fieldset > fieldset > div.tableType01 > table > tbody')\n",
        "tag_table = soup.select_one('table.tb_store tbody')\n",
        "#print(tag_table)\n",
        "print(type(tag_table))"
      ],
      "metadata": {
        "colab": {
          "base_uri": "https://localhost:8080/"
        },
        "id": "R51QQ0MB9WvW",
        "outputId": "89eecbcd-844e-4c27-ca4a-eda21fc86620"
      },
      "execution_count": 19,
      "outputs": [
        {
          "output_type": "stream",
          "name": "stdout",
          "text": [
            "<Response [200]>\n",
            "<class 'bs4.BeautifulSoup'>\n",
            "['ASCII_SPACES', 'DEFAULT_BUILDER_FEATURES', 'DEFAULT_INTERESTING_STRING_TYPES', 'NO_PARSER_SPECIFIED_WARNING', 'ROOT_TAG_NAME', '__bool__', '__call__', '__class__', '__contains__', '__copy__', '__delattr__', '__delitem__', '__dict__', '__dir__', '__doc__', '__eq__', '__format__', '__ge__', '__getattr__', '__getattribute__', '__getitem__', '__getstate__', '__gt__', '__hash__', '__init__', '__init_subclass__', '__iter__', '__le__', '__len__', '__lt__', '__module__', '__ne__', '__new__', '__reduce__', '__reduce_ex__', '__repr__', '__setattr__', '__setitem__', '__sizeof__', '__str__', '__subclasshook__', '__unicode__', '__weakref__', '_all_strings', '_decode_markup', '_feed', '_find_all', '_find_one', '_is_xml', '_lastRecursiveChild', '_last_descendant', '_linkage_fixer', '_markup_is_url', '_markup_resembles_filename', '_most_recent_element', '_namespaces', '_popToTag', '_should_pretty_print', 'append', 'attrs', 'builder', 'can_be_empty_element', 'cdata_list_attributes', 'childGenerator', 'children', 'clear', 'contains_replacement_characters', 'contents', 'currentTag', 'current_data', 'declared_html_encoding', 'decode', 'decode_contents', 'decompose', 'decomposed', 'default', 'descendants', 'element_classes', 'encode', 'encode_contents', 'endData', 'extend', 'extract', 'fetchNextSiblings', 'fetchParents', 'fetchPrevious', 'fetchPreviousSiblings', 'find', 'findAll', 'findAllNext', 'findAllPrevious', 'findChild', 'findChildren', 'findNext', 'findNextSibling', 'findNextSiblings', 'findParent', 'findParents', 'findPrevious', 'findPreviousSibling', 'findPreviousSiblings', 'find_all', 'find_all_next', 'find_all_previous', 'find_next', 'find_next_sibling', 'find_next_siblings', 'find_parent', 'find_parents', 'find_previous', 'find_previous_sibling', 'find_previous_siblings', 'format_string', 'formatter_for_name', 'get', 'getText', 'get_attribute_list', 'get_text', 'handle_data', 'handle_endtag', 'handle_starttag', 'has_attr', 'has_key', 'hidden', 'index', 'insert', 'insert_after', 'insert_before', 'interesting_string_types', 'isSelfClosing', 'is_empty_element', 'is_xml', 'known_xml', 'markup', 'name', 'namespace', 'new_string', 'new_tag', 'next', 'nextGenerator', 'nextSibling', 'nextSiblingGenerator', 'next_element', 'next_elements', 'next_sibling', 'next_siblings', 'object_was_parsed', 'open_tag_counter', 'original_encoding', 'parent', 'parentGenerator', 'parents', 'parse_only', 'parserClass', 'parser_class', 'popTag', 'prefix', 'preserve_whitespace_tag_stack', 'preserve_whitespace_tags', 'prettify', 'previous', 'previousGenerator', 'previousSibling', 'previousSiblingGenerator', 'previous_element', 'previous_elements', 'previous_sibling', 'previous_siblings', 'pushTag', 'recursiveChildGenerator', 'renderContents', 'replaceWith', 'replaceWithChildren', 'replace_with', 'replace_with_children', 'reset', 'select', 'select_one', 'setup', 'smooth', 'string', 'string_container', 'string_container_stack', 'strings', 'stripped_strings', 'tagStack', 'text', 'unwrap', 'wrap']\n",
            "<class 'bs4.element.Tag'>\n",
            "<class 'bs4.element.ResultSet'>\n",
            "<class 'bs4.element.Tag'>\n"
          ]
        }
      ]
    },
    {
      "cell_type": "code",
      "source": [
        "tag_tr_list = soup.select('tr')   #find_all() = select() 같음\n",
        "#print(tag_tr_list)\n",
        "\n",
        "\n",
        "\n"
      ],
      "metadata": {
        "colab": {
          "base_uri": "https://localhost:8080/"
        },
        "id": "QmNSNp7_9vfw",
        "outputId": "441725df-daa7-45d6-c3f8-0858e6c916cd"
      },
      "execution_count": 20,
      "outputs": [
        {
          "output_type": "stream",
          "name": "stdout",
          "text": [
            "[<tr>\n",
            "<th class=\"noline\" scope=\"col\">지역</th>\n",
            "<th scope=\"col\">매장명</th>\n",
            "<th scope=\"col\">현황</th>\n",
            "<th scope=\"col\">주소</th>\n",
            "<th scope=\"col\">매장 서비스</th>\n",
            "<th scope=\"col\">전화번호</th>\n",
            "</tr>, <tr>\n",
            "<!--\r\n",
            "\t\t\t\t<td class=\"noline center_t\">\r\n",
            "\t\t\t\t\t\t\t\t\t\t\t\t\t\t\t\t<a href=\"javascript:goLogin();\"><img src=\"https://www.hollys.co.kr/websrc/images/store/ico_favorite_off.png\" alt=\"즐겨찾기\"></a>\r\n",
            "\t\t\t\t\t\t\t\t\t</td>\r\n",
            "\t\t\t\t -->\n",
            "<td class=\"noline center_t\">서울 중랑구</td>\n",
            "<td class=\"center_t\"><a href=\"#\" onclick=\"javascript:storeView(1103); return false;\">중랑역점</a></td>\n",
            "<td class=\"center_t tdp0\">영업중</td>\n",
            "<td class=\"center_t\"><a href=\"#\" onclick=\"javascript:storeView(1103); return false;\">서울특별시 중랑구 망우로 210 (상봉동) .</a></td>\n",
            "<td class=\"center_t\">\n",
            "<img alt=\"흡연시설\" src=\"https://www.hollys.co.kr/websrc/images/store/img_store_s04.gif\" style=\"margin-right:1px\"/>\n",
            "</td>\n",
            "<td class=\"center_t\">02.6085.7858</td>\n",
            "</tr>, <tr>\n",
            "<!--\r\n",
            "\t\t\t\t<td class=\"noline center_t\">\r\n",
            "\t\t\t\t\t\t\t\t\t\t\t\t\t\t\t\t<a href=\"javascript:goLogin();\"><img src=\"https://www.hollys.co.kr/websrc/images/store/ico_favorite_off.png\" alt=\"즐겨찾기\"></a>\r\n",
            "\t\t\t\t\t\t\t\t\t</td>\r\n",
            "\t\t\t\t -->\n",
            "<td class=\"noline center_t\">경기 성남시 분당구</td>\n",
            "<td class=\"center_t\"><a href=\"#\" onclick=\"javascript:storeView(1102); return false;\">분당서울대병원점</a></td>\n",
            "<td class=\"center_t tdp0\">영업중</td>\n",
            "<td class=\"center_t\"><a href=\"#\" onclick=\"javascript:storeView(1102); return false;\">경기도 성남시 분당구 구미로173번길 82 (구미동, 분당서울대학교병원) 본관 1동</a></td>\n",
            "<td class=\"center_t\">\n",
            "<img alt=\"주차\" src=\"https://www.hollys.co.kr/websrc/images/store/img_store_s08.png\" style=\"margin-right:1px\"/>\n",
            "</td>\n",
            "<td class=\"center_t\">031-8039-6020</td>\n",
            "</tr>, <tr>\n",
            "<!--\r\n",
            "\t\t\t\t<td class=\"noline center_t\">\r\n",
            "\t\t\t\t\t\t\t\t\t\t\t\t\t\t\t\t<a href=\"javascript:goLogin();\"><img src=\"https://www.hollys.co.kr/websrc/images/store/ico_favorite_off.png\" alt=\"즐겨찾기\"></a>\r\n",
            "\t\t\t\t\t\t\t\t\t</td>\r\n",
            "\t\t\t\t -->\n",
            "<td class=\"noline center_t\">서울 광진구</td>\n",
            "<td class=\"center_t\"><a href=\"#\" onclick=\"javascript:storeView(1101); return false;\">강변역점</a></td>\n",
            "<td class=\"center_t tdp0\">영업중</td>\n",
            "<td class=\"center_t\"><a href=\"#\" onclick=\"javascript:storeView(1101); return false;\">서울 광진구 구의강변로 64, 구의아크로리버 1층 구의동 589-10</a></td>\n",
            "<td class=\"center_t\">\n",
            "<img alt=\"주차\" src=\"https://www.hollys.co.kr/websrc/images/store/img_store_s08.png\" style=\"margin-right:1px\"/>\n",
            "</td>\n",
            "<td class=\"center_t\">070-7802-0303</td>\n",
            "</tr>, <tr>\n",
            "<!--\r\n",
            "\t\t\t\t<td class=\"noline center_t\">\r\n",
            "\t\t\t\t\t\t\t\t\t\t\t\t\t\t\t\t<a href=\"javascript:goLogin();\"><img src=\"https://www.hollys.co.kr/websrc/images/store/ico_favorite_off.png\" alt=\"즐겨찾기\"></a>\r\n",
            "\t\t\t\t\t\t\t\t\t</td>\r\n",
            "\t\t\t\t -->\n",
            "<td class=\"noline center_t\">경기 오산시</td>\n",
            "<td class=\"center_t\"><a href=\"#\" onclick=\"javascript:storeView(1096); return false;\">오산궐동점</a></td>\n",
            "<td class=\"center_t tdp0\">오픈예정</td>\n",
            "<td class=\"center_t\"><a href=\"#\" onclick=\"javascript:storeView(1096); return false;\">경기도 오산시 궐리사길 34, 1층</a></td>\n",
            "<td class=\"center_t\">\n",
            "<img alt=\"24시간\" src=\"https://www.hollys.co.kr/websrc/images/store/img_store_s06.gif\" style=\"margin-right:1px\"/>\n",
            "<img alt=\"흡연시설\" src=\"https://www.hollys.co.kr/websrc/images/store/img_store_s04.gif\" style=\"margin-right:1px\"/>\n",
            "<img alt=\"주차\" src=\"https://www.hollys.co.kr/websrc/images/store/img_store_s08.png\" style=\"margin-right:1px\"/>\n",
            "</td>\n",
            "<td class=\"center_t\">031-374-7999</td>\n",
            "</tr>, <tr>\n",
            "<!--\r\n",
            "\t\t\t\t<td class=\"noline center_t\">\r\n",
            "\t\t\t\t\t\t\t\t\t\t\t\t\t\t\t\t<a href=\"javascript:goLogin();\"><img src=\"https://www.hollys.co.kr/websrc/images/store/ico_favorite_off.png\" alt=\"즐겨찾기\"></a>\r\n",
            "\t\t\t\t\t\t\t\t\t</td>\r\n",
            "\t\t\t\t -->\n",
            "<td class=\"noline center_t\">서울 양천구</td>\n",
            "<td class=\"center_t\"><a href=\"#\" onclick=\"javascript:storeView(1095); return false;\">서서울공원점</a></td>\n",
            "<td class=\"center_t tdp0\">영업중</td>\n",
            "<td class=\"center_t\"><a href=\"#\" onclick=\"javascript:storeView(1095); return false;\">서울특별시 양천구 남부순환로58길 37 신월동 205-36</a></td>\n",
            "<td class=\"center_t\">\n",
            "<img alt=\"테라스\" src=\"https://www.hollys.co.kr/websrc/images/store/img_store_s02.gif\" style=\"margin-right:1px\"/>\n",
            "</td>\n",
            "<td class=\"center_t\">070-4277-6756</td>\n",
            "</tr>, <tr>\n",
            "<!--\r\n",
            "\t\t\t\t<td class=\"noline center_t\">\r\n",
            "\t\t\t\t\t\t\t\t\t\t\t\t\t\t\t\t<a href=\"javascript:goLogin();\"><img src=\"https://www.hollys.co.kr/websrc/images/store/ico_favorite_off.png\" alt=\"즐겨찾기\"></a>\r\n",
            "\t\t\t\t\t\t\t\t\t</td>\r\n",
            "\t\t\t\t -->\n",
            "<td class=\"noline center_t\">경기 오산시</td>\n",
            "<td class=\"center_t\"><a href=\"#\" onclick=\"javascript:storeView(1094); return false;\">오산역점</a></td>\n",
            "<td class=\"center_t tdp0\">영업중</td>\n",
            "<td class=\"center_t\"><a href=\"#\" onclick=\"javascript:storeView(1094); return false;\">경기도 오산시 오산로 195 (오산동, 명신예식홀) .</a></td>\n",
            "<td class=\"center_t\">\n",
            "<img alt=\"24시간\" src=\"https://www.hollys.co.kr/websrc/images/store/img_store_s06.gif\" style=\"margin-right:1px\"/>\n",
            "<img alt=\"주차\" src=\"https://www.hollys.co.kr/websrc/images/store/img_store_s08.png\" style=\"margin-right:1px\"/>\n",
            "</td>\n",
            "<td class=\"center_t\">031-8042-7719</td>\n",
            "</tr>, <tr>\n",
            "<!--\r\n",
            "\t\t\t\t<td class=\"noline center_t\">\r\n",
            "\t\t\t\t\t\t\t\t\t\t\t\t\t\t\t\t<a href=\"javascript:goLogin();\"><img src=\"https://www.hollys.co.kr/websrc/images/store/ico_favorite_off.png\" alt=\"즐겨찾기\"></a>\r\n",
            "\t\t\t\t\t\t\t\t\t</td>\r\n",
            "\t\t\t\t -->\n",
            "<td class=\"noline center_t\">서울 용산구</td>\n",
            "<td class=\"center_t\"><a href=\"#\" onclick=\"javascript:storeView(1091); return false;\">용산아이파크몰점</a></td>\n",
            "<td class=\"center_t tdp0\">영업중</td>\n",
            "<td class=\"center_t\"><a href=\"#\" onclick=\"javascript:storeView(1091); return false;\">서울특별시 용산구 한강대로23길 55 (한강로3가, 용산역) 4층</a></td>\n",
            "<td class=\"center_t\">\n",
            "<img alt=\"주차\" src=\"https://www.hollys.co.kr/websrc/images/store/img_store_s08.png\" style=\"margin-right:1px\"/>\n",
            "</td>\n",
            "<td class=\"center_t\">02-2012-0473</td>\n",
            "</tr>, <tr>\n",
            "<!--\r\n",
            "\t\t\t\t<td class=\"noline center_t\">\r\n",
            "\t\t\t\t\t\t\t\t\t\t\t\t\t\t\t\t<a href=\"javascript:goLogin();\"><img src=\"https://www.hollys.co.kr/websrc/images/store/ico_favorite_off.png\" alt=\"즐겨찾기\"></a>\r\n",
            "\t\t\t\t\t\t\t\t\t</td>\r\n",
            "\t\t\t\t -->\n",
            "<td class=\"noline center_t\">서울 강서구</td>\n",
            "<td class=\"center_t\"><a href=\"#\" onclick=\"javascript:storeView(1090); return false;\">등촌역점</a></td>\n",
            "<td class=\"center_t tdp0\">영업중</td>\n",
            "<td class=\"center_t\"><a href=\"#\" onclick=\"javascript:storeView(1090); return false;\">서울특별시 강서구 등촌로 229 (등촌동) </a></td>\n",
            "<td class=\"center_t\">\n",
            "<img alt=\"테라스\" src=\"https://www.hollys.co.kr/websrc/images/store/img_store_s02.gif\" style=\"margin-right:1px\"/>\n",
            "<img alt=\"주차\" src=\"https://www.hollys.co.kr/websrc/images/store/img_store_s08.png\" style=\"margin-right:1px\"/>\n",
            "</td>\n",
            "<td class=\"center_t\">02-2655-2290</td>\n",
            "</tr>, <tr>\n",
            "<!--\r\n",
            "\t\t\t\t<td class=\"noline center_t\">\r\n",
            "\t\t\t\t\t\t\t\t\t\t\t\t\t\t\t\t<a href=\"javascript:goLogin();\"><img src=\"https://www.hollys.co.kr/websrc/images/store/ico_favorite_off.png\" alt=\"즐겨찾기\"></a>\r\n",
            "\t\t\t\t\t\t\t\t\t</td>\r\n",
            "\t\t\t\t -->\n",
            "<td class=\"noline center_t\">부산 사상구</td>\n",
            "<td class=\"center_t\"><a href=\"#\" onclick=\"javascript:storeView(1089); return false;\">부산서부터미널점</a></td>\n",
            "<td class=\"center_t tdp0\">영업중</td>\n",
            "<td class=\"center_t\"><a href=\"#\" onclick=\"javascript:storeView(1089); return false;\">부산광역시 사상구 사상로 201 (괘법동, 서부시외버스터미널) .</a></td>\n",
            "<td class=\"center_t\">\n",
            "</td>\n",
            "<td class=\"center_t\">051-323-0305</td>\n",
            "</tr>, <tr>\n",
            "<!--\r\n",
            "\t\t\t\t<td class=\"noline center_t\">\r\n",
            "\t\t\t\t\t\t\t\t\t\t\t\t\t\t\t\t<a href=\"javascript:goLogin();\"><img src=\"https://www.hollys.co.kr/websrc/images/store/ico_favorite_off.png\" alt=\"즐겨찾기\"></a>\r\n",
            "\t\t\t\t\t\t\t\t\t</td>\r\n",
            "\t\t\t\t -->\n",
            "<td class=\"noline center_t\">강원 춘천시</td>\n",
            "<td class=\"center_t\"><a href=\"#\" onclick=\"javascript:storeView(1088); return false;\">춘천강원대점</a></td>\n",
            "<td class=\"center_t tdp0\">영업중</td>\n",
            "<td class=\"center_t\"><a href=\"#\" onclick=\"javascript:storeView(1088); return false;\">강원특별자치도 춘천시 서부대성로 229 (효자동) .</a></td>\n",
            "<td class=\"center_t\">\n",
            "</td>\n",
            "<td class=\"center_t\">033-253-0425</td>\n",
            "</tr>]\n"
          ]
        }
      ]
    },
    {
      "cell_type": "code",
      "source": [
        "url = 'https://www.hollys.co.kr/store/korea/korStore2.do'\n",
        "\n",
        "res = requests.get(url)\n",
        "print(res)             # 200번으로 떨어지는지 봐야함.\n",
        "\n",
        "\n",
        "soup = BeautifulSoup (res.text, 'html.parser')\n",
        "#print(soup)\n",
        "print(type(soup))\n",
        "print(dir(soup))\n",
        "\n",
        "tag_body = soup.find('tbody')\n",
        "#print(tag_body)\n",
        "print(type(tag_body))\n",
        "tag_tr = tag_body.find_all('tr')\n",
        "#print(tag_tr)\n",
        "print(type(tag_tr))\n",
        "\n",
        "#tag_table = soup.select_one('#contents > div.content > fieldset > fieldset > div.tableType01 > table > tbody')\n",
        "tag_table = soup.select_one('#contents > div.content > fieldset > fieldset > div.tableType01 > table > tbody > tr:nth-child(2) > td:nth-child(4)')\n",
        "print(tag_table)\n",
        "print(type(tag_table))"
      ],
      "metadata": {
        "colab": {
          "base_uri": "https://localhost:8080/"
        },
        "id": "xLtMzdaACDON",
        "outputId": "bf61cbb7-ccb4-4602-fcb0-005616974e7c"
      },
      "execution_count": 26,
      "outputs": [
        {
          "output_type": "stream",
          "name": "stdout",
          "text": [
            "<Response [200]>\n",
            "<class 'bs4.BeautifulSoup'>\n",
            "['ASCII_SPACES', 'DEFAULT_BUILDER_FEATURES', 'DEFAULT_INTERESTING_STRING_TYPES', 'NO_PARSER_SPECIFIED_WARNING', 'ROOT_TAG_NAME', '__bool__', '__call__', '__class__', '__contains__', '__copy__', '__delattr__', '__delitem__', '__dict__', '__dir__', '__doc__', '__eq__', '__format__', '__ge__', '__getattr__', '__getattribute__', '__getitem__', '__getstate__', '__gt__', '__hash__', '__init__', '__init_subclass__', '__iter__', '__le__', '__len__', '__lt__', '__module__', '__ne__', '__new__', '__reduce__', '__reduce_ex__', '__repr__', '__setattr__', '__setitem__', '__sizeof__', '__str__', '__subclasshook__', '__unicode__', '__weakref__', '_all_strings', '_decode_markup', '_feed', '_find_all', '_find_one', '_is_xml', '_lastRecursiveChild', '_last_descendant', '_linkage_fixer', '_markup_is_url', '_markup_resembles_filename', '_most_recent_element', '_namespaces', '_popToTag', '_should_pretty_print', 'append', 'attrs', 'builder', 'can_be_empty_element', 'cdata_list_attributes', 'childGenerator', 'children', 'clear', 'contains_replacement_characters', 'contents', 'currentTag', 'current_data', 'declared_html_encoding', 'decode', 'decode_contents', 'decompose', 'decomposed', 'default', 'descendants', 'element_classes', 'encode', 'encode_contents', 'endData', 'extend', 'extract', 'fetchNextSiblings', 'fetchParents', 'fetchPrevious', 'fetchPreviousSiblings', 'find', 'findAll', 'findAllNext', 'findAllPrevious', 'findChild', 'findChildren', 'findNext', 'findNextSibling', 'findNextSiblings', 'findParent', 'findParents', 'findPrevious', 'findPreviousSibling', 'findPreviousSiblings', 'find_all', 'find_all_next', 'find_all_previous', 'find_next', 'find_next_sibling', 'find_next_siblings', 'find_parent', 'find_parents', 'find_previous', 'find_previous_sibling', 'find_previous_siblings', 'format_string', 'formatter_for_name', 'get', 'getText', 'get_attribute_list', 'get_text', 'handle_data', 'handle_endtag', 'handle_starttag', 'has_attr', 'has_key', 'hidden', 'index', 'insert', 'insert_after', 'insert_before', 'interesting_string_types', 'isSelfClosing', 'is_empty_element', 'is_xml', 'known_xml', 'markup', 'name', 'namespace', 'new_string', 'new_tag', 'next', 'nextGenerator', 'nextSibling', 'nextSiblingGenerator', 'next_element', 'next_elements', 'next_sibling', 'next_siblings', 'object_was_parsed', 'open_tag_counter', 'original_encoding', 'parent', 'parentGenerator', 'parents', 'parse_only', 'parserClass', 'parser_class', 'popTag', 'prefix', 'preserve_whitespace_tag_stack', 'preserve_whitespace_tags', 'prettify', 'previous', 'previousGenerator', 'previousSibling', 'previousSiblingGenerator', 'previous_element', 'previous_elements', 'previous_sibling', 'previous_siblings', 'pushTag', 'recursiveChildGenerator', 'renderContents', 'replaceWith', 'replaceWithChildren', 'replace_with', 'replace_with_children', 'reset', 'select', 'select_one', 'setup', 'smooth', 'string', 'string_container', 'string_container_stack', 'strings', 'stripped_strings', 'tagStack', 'text', 'unwrap', 'wrap']\n",
            "<class 'bs4.element.Tag'>\n",
            "<class 'bs4.element.ResultSet'>\n",
            "<td class=\"center_t\"><a href=\"#\" onclick=\"javascript:storeView(1102); return false;\">경기도 성남시 분당구 구미로173번길 82 (구미동, 분당서울대학교병원) 본관 1동</a></td>\n",
            "<class 'bs4.element.Tag'>\n"
          ]
        }
      ]
    }
  ]
}