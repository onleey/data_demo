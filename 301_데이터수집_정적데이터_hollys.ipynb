{
  "nbformat": 4,
  "nbformat_minor": 0,
  "metadata": {
    "colab": {
      "provenance": [],
      "authorship_tag": "ABX9TyMXXvcEaZW0jCXYdC6jT8L7",
      "include_colab_link": true
    },
    "kernelspec": {
      "name": "python3",
      "display_name": "Python 3"
    },
    "language_info": {
      "name": "python"
    }
  },
  "cells": [
    {
      "cell_type": "markdown",
      "metadata": {
        "id": "view-in-github",
        "colab_type": "text"
      },
      "source": [
        "<a href=\"https://colab.research.google.com/github/onleey/data_demo/blob/master/301_%EB%8D%B0%EC%9D%B4%ED%84%B0%EC%88%98%EC%A7%91_%EC%A0%95%EC%A0%81%EB%8D%B0%EC%9D%B4%ED%84%B0_hollys.ipynb\" target=\"_parent\"><img src=\"https://colab.research.google.com/assets/colab-badge.svg\" alt=\"Open In Colab\"/></a>"
      ]
    },
    {
      "cell_type": "code",
      "execution_count": 2,
      "metadata": {
        "id": "tG913LtT8_qJ"
      },
      "outputs": [],
      "source": [
        "import requests\n",
        "# import bs4\n",
        "\n",
        "from bs4 import BeautifulSoup"
      ]
    },
    {
      "cell_type": "code",
      "source": [
        "url = 'https://www.hollys.co.kr/store/korea/korStore2.do'\n",
        "\n",
        "res = requests.get(url)\n",
        "print(res)    # Response [200]\n",
        "\n",
        "soup = BeautifulSoup(res.text, 'html.parser')\n",
        "#print(soup)\n",
        "print(type(soup))  #bs4.BeautifulSoup\n",
        "print(dir(soup))\n",
        "\n",
        "\n",
        "tag_body = soup.find('tbody')\n",
        "#print(tag_body)\n",
        "print(type(tag_body))  # bs4.element.Tag\n",
        "\n",
        "tag_tr = tag_body.find_all('tr')\n",
        "#print(tag_tr)\n",
        "print(type(tag_tr)) # bs4.element.ResultSet"
      ],
      "metadata": {
        "colab": {
          "base_uri": "https://localhost:8080/"
        },
        "id": "R51QQ0MB9WvW",
        "outputId": "ef15ce0a-2f99-4983-f741-fed4d4084833"
      },
      "execution_count": 3,
      "outputs": [
        {
          "output_type": "stream",
          "name": "stdout",
          "text": [
            "<Response [200]>\n",
            "<class 'bs4.BeautifulSoup'>\n",
            "['ASCII_SPACES', 'DEFAULT_BUILDER_FEATURES', 'DEFAULT_INTERESTING_STRING_TYPES', 'NO_PARSER_SPECIFIED_WARNING', 'ROOT_TAG_NAME', '__bool__', '__call__', '__class__', '__contains__', '__copy__', '__delattr__', '__delitem__', '__dict__', '__dir__', '__doc__', '__eq__', '__format__', '__ge__', '__getattr__', '__getattribute__', '__getitem__', '__getstate__', '__gt__', '__hash__', '__init__', '__init_subclass__', '__iter__', '__le__', '__len__', '__lt__', '__module__', '__ne__', '__new__', '__reduce__', '__reduce_ex__', '__repr__', '__setattr__', '__setitem__', '__sizeof__', '__str__', '__subclasshook__', '__unicode__', '__weakref__', '_all_strings', '_decode_markup', '_feed', '_find_all', '_find_one', '_is_xml', '_lastRecursiveChild', '_last_descendant', '_linkage_fixer', '_markup_is_url', '_markup_resembles_filename', '_most_recent_element', '_namespaces', '_popToTag', '_should_pretty_print', 'append', 'attrs', 'builder', 'can_be_empty_element', 'cdata_list_attributes', 'childGenerator', 'children', 'clear', 'contains_replacement_characters', 'contents', 'currentTag', 'current_data', 'declared_html_encoding', 'decode', 'decode_contents', 'decompose', 'decomposed', 'default', 'descendants', 'element_classes', 'encode', 'encode_contents', 'endData', 'extend', 'extract', 'fetchNextSiblings', 'fetchParents', 'fetchPrevious', 'fetchPreviousSiblings', 'find', 'findAll', 'findAllNext', 'findAllPrevious', 'findChild', 'findChildren', 'findNext', 'findNextSibling', 'findNextSiblings', 'findParent', 'findParents', 'findPrevious', 'findPreviousSibling', 'findPreviousSiblings', 'find_all', 'find_all_next', 'find_all_previous', 'find_next', 'find_next_sibling', 'find_next_siblings', 'find_parent', 'find_parents', 'find_previous', 'find_previous_sibling', 'find_previous_siblings', 'format_string', 'formatter_for_name', 'get', 'getText', 'get_attribute_list', 'get_text', 'handle_data', 'handle_endtag', 'handle_starttag', 'has_attr', 'has_key', 'hidden', 'index', 'insert', 'insert_after', 'insert_before', 'interesting_string_types', 'isSelfClosing', 'is_empty_element', 'is_xml', 'known_xml', 'markup', 'name', 'namespace', 'new_string', 'new_tag', 'next', 'nextGenerator', 'nextSibling', 'nextSiblingGenerator', 'next_element', 'next_elements', 'next_sibling', 'next_siblings', 'object_was_parsed', 'open_tag_counter', 'original_encoding', 'parent', 'parentGenerator', 'parents', 'parse_only', 'parserClass', 'parser_class', 'popTag', 'prefix', 'preserve_whitespace_tag_stack', 'preserve_whitespace_tags', 'prettify', 'previous', 'previousGenerator', 'previousSibling', 'previousSiblingGenerator', 'previous_element', 'previous_elements', 'previous_sibling', 'previous_siblings', 'pushTag', 'recursiveChildGenerator', 'renderContents', 'replaceWith', 'replaceWithChildren', 'replace_with', 'replace_with_children', 'reset', 'select', 'select_one', 'setup', 'smooth', 'string', 'string_container', 'string_container_stack', 'strings', 'stripped_strings', 'tagStack', 'text', 'unwrap', 'wrap']\n",
            "<class 'bs4.element.Tag'>\n",
            "<class 'bs4.element.ResultSet'>\n"
          ]
        }
      ]
    },
    {
      "cell_type": "code",
      "source": [
        "tag_table = soup.select_one('table.tb_store tbody')    # find() = select_one()\n",
        "#print(tag_table)\n",
        "print(type(tag_table))    #bs4.element.Tag\n",
        "\n",
        "tag_tr_list = tag_table.select('tr')                # find_all()  = select()\n",
        "#print(tag_tr_list)\n",
        "\n",
        "\n"
      ],
      "metadata": {
        "colab": {
          "base_uri": "https://localhost:8080/"
        },
        "id": "QmNSNp7_9vfw",
        "outputId": "1cef14b2-83a9-485d-e67a-63e4d96c67f5"
      },
      "execution_count": 4,
      "outputs": [
        {
          "output_type": "stream",
          "name": "stdout",
          "text": [
            "<class 'bs4.element.Tag'>\n"
          ]
        }
      ]
    },
    {
      "cell_type": "code",
      "source": [
        "len (tag_tr_list)"
      ],
      "metadata": {
        "colab": {
          "base_uri": "https://localhost:8080/"
        },
        "id": "HpjknMAYXUOA",
        "outputId": "b9ccde3f-8620-476b-968b-912816a47379"
      },
      "execution_count": 5,
      "outputs": [
        {
          "output_type": "execute_result",
          "data": {
            "text/plain": [
              "10"
            ]
          },
          "metadata": {},
          "execution_count": 5
        }
      ]
    },
    {
      "cell_type": "code",
      "source": [
        "for store in tag_tr_list:\n",
        " td_list = store.find_all('td')\n",
        " print(td_list[0].text)\n",
        "  # store_id = store[0].text\n",
        "\n",
        " #break"
      ],
      "metadata": {
        "colab": {
          "base_uri": "https://localhost:8080/"
        },
        "id": "sNyRgZ_mXAY-",
        "outputId": "e3dd7000-c9cf-4273-8ee3-f79b28891cf6"
      },
      "execution_count": 6,
      "outputs": [
        {
          "output_type": "stream",
          "name": "stdout",
          "text": [
            "서울 중랑구\n",
            "경기 성남시 분당구\n",
            "서울 광진구\n",
            "경기 오산시\n",
            "서울 양천구\n",
            "경기 오산시\n",
            "서울 용산구\n",
            "서울 강서구\n",
            "부산 사상구\n",
            "강원 춘천시\n"
          ]
        }
      ]
    },
    {
      "cell_type": "code",
      "source": [
        "for store in tag_tr_list:\n",
        "#  td_area = store.select_one('td.noline.center_t')\n",
        "#  print(td_area.text)\n",
        " td_list = store.select('td')\n",
        " print(td_list[0].text, td_list[1].text, td_list[2].text, td_list[3].text, td_list[5].text)\n",
        "\n",
        "\n",
        "\n",
        " #break"
      ],
      "metadata": {
        "colab": {
          "base_uri": "https://localhost:8080/"
        },
        "id": "2YQtSMmtYjor",
        "outputId": "63ca9306-a261-4a92-acec-5943d753e8d1"
      },
      "execution_count": 7,
      "outputs": [
        {
          "output_type": "stream",
          "name": "stdout",
          "text": [
            "서울 중랑구 중랑역점 영업중 서울특별시 중랑구 망우로 210 (상봉동) . 02.6085.7858\n",
            "경기 성남시 분당구 분당서울대병원점 영업중 경기도 성남시 분당구 구미로173번길 82 (구미동, 분당서울대학교병원) 본관 1동 031-8039-6020\n",
            "서울 광진구 강변역점 영업중 서울 광진구 구의강변로 64, 구의아크로리버 1층 구의동 589-10 070-7802-0303\n",
            "경기 오산시 오산궐동점 오픈예정 경기도 오산시 궐리사길 34, 1층 031-374-7999\n",
            "서울 양천구 서서울공원점 영업중 서울특별시 양천구 남부순환로58길 37 신월동 205-36 070-4277-6756\n",
            "경기 오산시 오산역점 영업중 경기도 오산시 오산로 195 (오산동, 명신예식홀) . 031-8042-7719\n",
            "서울 용산구 용산아이파크몰점 영업중 서울특별시 용산구 한강대로23길 55 (한강로3가, 용산역) 4층 02-2012-0473\n",
            "서울 강서구 등촌역점 영업중 서울특별시 강서구 등촌로 229 (등촌동)  02-2655-2290\n",
            "부산 사상구 부산서부터미널점 영업중 부산광역시 사상구 사상로 201 (괘법동, 서부시외버스터미널) . 051-323-0305\n",
            "강원 춘천시 춘천강원대점 영업중 강원특별자치도 춘천시 서부대성로 229 (효자동) . 033-253-0425\n"
          ]
        }
      ]
    },
    {
      "cell_type": "code",
      "source": [
        "result = []\n",
        "\n",
        "for store in tag_tr_list:\n",
        "  td_area = store.select_one('td.noline.center_t')\n",
        "  td_point = store.select_one('td:nth-child(2)')\n",
        "  td_open = store.select_one ('td.center_t.tdp0')\n",
        "  td_addr = store.select_one('td:nth-child(4)')\n",
        "  td_tel = store.select_one('td:nth-child(6)')\n",
        "  result.append([td_area.text]+[td_point.text]+[td_open.text]+[td_addr.text]+[td_tel.text])\n",
        "  print(td_area.text, td_point.text, td_open.text, td_addr.text, td_tel.text)"
      ],
      "metadata": {
        "colab": {
          "base_uri": "https://localhost:8080/"
        },
        "id": "lndKWuYSaZsK",
        "outputId": "675e1beb-8b87-40fd-a0dd-465579c14e26"
      },
      "execution_count": 8,
      "outputs": [
        {
          "output_type": "stream",
          "name": "stdout",
          "text": [
            "서울 중랑구 중랑역점 영업중 서울특별시 중랑구 망우로 210 (상봉동) . 02.6085.7858\n",
            "경기 성남시 분당구 분당서울대병원점 영업중 경기도 성남시 분당구 구미로173번길 82 (구미동, 분당서울대학교병원) 본관 1동 031-8039-6020\n",
            "서울 광진구 강변역점 영업중 서울 광진구 구의강변로 64, 구의아크로리버 1층 구의동 589-10 070-7802-0303\n",
            "경기 오산시 오산궐동점 오픈예정 경기도 오산시 궐리사길 34, 1층 031-374-7999\n",
            "서울 양천구 서서울공원점 영업중 서울특별시 양천구 남부순환로58길 37 신월동 205-36 070-4277-6756\n",
            "경기 오산시 오산역점 영업중 경기도 오산시 오산로 195 (오산동, 명신예식홀) . 031-8042-7719\n",
            "서울 용산구 용산아이파크몰점 영업중 서울특별시 용산구 한강대로23길 55 (한강로3가, 용산역) 4층 02-2012-0473\n",
            "서울 강서구 등촌역점 영업중 서울특별시 강서구 등촌로 229 (등촌동)  02-2655-2290\n",
            "부산 사상구 부산서부터미널점 영업중 부산광역시 사상구 사상로 201 (괘법동, 서부시외버스터미널) . 051-323-0305\n",
            "강원 춘천시 춘천강원대점 영업중 강원특별자치도 춘천시 서부대성로 229 (효자동) . 033-253-0425\n"
          ]
        }
      ]
    },
    {
      "cell_type": "code",
      "source": [
        "from google.colab import drive\n",
        "drive.mount('/content/drive')"
      ],
      "metadata": {
        "colab": {
          "base_uri": "https://localhost:8080/"
        },
        "id": "Uba4QsYpcwy4",
        "outputId": "6d2da3d1-5755-43d2-e34e-205e2b2c6007"
      },
      "execution_count": 24,
      "outputs": [
        {
          "output_type": "stream",
          "name": "stdout",
          "text": [
            "Drive already mounted at /content/drive; to attempt to forcibly remount, call drive.mount(\"/content/drive\", force_remount=True).\n"
          ]
        }
      ]
    },
    {
      "cell_type": "code",
      "source": [
        "%cd /content/drive/MyDrive/001"
      ],
      "metadata": {
        "colab": {
          "base_uri": "https://localhost:8080/"
        },
        "id": "alYtmjPyc_do",
        "outputId": "c9564da2-9387-4041-9b89-681efb4e6f30"
      },
      "execution_count": 25,
      "outputs": [
        {
          "output_type": "stream",
          "name": "stdout",
          "text": [
            "/content/drive/MyDrive/001\n"
          ]
        }
      ]
    },
    {
      "cell_type": "code",
      "source": [
        "!pwd"
      ],
      "metadata": {
        "colab": {
          "base_uri": "https://localhost:8080/"
        },
        "id": "hD3w8QAadMS7",
        "outputId": "2615c5a1-3404-4ec9-b936-cad5341bc7ef"
      },
      "execution_count": 26,
      "outputs": [
        {
          "output_type": "stream",
          "name": "stdout",
          "text": [
            "/content/drive/MyDrive/001\n"
          ]
        }
      ]
    },
    {
      "cell_type": "code",
      "source": [
        "import csv\n",
        "\n",
        "fields = ['store_area', 'store_point', 'store_open', 'store_addr', 'store_tel']\n",
        "\n",
        "with open('./001_1/hollys.csv', 'w') as f:\n",
        "  write = csv.writer(f)\n",
        "  write.writerow(fields)\n",
        "  write.writerows(result)"
      ],
      "metadata": {
        "id": "RlqnH497dgkI"
      },
      "execution_count": 12,
      "outputs": []
    },
    {
      "cell_type": "markdown",
      "source": [
        "파일 읽기"
      ],
      "metadata": {
        "id": "9aaJS8v1gRfX"
      }
    },
    {
      "cell_type": "code",
      "source": [
        "import csv\n",
        "\n",
        "with open('./001_1/hollys.csv', 'r') as f:\n",
        "  reader = csv.reader(f)\n",
        "  for row in reader:\n",
        "    # # print(row)\n",
        "    # print(type(row))\n",
        "\n",
        "    #  for cell in row:\n",
        "    #    print(cell, end=',')\n",
        "    #  print(end='\\n')\n",
        "\n",
        "   print (','.join(row))"
      ],
      "metadata": {
        "colab": {
          "base_uri": "https://localhost:8080/"
        },
        "id": "UQcudBzJgTlW",
        "outputId": "4c6db921-4629-4732-a900-24a8428918ec"
      },
      "execution_count": 13,
      "outputs": [
        {
          "output_type": "stream",
          "name": "stdout",
          "text": [
            "store_area,store_point,store_open,store_addr,store_tel\n",
            "서울 중랑구,중랑역점,영업중,서울특별시 중랑구 망우로 210 (상봉동) .,02.6085.7858\n",
            "경기 성남시 분당구,분당서울대병원점,영업중,경기도 성남시 분당구 구미로173번길 82 (구미동, 분당서울대학교병원) 본관 1동,031-8039-6020\n",
            "서울 광진구,강변역점,영업중,서울 광진구 구의강변로 64, 구의아크로리버 1층 구의동 589-10,070-7802-0303\n",
            "경기 오산시,오산궐동점,오픈예정,경기도 오산시 궐리사길 34, 1층,031-374-7999\n",
            "서울 양천구,서서울공원점,영업중,서울특별시 양천구 남부순환로58길 37 신월동 205-36,070-4277-6756\n",
            "경기 오산시,오산역점,영업중,경기도 오산시 오산로 195 (오산동, 명신예식홀) .,031-8042-7719\n",
            "서울 용산구,용산아이파크몰점,영업중,서울특별시 용산구 한강대로23길 55 (한강로3가, 용산역) 4층,02-2012-0473\n",
            "서울 강서구,등촌역점,영업중,서울특별시 강서구 등촌로 229 (등촌동) ,02-2655-2290\n",
            "부산 사상구,부산서부터미널점,영업중,부산광역시 사상구 사상로 201 (괘법동, 서부시외버스터미널) .,051-323-0305\n",
            "강원 춘천시,춘천강원대점,영업중,강원특별자치도 춘천시 서부대성로 229 (효자동) .,033-253-0425\n"
          ]
        }
      ]
    },
    {
      "cell_type": "code",
      "source": [
        "import csv\n",
        "\n",
        "with open('./001_1/hollys.csv', 'r') as f:\n",
        "  reader = csv.reader(f)\n",
        "\n",
        "  for row in reader:\n",
        "    #print(row)\n",
        "    #print(type(row))\n",
        "\n",
        "    # for cell in row:\n",
        "    #   print(cell, end=',')\n",
        "    # print(end='\\n')\n",
        "\n",
        "   print(','.join(row))"
      ],
      "metadata": {
        "colab": {
          "base_uri": "https://localhost:8080/"
        },
        "id": "K0i4XYGKmgwI",
        "outputId": "d487494b-910a-4e2e-92a7-3e51ada30345"
      },
      "execution_count": 14,
      "outputs": [
        {
          "output_type": "stream",
          "name": "stdout",
          "text": [
            "store_area,store_point,store_open,store_addr,store_tel\n",
            "서울 중랑구,중랑역점,영업중,서울특별시 중랑구 망우로 210 (상봉동) .,02.6085.7858\n",
            "경기 성남시 분당구,분당서울대병원점,영업중,경기도 성남시 분당구 구미로173번길 82 (구미동, 분당서울대학교병원) 본관 1동,031-8039-6020\n",
            "서울 광진구,강변역점,영업중,서울 광진구 구의강변로 64, 구의아크로리버 1층 구의동 589-10,070-7802-0303\n",
            "경기 오산시,오산궐동점,오픈예정,경기도 오산시 궐리사길 34, 1층,031-374-7999\n",
            "서울 양천구,서서울공원점,영업중,서울특별시 양천구 남부순환로58길 37 신월동 205-36,070-4277-6756\n",
            "경기 오산시,오산역점,영업중,경기도 오산시 오산로 195 (오산동, 명신예식홀) .,031-8042-7719\n",
            "서울 용산구,용산아이파크몰점,영업중,서울특별시 용산구 한강대로23길 55 (한강로3가, 용산역) 4층,02-2012-0473\n",
            "서울 강서구,등촌역점,영업중,서울특별시 강서구 등촌로 229 (등촌동) ,02-2655-2290\n",
            "부산 사상구,부산서부터미널점,영업중,부산광역시 사상구 사상로 201 (괘법동, 서부시외버스터미널) .,051-323-0305\n",
            "강원 춘천시,춘천강원대점,영업중,강원특별자치도 춘천시 서부대성로 229 (효자동) .,033-253-0425\n"
          ]
        }
      ]
    },
    {
      "cell_type": "code",
      "source": [
        "import datetime\n",
        "\n",
        "now =datetime.datetime.today()\n",
        "print(now)\n",
        "print(dir(now))\n",
        "\n",
        "print(now.year, now.month, now.day, now.hour , now.minute,now.second)"
      ],
      "metadata": {
        "colab": {
          "base_uri": "https://localhost:8080/"
        },
        "id": "niTALKzFlsbe",
        "outputId": "6e1954f1-fdcc-4a07-a7e2-c7891907a68d"
      },
      "execution_count": 15,
      "outputs": [
        {
          "output_type": "stream",
          "name": "stdout",
          "text": [
            "2023-11-28 05:36:17.452326\n",
            "['__add__', '__class__', '__delattr__', '__dir__', '__doc__', '__eq__', '__format__', '__ge__', '__getattribute__', '__gt__', '__hash__', '__init__', '__init_subclass__', '__le__', '__lt__', '__ne__', '__new__', '__radd__', '__reduce__', '__reduce_ex__', '__repr__', '__rsub__', '__setattr__', '__sizeof__', '__str__', '__sub__', '__subclasshook__', 'astimezone', 'combine', 'ctime', 'date', 'day', 'dst', 'fold', 'fromisocalendar', 'fromisoformat', 'fromordinal', 'fromtimestamp', 'hour', 'isocalendar', 'isoformat', 'isoweekday', 'max', 'microsecond', 'min', 'minute', 'month', 'now', 'replace', 'resolution', 'second', 'strftime', 'strptime', 'time', 'timestamp', 'timetuple', 'timetz', 'today', 'toordinal', 'tzinfo', 'tzname', 'utcfromtimestamp', 'utcnow', 'utcoffset', 'utctimetuple', 'weekday', 'year']\n",
            "2023 11 28 5 36 17\n"
          ]
        }
      ]
    },
    {
      "cell_type": "code",
      "source": [
        "a= [['a','b']]\n",
        "b = a.copy()\n",
        "print(b)\n",
        "del a[:]\n",
        "print(b)\n",
        "print(a)\n",
        "\n",
        "a.append(['d','e'])\n",
        "b = a.copy()\n",
        "print(b)"
      ],
      "metadata": {
        "colab": {
          "base_uri": "https://localhost:8080/"
        },
        "id": "LrDNhlIibJAs",
        "outputId": "8c71c60c-ef03-4c88-cbb5-302523c1dd40"
      },
      "execution_count": 16,
      "outputs": [
        {
          "output_type": "stream",
          "name": "stdout",
          "text": [
            "[['a', 'b']]\n",
            "[['a', 'b']]\n",
            "[]\n",
            "[['d', 'e']]\n"
          ]
        }
      ]
    },
    {
      "cell_type": "markdown",
      "source": [
        "## 파일작성하여 크롤링하기"
      ],
      "metadata": {
        "id": "jqMyjYVrmWkd"
      }
    },
    {
      "cell_type": "code",
      "source": [
        "!pwd"
      ],
      "metadata": {
        "colab": {
          "base_uri": "https://localhost:8080/"
        },
        "id": "DXJ6828evCAB",
        "outputId": "03da0324-e75a-4de2-84c7-cb20217b0e05"
      },
      "execution_count": 17,
      "outputs": [
        {
          "output_type": "stream",
          "name": "stdout",
          "text": [
            "/content/drive/MyDrive/001\n"
          ]
        }
      ]
    },
    {
      "cell_type": "code",
      "source": [
        "%%writefile ./001_1/hollys_collector.py\n",
        "\n",
        "from bs4 import BeautifulSoup\n",
        "import requests\n",
        "import csv\n",
        "import datetime\n",
        "\n",
        "result = []\n",
        "rowdata = []\n",
        "\n",
        "def hollys_process():\n",
        "\n",
        "  url = 'https://www.hollys.co.kr/store/korea/korStore2.do'\n",
        "  res = requests.get(url)\n",
        "\n",
        "  soup = BeautifulSoup(res.text, 'html.parser')\n",
        "  tag_table = soup.select_one('table.tb_store tbody')\n",
        "  tag_tr_list = tag_table.select('tr')\n",
        "\n",
        "  for store in tag_tr_list:\n",
        "   td_area =  store.select_one('td.noline.center_t').text\n",
        "   td_point = store.select_one('td:nth-child(2)').text\n",
        "   td_open = store.select_one('td.center_t.tdp0').text\n",
        "   td_addr = store.select_one('td:nth-child(4)').text\n",
        "   td_tel = store.select_one('td:nth-child(6)').text\n",
        "   result.append([td_area]+[td_point]+[td_open]+[td_addr]+[td_tel])\n",
        "\n",
        "\n",
        "  global rowdata\n",
        "  rowdata = rerult.copy()\n",
        "\n",
        "\n",
        "def hollys_save(filename):\n",
        "  fields = ['store_area', 'store_point', 'store_open', 'store_addr', 'store_tel']\n",
        "\n",
        "\n",
        "  with open('./001_1/'+filename, 'w') as f:\n",
        "    write = csv.writer(f)\n",
        "    write.writerow(fields)\n",
        "    write.writerows(rowdata)\n",
        "\n",
        "  print('hollys 데이터 저장 완료')\n",
        "  del result[:]\n",
        "\n",
        "\n",
        "def hollys_load(filename):\n",
        " with open('./001_1/'+filename, 'r') as f:\n",
        "  reader = csv.reader(f)\n",
        "\n",
        "  for row in reader:\n",
        "    print(','.join(row))\n",
        "\n",
        "\n",
        "if __name__ == '__main__':\n",
        "   hollys_process()\n",
        "\n",
        "   to_now = datetime.datetime.now()\n",
        "   to_now = to_now.strftime('%Y-%m-%d %H:%M:%s')\n",
        "\n",
        "   #filename = '%s-hollys.csv' % (to_now)\n",
        "   filename ='{}-hollys.csv'.format(to_now)\n",
        "   hollys_save(filename)\n",
        "\n",
        "   hollys_load(filename)\n",
        "\n"
      ],
      "metadata": {
        "colab": {
          "base_uri": "https://localhost:8080/"
        },
        "id": "ytZMTgsWmds7",
        "outputId": "09898af3-6472-4818-ab9c-9dc3008b79eb"
      },
      "execution_count": 32,
      "outputs": [
        {
          "output_type": "stream",
          "name": "stdout",
          "text": [
            "Writing ./001_1/hollys_collector.py\n"
          ]
        }
      ]
    },
    {
      "cell_type": "code",
      "source": [
        "to_now =datetime.datetime.now()\n",
        "to_now = to_now.strftime('%Y-%m-%d %H:%M:%s')\n",
        "to_now"
      ],
      "metadata": {
        "colab": {
          "base_uri": "https://localhost:8080/",
          "height": 35
        },
        "id": "KazmC-vpqVFz",
        "outputId": "8338997f-08bc-4185-cbc0-37a830789c0c"
      },
      "execution_count": 19,
      "outputs": [
        {
          "output_type": "execute_result",
          "data": {
            "text/plain": [
              "'2023-11-28 05:36:1701149777'"
            ],
            "application/vnd.google.colaboratory.intrinsic+json": {
              "type": "string"
            }
          },
          "metadata": {},
          "execution_count": 19
        }
      ]
    },
    {
      "cell_type": "code",
      "source": [
        "!python ./001_1/hollys_collector.py"
      ],
      "metadata": {
        "colab": {
          "base_uri": "https://localhost:8080/"
        },
        "id": "tJOYr6QBuPpA",
        "outputId": "760b8cd1-8f1e-4ca1-b2c9-e7183395bd1b"
      },
      "execution_count": 27,
      "outputs": [
        {
          "output_type": "stream",
          "name": "stdout",
          "text": [
            "python3: can't open file '/content/drive/MyDrive/001/./001_1/hollys_collector.py': [Errno 2] No such file or directory\n"
          ]
        }
      ]
    }
  ]
}