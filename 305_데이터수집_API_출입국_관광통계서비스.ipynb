{
  "nbformat": 4,
  "nbformat_minor": 0,
  "metadata": {
    "colab": {
      "provenance": [],
      "authorship_tag": "ABX9TyNJRnmnRc25piNbLDcD1Hrx",
      "include_colab_link": true
    },
    "kernelspec": {
      "name": "python3",
      "display_name": "Python 3"
    },
    "language_info": {
      "name": "python"
    }
  },
  "cells": [
    {
      "cell_type": "markdown",
      "metadata": {
        "id": "view-in-github",
        "colab_type": "text"
      },
      "source": [
        "<a href=\"https://colab.research.google.com/github/onleey/data_demo/blob/master/305_%EB%8D%B0%EC%9D%B4%ED%84%B0%EC%88%98%EC%A7%91_API_%EC%B6%9C%EC%9E%85%EA%B5%AD_%EA%B4%80%EA%B4%91%ED%86%B5%EA%B3%84%EC%84%9C%EB%B9%84%EC%8A%A4.ipynb\" target=\"_parent\"><img src=\"https://colab.research.google.com/assets/colab-badge.svg\" alt=\"Open In Colab\"/></a>"
      ]
    },
    {
      "cell_type": "markdown",
      "source": [
        "#한국문화 출입국 관광통계 서비스\n",
        "\n",
        "https://www.data.go.kr/iim/api/selectAPIAcountView.do"
      ],
      "metadata": {
        "id": "2DLDPjZFJwjF"
      }
    },
    {
      "cell_type": "markdown",
      "source": [
        "구글드라이브 연동"
      ],
      "metadata": {
        "id": "PhsK-8spJ2dd"
      }
    },
    {
      "cell_type": "code",
      "execution_count": 22,
      "metadata": {
        "colab": {
          "base_uri": "https://localhost:8080/"
        },
        "id": "XE_bESsFJpeQ",
        "outputId": "12961423-fc62-4a63-fd7d-df371604dcec"
      },
      "outputs": [
        {
          "output_type": "stream",
          "name": "stdout",
          "text": [
            "Drive already mounted at /content/drive; to attempt to forcibly remount, call drive.mount(\"/content/drive\", force_remount=True).\n",
            "/content/drive/MyDrive/001\n"
          ]
        }
      ],
      "source": [
        "from google.colab import drive\n",
        "drive.mount('/content/drive')\n",
        "\n",
        "%cd  '/content/drive/MyDrive/001'"
      ]
    },
    {
      "cell_type": "code",
      "source": [
        "!pip install xmltodict"
      ],
      "metadata": {
        "colab": {
          "base_uri": "https://localhost:8080/"
        },
        "id": "mkUlzH6FKB11",
        "outputId": "0dea8a59-bf0a-4034-a0b5-a2f18f72f332"
      },
      "execution_count": 23,
      "outputs": [
        {
          "output_type": "stream",
          "name": "stdout",
          "text": [
            "Requirement already satisfied: xmltodict in /usr/local/lib/python3.10/dist-packages (0.13.0)\n"
          ]
        }
      ]
    },
    {
      "cell_type": "code",
      "source": [
        "import requests\n",
        "import json\n",
        "import xmltodict\n",
        "\n",
        "#ServiceKey = \"RXVwJwSXdyxU0kdWMO5CrpUiEgHX3e4qA5XiX2UFfO2uO2OM9ZHsO4MiGOgo9%2BAVrbnnBwYFuEqT2Im1wTbj6g%3D%3D\"\n",
        "ServiceKey = 'RXVwJwSXdyxU0kdWMO5CrpUiEgHX3e4qA5XiX2UFfO2uO2OM9ZHsO4MiGOgo9+AVrbnnBwYFuEqT2Im1wTbj6g=='\n",
        "\n",
        "def getTourismStatesItem(yyyymm, national_code, ed_cd):\n",
        "    url = 'http://openapi.tour.go.kr/openapi/service/EdrcntTourismStatsService/getEdrcntTourismStatsList'\n",
        "    params ={'serviceKey' : ServiceKey, 'YM' : '201201', 'NAT_CD' : '112', 'ED_CD' : 'E' }\n",
        "\n",
        "    response = requests.get(url,params=params)\n",
        "    #print(response.content)\n",
        "    #print(response.text)\n",
        "    return response.text\n",
        "\n",
        "jsonResult = []\n",
        "result = []\n",
        "natName =''\n",
        "\n",
        "\n",
        "print('<<국내 입국한 외국인의 통계를 수집합니다.>>')\n",
        "nat_cd = input('국가 코드를 입력하세요(중국 : 112 / 일본 : 130 / 미국 : 275) :')\n",
        "nStartYear = int(input('데이터를 몇 년부터 수집할까요?:'))\n",
        "nEndYear = int(input('데이터를 몇 년까지 수집할까요?:'))\n",
        "ed_cd = 'E' #E:방한외래관광객, D:해외 출국\n",
        "\n",
        "dataEND = '{0}{1:0>2}'.format(str(nEndYear), str(12))\n",
        "\n",
        "print(dataEND)\n",
        "isDataEnd = 0  #데이터 끝 확인용 flat 초기화\n",
        "\n",
        "for year in range(nStartYear, nEndYear+1):\n",
        "  for month in range (1,13):\n",
        "    if isDataEnd  == 1 :\n",
        "      break    # 데이터 끝 flag 설정되어있으면 작업중지\n",
        "    yyyymm = '{0}{1:0>2}'.format(str(year), str(month))\n",
        "\n",
        "    jsonData = getTourismStatesItem(yyyymm, nat_cd, ed_cd)\n",
        "    jsonData = xmltodict.parse(jsonData)\n",
        "    print(jsonData)\n",
        "\n",
        "\n",
        "\n"
      ],
      "metadata": {
        "colab": {
          "base_uri": "https://localhost:8080/"
        },
        "id": "OViax2mLKJ88",
        "outputId": "2350d1cb-af86-4d33-ba77-33105224cc3c"
      },
      "execution_count": 20,
      "outputs": [
        {
          "output_type": "stream",
          "name": "stdout",
          "text": [
            "<<국내 입국한 외국인의 통계를 수집합니다.>>\n",
            "국가 코드를 입력하세요(중국 : 112 / 일본 : 130 / 미국 : 275) :112\n",
            "데이터를 몇 년부터 수집할까요?:2016\n",
            "데이터를 몇 년까지 수집할까요?:2018\n",
            "201812\n",
            "{'response': {'header': {'responseTime': '2023-11-29T18:04:46.128+09:00', 'resultCode': '30', 'resultMsg': 'SERVICE KEY IS NOT REGISTERED ERROR.'}}}\n",
            "{'response': {'header': {'responseTime': '2023-11-29T18:04:46.550+09:00', 'resultCode': '30', 'resultMsg': 'SERVICE KEY IS NOT REGISTERED ERROR.'}}}\n",
            "{'response': {'header': {'responseTime': '2023-11-29T18:04:46.925+09:00', 'resultCode': '30', 'resultMsg': 'SERVICE KEY IS NOT REGISTERED ERROR.'}}}\n",
            "{'response': {'header': {'responseTime': '2023-11-29T18:04:47.300+09:00', 'resultCode': '30', 'resultMsg': 'SERVICE KEY IS NOT REGISTERED ERROR.'}}}\n",
            "{'response': {'header': {'responseTime': '2023-11-29T18:04:47.660+09:00', 'resultCode': '30', 'resultMsg': 'SERVICE KEY IS NOT REGISTERED ERROR.'}}}\n",
            "{'response': {'header': {'responseTime': '2023-11-29T18:04:48.066+09:00', 'resultCode': '30', 'resultMsg': 'SERVICE KEY IS NOT REGISTERED ERROR.'}}}\n",
            "{'response': {'header': {'responseTime': '2023-11-29T18:04:48.441+09:00', 'resultCode': '30', 'resultMsg': 'SERVICE KEY IS NOT REGISTERED ERROR.'}}}\n",
            "{'response': {'header': {'responseTime': '2023-11-29T18:04:48.816+09:00', 'resultCode': '30', 'resultMsg': 'SERVICE KEY IS NOT REGISTERED ERROR.'}}}\n",
            "{'response': {'header': {'responseTime': '2023-11-29T18:04:49.191+09:00', 'resultCode': '30', 'resultMsg': 'SERVICE KEY IS NOT REGISTERED ERROR.'}}}\n",
            "{'response': {'header': {'responseTime': '2023-11-29T18:04:49.566+09:00', 'resultCode': '30', 'resultMsg': 'SERVICE KEY IS NOT REGISTERED ERROR.'}}}\n",
            "{'response': {'header': {'responseTime': '2023-11-29T18:04:49.925+09:00', 'resultCode': '30', 'resultMsg': 'SERVICE KEY IS NOT REGISTERED ERROR.'}}}\n",
            "{'response': {'header': {'responseTime': '2023-11-29T18:04:50.300+09:00', 'resultCode': '30', 'resultMsg': 'SERVICE KEY IS NOT REGISTERED ERROR.'}}}\n",
            "{'response': {'header': {'responseTime': '2023-11-29T18:04:50.722+09:00', 'resultCode': '30', 'resultMsg': 'SERVICE KEY IS NOT REGISTERED ERROR.'}}}\n",
            "{'response': {'header': {'responseTime': '2023-11-29T18:04:51.128+09:00', 'resultCode': '30', 'resultMsg': 'SERVICE KEY IS NOT REGISTERED ERROR.'}}}\n",
            "{'response': {'header': {'responseTime': '2023-11-29T18:04:51.550+09:00', 'resultCode': '30', 'resultMsg': 'SERVICE KEY IS NOT REGISTERED ERROR.'}}}\n",
            "{'response': {'header': {'responseTime': '2023-11-29T18:04:51.925+09:00', 'resultCode': '30', 'resultMsg': 'SERVICE KEY IS NOT REGISTERED ERROR.'}}}\n",
            "{'response': {'header': {'responseTime': '2023-11-29T18:04:52.301+09:00', 'resultCode': '30', 'resultMsg': 'SERVICE KEY IS NOT REGISTERED ERROR.'}}}\n",
            "{'response': {'header': {'responseTime': '2023-11-29T18:04:52.662+09:00', 'resultCode': '30', 'resultMsg': 'SERVICE KEY IS NOT REGISTERED ERROR.'}}}\n",
            "{'response': {'header': {'responseTime': '2023-11-29T18:04:53.037+09:00', 'resultCode': '30', 'resultMsg': 'SERVICE KEY IS NOT REGISTERED ERROR.'}}}\n",
            "{'response': {'header': {'responseTime': '2023-11-29T18:04:53.412+09:00', 'resultCode': '30', 'resultMsg': 'SERVICE KEY IS NOT REGISTERED ERROR.'}}}\n",
            "{'response': {'header': {'responseTime': '2023-11-29T18:04:53.818+09:00', 'resultCode': '30', 'resultMsg': 'SERVICE KEY IS NOT REGISTERED ERROR.'}}}\n",
            "{'response': {'header': {'responseTime': '2023-11-29T18:04:54.240+09:00', 'resultCode': '30', 'resultMsg': 'SERVICE KEY IS NOT REGISTERED ERROR.'}}}\n",
            "{'response': {'header': {'responseTime': '2023-11-29T18:04:54.600+09:00', 'resultCode': '30', 'resultMsg': 'SERVICE KEY IS NOT REGISTERED ERROR.'}}}\n",
            "{'response': {'header': {'responseTime': '2023-11-29T18:04:55.021+09:00', 'resultCode': '30', 'resultMsg': 'SERVICE KEY IS NOT REGISTERED ERROR.'}}}\n",
            "{'response': {'header': {'responseTime': '2023-11-29T18:04:55.396+09:00', 'resultCode': '30', 'resultMsg': 'SERVICE KEY IS NOT REGISTERED ERROR.'}}}\n",
            "{'response': {'header': {'responseTime': '2023-11-29T18:04:55.756+09:00', 'resultCode': '30', 'resultMsg': 'SERVICE KEY IS NOT REGISTERED ERROR.'}}}\n",
            "{'response': {'header': {'responseTime': '2023-11-29T18:04:56.131+09:00', 'resultCode': '30', 'resultMsg': 'SERVICE KEY IS NOT REGISTERED ERROR.'}}}\n",
            "{'response': {'header': {'responseTime': '2023-11-29T18:04:56.506+09:00', 'resultCode': '30', 'resultMsg': 'SERVICE KEY IS NOT REGISTERED ERROR.'}}}\n",
            "{'response': {'header': {'responseTime': '2023-11-29T18:04:56.881+09:00', 'resultCode': '30', 'resultMsg': 'SERVICE KEY IS NOT REGISTERED ERROR.'}}}\n",
            "{'response': {'header': {'responseTime': '2023-11-29T18:04:57.256+09:00', 'resultCode': '30', 'resultMsg': 'SERVICE KEY IS NOT REGISTERED ERROR.'}}}\n",
            "{'response': {'header': {'responseTime': '2023-11-29T18:04:57.662+09:00', 'resultCode': '30', 'resultMsg': 'SERVICE KEY IS NOT REGISTERED ERROR.'}}}\n",
            "{'response': {'header': {'responseTime': '2023-11-29T18:04:58.037+09:00', 'resultCode': '30', 'resultMsg': 'SERVICE KEY IS NOT REGISTERED ERROR.'}}}\n",
            "{'response': {'header': {'responseTime': '2023-11-29T18:04:58.459+09:00', 'resultCode': '30', 'resultMsg': 'SERVICE KEY IS NOT REGISTERED ERROR.'}}}\n",
            "{'response': {'header': {'responseTime': '2023-11-29T18:04:58.834+09:00', 'resultCode': '30', 'resultMsg': 'SERVICE KEY IS NOT REGISTERED ERROR.'}}}\n",
            "{'response': {'header': {'responseTime': '2023-11-29T18:04:59.209+09:00', 'resultCode': '30', 'resultMsg': 'SERVICE KEY IS NOT REGISTERED ERROR.'}}}\n",
            "{'response': {'header': {'responseTime': '2023-11-29T18:04:59.584+09:00', 'resultCode': '30', 'resultMsg': 'SERVICE KEY IS NOT REGISTERED ERROR.'}}}\n"
          ]
        }
      ]
    },
    {
      "cell_type": "code",
      "source": [
        "params ={'serviceKey' : '서비스키', 'YM' : '201201', 'NAT_CD' : '112', 'ED_CD' : 'E' }"
      ],
      "metadata": {
        "id": "NDbHziACPeRj"
      },
      "execution_count": null,
      "outputs": []
    },
    {
      "cell_type": "code",
      "source": [
        "import requests\n",
        "import json\n",
        "import xmltodict\n",
        "\n",
        "#ServiceKey=\"B4QVX9oRn6HfmIKPAZyWMkU2EIAIzUbTEcQBY2awLLopq4s8oBjKIhAG8GdkYaLUbTk0H6vrlnHkoM6IAPn5aQ%3D%3D\"\n",
        "ServiceKey=\"B4QVX9oRn6HfmIKPAZyWMkU2EIAIzUbTEcQBY2awLLopq4s8oBjKIhAG8GdkYaLUbTk0H6vrlnHkoM6IAPn5aQ==\"\n",
        "#ServiceKey = 'RXVwJwSXdyxU0kdWMO5CrpUiEgHX3e4qA5XiX2UFfO2uO2OM9ZHsO4MiGOgo9+AVrbnnBwYFuEqT2Im1wTbj6g=='\n",
        "\n",
        "\n",
        "def getTourismStatesItem(yyyymm, national_code, ed_cd):\n",
        "    url = 'http://openapi.tour.go.kr/openapi/service/EdrcntTourismStatsService/getEdrcntTourismStatsList'\n",
        "    params ={'serviceKey' : ServiceKey, 'YM' : yyyymm, 'NAT_CD' : national_code, 'ED_CD' : ed_cd }\n",
        "\n",
        "    response = requests.get(url, params=params)\n",
        "    #print(response.content)\n",
        "    #print(response.text)\n",
        "    return response.text\n",
        "\n",
        "jsonResult = []\n",
        "result = []\n",
        "natName =''\n",
        "\n",
        "print('<<국내 입국한 외국인의 통계를 수집합니다.>>')\n",
        "nat_cd = input('국가 코드를 입력하세요(중국 : 112 / 일본 : 130 / 미국 : 275) :')\n",
        "nStartYear = int(input('데이터를 몇 년부터 수집할까요?:'))\n",
        "nEndYear = int(input('데이터를 몇 년까지 수집할까요?:'))\n",
        "ed_cd = 'E' #E:방한외래관광객, D:해외 출국\n",
        "\n",
        "dataEND = '{0}{1:0>2}'.format(str(nEndYear), str(12))\n",
        "print(dataEND)\n",
        "isDataEnd = 0 # 데이터 끝 확인용 flat 초기화\n",
        "\n",
        "for year in range(nStartYear,  nEndYear+1) :\n",
        "  for month in range(1, 13):\n",
        "    if isDataEnd == 1: break; # 데이터 끝 flag 설정되어 있으면 작업 중지\n",
        "    yyyymm = '{0}{1:0>2}'.format(str(year),str(month))\n",
        "\n",
        "    jsonData = getTourismStatesItem(yyyymm, nat_cd, ed_cd )\n",
        "    jsonData = xmltodict.parse(jsonData)\n",
        "    #print(jsonData)\n",
        "\n",
        "    if jsonData['response']['header']['resultMsg']=='OK':\n",
        "      if jsonData['response']['body']['items'] =='':\n",
        "         isDataEnd = 1 #데이터 끝 flag 설정\n",
        "         dataEND = '{0}{1:0>2}'.format(str(year), str(month-1))\n",
        "         print('데이터 없음...\\n 제공되는 통계 데이터는 %s년 %s월까지입니다.' % str(year), str(month-1))\n",
        "         break\n",
        "\n",
        "      #jsonData를 출력하여 확인...........................................\n",
        "      natName = jsonData['response']['body']['items']['item']['natKorNm']\n",
        "      natName = natName.replace(' ','')\n",
        "      num = jsonData['response']['body']['items']['item']['num']\n",
        "      ed = jsonData['response']['body']['items']['item']['ed']\n",
        "      print('[%s_%s : %s]' % (natName, num, ed))"
      ],
      "metadata": {
        "colab": {
          "base_uri": "https://localhost:8080/"
        },
        "id": "feO1NlmuU-FX",
        "outputId": "7cf03dd6-0ce7-4551-91d2-895b7e137377"
      },
      "execution_count": 29,
      "outputs": [
        {
          "output_type": "stream",
          "name": "stdout",
          "text": [
            "<<국내 입국한 외국인의 통계를 수집합니다.>>\n",
            "국가 코드를 입력하세요(중국 : 112 / 일본 : 130 / 미국 : 275) :112\n",
            "데이터를 몇 년부터 수집할까요?:2016\n",
            "데이터를 몇 년까지 수집할까요?:2018\n",
            "201812\n",
            "[중국_521981 : 방한외래관광객]\n",
            "[중국_546408 : 방한외래관광객]\n",
            "[중국_601671 : 방한외래관광객]\n",
            "[중국_682318 : 방한외래관광객]\n",
            "[중국_705844 : 방한외래관광객]\n",
            "[중국_758534 : 방한외래관광객]\n",
            "[중국_917519 : 방한외래관광객]\n",
            "[중국_873771 : 방한외래관광객]\n",
            "[중국_726266 : 방한외래관광객]\n",
            "[중국_680918 : 방한외래관광객]\n",
            "[중국_516956 : 방한외래관광객]\n",
            "[중국_535536 : 방한외래관광객]\n",
            "[중국_565243 : 방한외래관광객]\n",
            "[중국_590790 : 방한외래관광객]\n",
            "[중국_360782 : 방한외래관광객]\n",
            "[중국_227811 : 방한외래관광객]\n",
            "[중국_253359 : 방한외래관광객]\n",
            "[중국_254930 : 방한외래관광객]\n",
            "[중국_281263 : 방한외래관광객]\n",
            "[중국_339388 : 방한외래관광객]\n",
            "[중국_318682 : 방한외래관광객]\n",
            "[중국_345384 : 방한외래관광객]\n",
            "[중국_299247 : 방한외래관광객]\n",
            "[중국_332474 : 방한외래관광객]\n",
            "[중국_305127 : 방한외래관광객]\n",
            "[중국_345341 : 방한외래관광객]\n",
            "[중국_403413 : 방한외래관광객]\n",
            "[중국_366604 : 방한외래관광객]\n",
            "[중국_370222 : 방한외래관광객]\n",
            "[중국_379891 : 방한외래관광객]\n",
            "[중국_410337 : 방한외래관광객]\n",
            "[중국_478140 : 방한외래관광객]\n",
            "[중국_434595 : 방한외래관광객]\n",
            "[중국_475307 : 방한외래관광객]\n",
            "[중국_404256 : 방한외래관광객]\n",
            "[중국_416279 : 방한외래관광객]\n"
          ]
        }
      ]
    }
  ]
}