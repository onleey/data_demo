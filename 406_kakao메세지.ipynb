{
  "nbformat": 4,
  "nbformat_minor": 0,
  "metadata": {
    "colab": {
      "provenance": [],
      "authorship_tag": "ABX9TyPiMAj3AjNiliYuqo1gXoMU",
      "include_colab_link": true
    },
    "kernelspec": {
      "name": "python3",
      "display_name": "Python 3"
    },
    "language_info": {
      "name": "python"
    }
  },
  "cells": [
    {
      "cell_type": "markdown",
      "metadata": {
        "id": "view-in-github",
        "colab_type": "text"
      },
      "source": [
        "<a href=\"https://colab.research.google.com/github/onleey/data_demo/blob/master/406_kakao%EB%A9%94%EC%84%B8%EC%A7%80.ipynb\" target=\"_parent\"><img src=\"https://colab.research.google.com/assets/colab-badge.svg\" alt=\"Open In Colab\"/></a>"
      ]
    },
    {
      "cell_type": "markdown",
      "source": [
        "##코드값 등\n",
        "```\n",
        "e31455f0f686235c97c20a7aa23e6374\n",
        "\n",
        "\n",
        "https://localhost.com\n",
        "\n",
        "https://kauth.kakao.com/oauth/authorize?response_type=code&client_id=e31455f0f686235c97c20a7aa23e6374&redirect_uri=https://localhost.com\n",
        "\n",
        "https://localhost.com/?code=tPOSxtFk-gmnsVbibkRc4daubBHNnkKHnP1dqiBiimQWB1itDBkrZdwYBPcKPXQRAAABjDyh9ObHP8VuE1ZNOQ\n",
        "\n",
        "```"
      ],
      "metadata": {
        "id": "AR6P1pgCok-B"
      }
    },
    {
      "cell_type": "code",
      "source": [
        "from google.colab import drive\n",
        "drive.mount('/content/drive')\n",
        "\n",
        "%cd  '/content/drive/MyDrive/001'"
      ],
      "metadata": {
        "colab": {
          "base_uri": "https://localhost:8080/"
        },
        "id": "YSSyrhUao3SA",
        "outputId": "5a3a6eee-39e7-4a8d-a1fd-f6f7df3a1fa9"
      },
      "execution_count": 1,
      "outputs": [
        {
          "output_type": "stream",
          "name": "stdout",
          "text": [
            "Mounted at /content/drive\n",
            "/content/drive/MyDrive/001\n"
          ]
        }
      ]
    },
    {
      "cell_type": "code",
      "source": [
        "import requests\n",
        "\n",
        "url = 'https://kauth.kakao.com/oauth/token'\n",
        "\n",
        "data = {\n",
        "     'grant_type':'authorization_code',\n",
        "     'client_id':'e31455f0f686235c97c20a7aa23e6374',\n",
        "     'redirect_uri':'https://localhost.com',\n",
        "     'code':'xPekM3qGaBr4JmBTvevpHDaiy-k7GHcbPlKCz2Z__jGl8El4Qzq-CaaIhuUKPXKYAAABjDyy0G37Ewsnpgvovw'\n",
        "}\n",
        "\n",
        "response = requests.post(url, data=data)\n",
        "\n",
        "if response.status_code !=200:\n",
        "    print('error! because', response.json())\n",
        "else:\n",
        "  tokens = response.json()\n",
        "  print(tokens)\n"
      ],
      "metadata": {
        "colab": {
          "base_uri": "https://localhost:8080/"
        },
        "id": "7zRT0aPXpN-5",
        "outputId": "ff94bc39-d1b4-487b-9bc9-89a679766a84"
      },
      "execution_count": 17,
      "outputs": [
        {
          "output_type": "stream",
          "name": "stdout",
          "text": [
            "{'access_token': '4GOMFEyca_6W1uoIX_9u9O_Btn627s0kgtcKPXUZAAABjDy3Lf9b9Pmr5eg_ZA', 'token_type': 'bearer', 'refresh_token': 'o1UAfC5cGcatW-hsNpOYGe4sPTKuFvbTSgoKPXUZAAABjDy3Lfxb9Pmr5eg_ZA', 'expires_in': 21599, 'scope': 'talk_message profile_nickname', 'refresh_token_expires_in': 5183999}\n"
          ]
        }
      ]
    },
    {
      "cell_type": "markdown",
      "source": [
        "토큰 관리하기"
      ],
      "metadata": {
        "id": "QJGmCPXGx6Ec"
      }
    },
    {
      "cell_type": "code",
      "source": [
        "import json\n",
        "import requests\n",
        "import datetime\n",
        "import os\n",
        "\n",
        "# 카카오 토큰을 저장할 파일명\n",
        "KAKAO_TOKEN_FILENAME = \"res/kakao_message/kakao_token.json\"\n",
        "\n",
        "# 저장하는 함수\n",
        "def save_tokens(filename, tokens):\n",
        "    with open(filename, \"w\") as fp:\n",
        "        json.dump(tokens, fp)\n",
        "\n",
        "# 읽어오는 함수\n",
        "def load_tokens(filename):\n",
        "    with open(filename) as fp:\n",
        "        tokens = json.load(fp)\n",
        "\n",
        "    return tokens\n",
        "\n",
        "# refresh_token으로 access_token 갱신하는 함수\n",
        "def update_tokens(app_key, filename) :\n",
        "    tokens = load_tokens(filename)\n",
        "\n",
        "    url = \"https://kauth.kakao.com/oauth/token\"\n",
        "    data = {\n",
        "        \"grant_type\" : \"refresh_token\",\n",
        "        \"client_id\" : app_key,\n",
        "        \"refresh_token\" : tokens['refresh_token']\n",
        "    }\n",
        "    response = requests.post(url, data=data)\n",
        "\n",
        "    # 요청에 실패했다면,\n",
        "    if response.status_code != 200:\n",
        "        print(\"error! because \", response.json())\n",
        "        tokens = None\n",
        "    else: # 성공했다면,\n",
        "        print(response.json())\n",
        "        # 기존 파일 백업\n",
        "        now = datetime.datetime.now().strftime(\"%Y%m%d_%H%M%S\")\n",
        "        backup_filename = filename+\".\"+ now\n",
        "        os.rename(filename, backup_filename)\n",
        "        # 갱신된 토큰 저장\n",
        "        tokens['access_token'] = response.json()['access_token']\n",
        "        save_tokens(filename, tokens)\n",
        "\n",
        "    return tokens\n",
        "\n",
        "# 토큰 저장\n",
        "save_tokens(KAKAO_TOKEN_FILENAME, tokens)\n",
        "\n",
        "# 토큰 업데이트 -> 토큰 저장 필수!\n",
        "#KAKAO_APP_KEY = \"<REST_API 앱키를 입력하세요>\"\n",
        "#tokens = update_tokens(KAKAO_APP_KEY, KAKAO_TOKEN_FILENAME)\n",
        "#save_tokens(KAKAO_TOKEN_FILENAME, tokens)"
      ],
      "metadata": {
        "id": "XgkEPW3Nx4Um"
      },
      "execution_count": 18,
      "outputs": []
    },
    {
      "cell_type": "markdown",
      "source": [
        "## 구현하기"
      ],
      "metadata": {
        "id": "EUFEZQJZ0Dd8"
      }
    },
    {
      "cell_type": "markdown",
      "source": [
        "### 텍스트 메시지 템플릿을 사용하여 카카오톡 메시지 보내기  \n",
        "https://developers.kakao.com/docs/latest/ko/message/rest-api#default-template-msg"
      ],
      "metadata": {
        "id": "0Q44pwmp0jU8"
      }
    },
    {
      "cell_type": "code",
      "source": [
        "import json\n",
        "import requests\n",
        "\n",
        "#저장된 토큰 정보를 읽어옴\n",
        "tokens= load_tokens(KAKAO_TOKEN_FILENAME)\n",
        "\n",
        "\n",
        "# 텍스트메세지 url\n",
        "url ='https://kapi.kakao.com/v2/api/talk/memo/default/send'\n",
        "\n",
        "#request parameter 설정\n",
        "headers = {\n",
        "    'Authorization'\t: 'Bearer '+tokens['access_token']\n",
        "}\n",
        "\n",
        "data = {\n",
        "    'template_object': json.dumps({\n",
        "         'object_type':'text',\n",
        "         'text':'hello, world!',\n",
        "         'link':{\n",
        "             'web_url': 'https://www.naver.com',\n",
        "             'mobile_web_url': 'http://m.naver.com'\n",
        "         }\n",
        "    })\n",
        "}\n",
        "\n",
        "\n",
        "#나에게 카카오톡 메시지 보내기 요청 (text)\n",
        "response = requests.post(url,headers=headers, data=data)\n",
        "print(response.status_code)\n",
        "\n",
        "\n",
        "if response.status_code != 200:\n",
        "  print('error! because:', response.json())\n",
        "\n",
        "else:\n",
        "  print('메시지를 성공적으로 보냈습니다.')\n",
        "\n"
      ],
      "metadata": {
        "colab": {
          "base_uri": "https://localhost:8080/"
        },
        "id": "wHtwZ4iz0FRa",
        "outputId": "f85b5a19-80ef-4a7a-aab0-3b3de417c4da"
      },
      "execution_count": 25,
      "outputs": [
        {
          "output_type": "stream",
          "name": "stdout",
          "text": [
            "200\n",
            "메시지를 성공적으로 보냈습니다.\n"
          ]
        }
      ]
    },
    {
      "cell_type": "markdown",
      "source": [],
      "metadata": {
        "id": "iSAZExLN6IXR"
      }
    },
    {
      "cell_type": "code",
      "source": [
        "from tempfile import template\n",
        "import json\n",
        "import requests\n",
        "\n",
        "#저장된 토큰 정보를 읽어온다\n",
        "tokens = load_tokens(KAKAO_TOKEN_FILENAME)\n",
        "\n",
        "#리스트 메세지 url\n",
        "url ='https://kapi.kakao.com/v2/api/talk/memo/default/send'\n",
        "\n",
        "#request parameter 설정\n",
        "headers = {\n",
        "    'Authorization'\t: 'Bearer '+tokens['access_token']\n",
        "}\n",
        "\n",
        "template = {\n",
        "    \"object_type\" : \"list\",\n",
        "    \"header_title\" : \"초밥 사진\",\n",
        "    \"header_link\" : {\n",
        "        \"web_url\" : \"https://www.naver.com\",\n",
        "        \"mobile_web_url\" : \"https://www.naver.com\"\n",
        "    },\n",
        "    \"contents\" : [\n",
        "        {\n",
        "            \"title\" : \"1. 광어초밥\",\n",
        "            \"description\" : \"광어는맛있다\",\n",
        "            \"image_url\" : \"https://search1.kakaocdn.net/argon/0x200_85_hr/8x5qcdbcQwi\",\n",
        "            \"image_width\" : 50, \"image_height\" : 50,\n",
        "            \"link\" : {\n",
        "                \"web_url\" : \"https://www.naver.com\",\n",
        "                \"mobile_web_url\" : \"https://www.naver.com\"\n",
        "            }\n",
        "        },\n",
        "        {\n",
        "            \"title\" : \"2. 참치초밥\",\n",
        "            \"description\" : \"참치는맛있다\",\n",
        "            \"image_url\" : \"https://search2.kakaocdn.net/argon/0x200_85_hr/IjIToH1S7J1\",\n",
        "            \"image_width\" : 50, \"image_height\" : 50,\n",
        "            \"link\" : {\n",
        "                \"web_url\" : \"https://www.naver.com\",\n",
        "                \"mobile_web_url\" : \"https://www.naver.com\"\n",
        "            }\n",
        "        }\n",
        "\n",
        "    ],\n",
        "    \"buttons\" : [\n",
        "        {\n",
        "            \"title\" : \"웹으로 이동\",\n",
        "            \"link\" : {\n",
        "                \"web_url\" : \"https://www.naver.com\",\n",
        "                \"mobile_web_url\" : \"https://www.naver.com\"\n",
        "            }\n",
        "        }\n",
        "    ]\n",
        "\n",
        "}\n",
        "\n",
        "\n",
        "\n",
        "data = {\n",
        "      'template_object': json.dumps(template)\n",
        "}\n",
        "\n",
        "\n",
        "#나에게 카카오톡 메시지 보내기 요청 (list)\n",
        "response = requests.post(url,headers=headers, data=data)\n",
        "print(response.status_code)\n",
        "\n",
        "\n",
        "if response.status_code != 200:\n",
        "  print('error! because:', response.json())\n",
        "\n",
        "else:\n",
        "  print('메시지를 성공적으로 보냈습니다.')\n",
        "\n",
        "\n"
      ],
      "metadata": {
        "colab": {
          "base_uri": "https://localhost:8080/"
        },
        "id": "zHzqrzOz6KJH",
        "outputId": "b399ea6e-f18e-425e-cb98-bf4aa9b6b15e"
      },
      "execution_count": 30,
      "outputs": [
        {
          "output_type": "stream",
          "name": "stdout",
          "text": [
            "200\n",
            "메시지를 성공적으로 보냈습니다.\n"
          ]
        }
      ]
    },
    {
      "cell_type": "code",
      "source": [
        "%%writefile kakao_utils.py\n",
        "\n",
        "\n",
        "import json\n",
        "import os\n",
        "import datetime\n",
        "import requests\n",
        "\n",
        "# 저장하는 함수\n",
        "def save_tokens(filename, tokens):\n",
        "    with open(filename, \"w\") as fp:\n",
        "        json.dump(tokens, fp)\n",
        "\n",
        "# 읽어오는 함수\n",
        "def load_tokens(filename):\n",
        "    with open(filename) as fp:\n",
        "        tokens = json.load(fp)\n",
        "\n",
        "    return tokens\n",
        "\n",
        "# refresh_token으로 access_token 갱신하는 함수\n",
        "def update_tokens(app_key, filename) :\n",
        "    tokens = load_tokens(filename)\n",
        "\n",
        "    url = \"https://kauth.kakao.com/oauth/token\"\n",
        "    data = {\n",
        "        \"grant_type\" : \"refresh_token\",\n",
        "        \"client_id\"  : app_key,\n",
        "        \"refresh_token\" : tokens['refresh_token']\n",
        "    }\n",
        "    response = requests.post(url, data=data)\n",
        "\n",
        "    # 요청에 실패했다면,\n",
        "    if response.status_code != 200:\n",
        "        print(\"error! because \",  response.json())\n",
        "        tokens = None\n",
        "    else: # 성공했다면,\n",
        "        print(response.json())\n",
        "        # 기존 파일 백업\n",
        "        now = datetime.datetime.now().strftime(\"%Y%m%d_%H%M%S\")\n",
        "        backup_filename = filename+\".\"+ now\n",
        "        os.rename(filename, backup_filename)\n",
        "        # 갱신된 토큰 저장\n",
        "        tokens['access_token'] = response.json()['access_token']\n",
        "        save_tokens(filename, tokens)\n",
        "\n",
        "    return tokens\n",
        "\n",
        "# 메시지 전송 함수\n",
        "def send_message(filename, template):\n",
        "    tokens = load_tokens(filename)\n",
        "\n",
        "    headers = {\n",
        "        \"Authorization\": \"Bearer \" + tokens['access_token']\n",
        "    }\n",
        "\n",
        "    # JSON 형식 -> 문자열 변환\n",
        "    payload = {\n",
        "        \"template_object\" : json.dumps(template)\n",
        "    }\n",
        "\n",
        "    # 카카오톡 보내기\n",
        "    url = \"https://kapi.kakao.com/v2/api/talk/memo/default/send\"\n",
        "    res = requests.post(url, data=payload, headers=headers)\n",
        "\n",
        "    return res"
      ],
      "metadata": {
        "colab": {
          "base_uri": "https://localhost:8080/"
        },
        "id": "wBuYM7WeAs5_",
        "outputId": "cfd8d504-6565-4b64-99f0-2310a185db6e"
      },
      "execution_count": 38,
      "outputs": [
        {
          "output_type": "stream",
          "name": "stdout",
          "text": [
            "Overwriting kakao_utils.py\n"
          ]
        }
      ]
    },
    {
      "cell_type": "code",
      "source": [
        "import json\n",
        "import requests\n",
        "import kakao_utils\n",
        "\n",
        "KAKAO_TOKEN_FILENAME = 'res/kakao_message/kakao_token.json'\n",
        "\n",
        "#rest api 앱키를 입력\n",
        "KAKAO_APP_KEY ='e31455f0f686235c97c20a7aa23e6374'\n",
        "\n",
        "\n",
        "#토큰업데이트하기\n",
        "tokens= kakao_utils.update_tokens(KAKAO_APP_KEY,KAKAO_TOKEN_FILENAME)\n",
        "\n",
        "save_tokens(KAKAO_TOKEN_FILENAME, tokens)\n",
        "\n",
        "\n",
        "#텍스트 템플릿 형식 만들기\n",
        "template = {\n",
        "\n",
        "         'object_type':'text',\n",
        "         'text':'hello, world!',\n",
        "         'link':{\n",
        "             'web_url': 'https://www.naver.com',\n",
        "             'mobile_web_url': 'http://m.naver.com'\n",
        "         }\n",
        "      }\n",
        "\n",
        "\n",
        "#카카오톡 메세지 보내기\n",
        "response = kakao_utils.send_message(KAKAO_TOKEN_FILENAME,template)\n",
        "print(response.status_code)\n",
        "\n",
        "if response.status_code != 200:\n",
        "  print('error! because:', response.json())\n",
        "\n",
        "else:\n",
        "  print('메시지를 성공적으로 보냈습니다.')\n"
      ],
      "metadata": {
        "colab": {
          "base_uri": "https://localhost:8080/"
        },
        "id": "MfJjhsEfCEDJ",
        "outputId": "d349f4c2-2bb2-41ef-ae5f-9733328b6261"
      },
      "execution_count": 39,
      "outputs": [
        {
          "output_type": "stream",
          "name": "stdout",
          "text": [
            "{'access_token': 's70GgNJ34fsg1ImlW2lyBJajfmHzyMV1fc8KPXVcAAABjD0VRG5b9Pmr5eg_ZA', 'token_type': 'bearer', 'expires_in': 21599}\n",
            "200\n",
            "메시지를 성공적으로 보냈습니다.\n"
          ]
        }
      ]
    }
  ]
}