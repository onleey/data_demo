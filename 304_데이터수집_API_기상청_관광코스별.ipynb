{
  "nbformat": 4,
  "nbformat_minor": 0,
  "metadata": {
    "colab": {
      "provenance": [],
      "authorship_tag": "ABX9TyNDqP0ICzlxgY+hAB8UsZym",
      "include_colab_link": true
    },
    "kernelspec": {
      "name": "python3",
      "display_name": "Python 3"
    },
    "language_info": {
      "name": "python"
    }
  },
  "cells": [
    {
      "cell_type": "markdown",
      "metadata": {
        "id": "view-in-github",
        "colab_type": "text"
      },
      "source": [
        "<a href=\"https://colab.research.google.com/github/onleey/data_demo/blob/master/304_%EB%8D%B0%EC%9D%B4%ED%84%B0%EC%88%98%EC%A7%91_API_%EA%B8%B0%EC%83%81%EC%B2%AD_%EA%B4%80%EA%B4%91%EC%BD%94%EC%8A%A4%EB%B3%84.ipynb\" target=\"_parent\"><img src=\"https://colab.research.google.com/assets/colab-badge.svg\" alt=\"Open In Colab\"/></a>"
      ]
    },
    {
      "cell_type": "code",
      "source": [
        "api 에서 xml 받아온 데이터 처리"
      ],
      "metadata": {
        "id": "ifJoeHK8NQ0N"
      },
      "execution_count": null,
      "outputs": []
    },
    {
      "cell_type": "markdown",
      "source": [],
      "metadata": {
        "id": "j3ncZ0YANQt-"
      }
    },
    {
      "cell_type": "markdown",
      "source": [
        "공공데이터 포털  \n",
        "https://www.data.go.kr/index.do  \n",
        "https://www.data.go.kr/data/15056912/openapi.do  \n",
        "기상청 관광코스별  "
      ],
      "metadata": {
        "id": "1IXiSqqMFko6"
      }
    },
    {
      "cell_type": "markdown",
      "source": [
        "#구글드라이브연결"
      ],
      "metadata": {
        "id": "mkY9ZE9cFs7B"
      }
    },
    {
      "cell_type": "code",
      "execution_count": 3,
      "metadata": {
        "colab": {
          "base_uri": "https://localhost:8080/"
        },
        "id": "SHgC2fliDwqT",
        "outputId": "cdcd2035-7336-4196-d7a5-8528c1d8ef15"
      },
      "outputs": [
        {
          "output_type": "stream",
          "name": "stdout",
          "text": [
            "Mounted at /content/drive\n",
            "/content/drive/MyDrive/ai_chat_python\n"
          ]
        }
      ],
      "source": [
        "from google.colab import drive\n",
        "drive.mount('/content/drive')\n",
        "\n",
        "%cd  '/content/drive/MyDrive/ai_chat_python'"
      ]
    },
    {
      "cell_type": "code",
      "source": [
        "!pip install xmltodict"
      ],
      "metadata": {
        "colab": {
          "base_uri": "https://localhost:8080/"
        },
        "id": "rgRu2aeKg5Xa",
        "outputId": "b0408c42-d78c-41ae-cddb-c0c2cc20d815"
      },
      "execution_count": 2,
      "outputs": [
        {
          "output_type": "stream",
          "name": "stdout",
          "text": [
            "Collecting xmltodict\n",
            "  Downloading xmltodict-0.13.0-py2.py3-none-any.whl (10.0 kB)\n",
            "Installing collected packages: xmltodict\n",
            "Successfully installed xmltodict-0.13.0\n"
          ]
        }
      ]
    },
    {
      "cell_type": "code",
      "source": [],
      "metadata": {
        "id": "fqIz-xQFg5WO"
      },
      "execution_count": null,
      "outputs": []
    },
    {
      "cell_type": "code",
      "source": [
        "import requests\n",
        "import xmltodict\n",
        "import json"
      ],
      "metadata": {
        "id": "zzCSMdtEFyDa"
      },
      "execution_count": 4,
      "outputs": []
    },
    {
      "cell_type": "code",
      "source": [
        "url = 'http://apis.data.go.kr/1360000/TourStnInfoService1/getTourStnVilageFcst1'\n",
        "key = 'RXVwJwSXdyxU0kdWMO5CrpUiEgHX3e4qA5XiX2UFfO2uO2OM9ZHsO4MiGOgo9%2BAVrbnnBwYFuEqT2Im1wTbj6g%3D%3D'\n",
        "url += '?ServiceKey='+key+'&pageNo=1&numOfRows=10&dataType=json&CURRENT_DATE=2019120401&HOUR=24&COURSE_ID=1'\n",
        "\n",
        "response = requests.get(url)\n",
        "print(response)\n",
        "print(dir(response))\n",
        "print(type(response))\n",
        "print(response.json())"
      ],
      "metadata": {
        "id": "f9zyK1UMF1vp",
        "colab": {
          "base_uri": "https://localhost:8080/"
        },
        "outputId": "9b889405-819f-4e8b-d07b-76016f4a3d36"
      },
      "execution_count": null,
      "outputs": [
        {
          "output_type": "stream",
          "name": "stdout",
          "text": [
            "<Response [200]>\n",
            "['__attrs__', '__bool__', '__class__', '__delattr__', '__dict__', '__dir__', '__doc__', '__enter__', '__eq__', '__exit__', '__format__', '__ge__', '__getattribute__', '__getstate__', '__gt__', '__hash__', '__init__', '__init_subclass__', '__iter__', '__le__', '__lt__', '__module__', '__ne__', '__new__', '__nonzero__', '__reduce__', '__reduce_ex__', '__repr__', '__setattr__', '__setstate__', '__sizeof__', '__str__', '__subclasshook__', '__weakref__', '_content', '_content_consumed', '_next', 'apparent_encoding', 'close', 'connection', 'content', 'cookies', 'elapsed', 'encoding', 'headers', 'history', 'is_permanent_redirect', 'is_redirect', 'iter_content', 'iter_lines', 'json', 'links', 'next', 'ok', 'raise_for_status', 'raw', 'reason', 'request', 'status_code', 'text', 'url']\n",
            "<class 'requests.models.Response'>\n",
            "{'response': {'header': {'resultCode': '00', 'resultMsg': 'NORMAL_SERVICE'}, 'body': {'dataType': 'JSON', 'items': {'item': [{'tm': '2019-12-06 00:00', 'thema': '문화/예술', 'courseId': '1', 'courseAreaId': '4700000000', 'courseAreaName': '경상북도', 'courseName': '남호고택에서의 하룻밤', 'spotAreaId': 102, 'spotAreaName': '봉화', 'spotName': '(봉화)춘양목 송이마을', 'th3': -10, 'wd': 302, 'ws': 1, 'sky': 1, 'rhm': 55, 'pop': 0}, {'tm': '2019-12-06 00:00', 'thema': '종교/역사/전통', 'courseId': '1', 'courseAreaId': '4700000000', 'courseAreaName': '경상북도', 'courseName': '남호고택에서의 하룻밤', 'spotAreaId': 104, 'spotAreaName': '봉화', 'spotName': '(봉화)계서당(성이성 생가)', 'th3': -8, 'wd': 309, 'ws': 1, 'sky': 1, 'rhm': 50, 'pop': 0}, {'tm': '2019-12-06 00:00', 'thema': '자연/힐링', 'courseId': '1', 'courseAreaId': '4700000000', 'courseAreaName': '경상북도', 'courseName': '남호고택에서의 하룻밤', 'spotAreaId': 104, 'spotAreaName': '봉화', 'spotName': '(봉화)계서당(성이성 생가)', 'th3': -8, 'wd': 309, 'ws': 1, 'sky': 1, 'rhm': 50, 'pop': 0}, {'tm': '2019-12-06 00:00', 'thema': '체험/학습/산업', 'courseId': '1', 'courseAreaId': '4700000000', 'courseAreaName': '경상북도', 'courseName': '남호고택에서의 하룻밤', 'spotAreaId': 104, 'spotAreaName': '봉화', 'spotName': '(봉화)계서당(성이성 생가)', 'th3': -8, 'wd': 309, 'ws': 1, 'sky': 1, 'rhm': 50, 'pop': 0}, {'tm': '2019-12-06 00:00', 'thema': '문화/예술', 'courseId': '1', 'courseAreaId': '4700000000', 'courseAreaName': '경상북도', 'courseName': '남호고택에서의 하룻밤', 'spotAreaId': 103, 'spotAreaName': '봉화', 'spotName': '(봉화)지림사', 'th3': -7, 'wd': 304, 'ws': 1, 'sky': 1, 'rhm': 50, 'pop': 0}, {'tm': '2019-12-06 00:00', 'thema': '종교/역사/전통', 'courseId': '1', 'courseAreaId': '4700000000', 'courseAreaName': '경상북도', 'courseName': '남호고택에서의 하룻밤', 'spotAreaId': 103, 'spotAreaName': '봉화', 'spotName': '(봉화)지림사', 'th3': -7, 'wd': 304, 'ws': 1, 'sky': 1, 'rhm': 50, 'pop': 0}, {'tm': '2019-12-06 00:00', 'thema': '자연/힐링', 'courseId': '1', 'courseAreaId': '4700000000', 'courseAreaName': '경상북도', 'courseName': '남호고택에서의 하룻밤', 'spotAreaId': 103, 'spotAreaName': '봉화', 'spotName': '(봉화)지림사', 'th3': -7, 'wd': 304, 'ws': 1, 'sky': 1, 'rhm': 50, 'pop': 0}, {'tm': '2019-12-06 00:00', 'thema': '체험/학습/산업', 'courseId': '1', 'courseAreaId': '4700000000', 'courseAreaName': '경상북도', 'courseName': '남호고택에서의 하룻밤', 'spotAreaId': 103, 'spotAreaName': '봉화', 'spotName': '(봉화)지림사', 'th3': -7, 'wd': 304, 'ws': 1, 'sky': 1, 'rhm': 50, 'pop': 0}, {'tm': '2019-12-06 00:00', 'thema': '문화/예술', 'courseId': '1', 'courseAreaId': '4700000000', 'courseAreaName': '경상북도', 'courseName': '남호고택에서의 하룻밤', 'spotAreaId': 104, 'spotAreaName': '봉화', 'spotName': '(봉화)계서당(성이성 생가)', 'th3': -8, 'wd': 309, 'ws': 1, 'sky': 1, 'rhm': 50, 'pop': 0}, {'tm': '2019-12-06 00:00', 'thema': '종교/역사/전통', 'courseId': '1', 'courseAreaId': '4700000000', 'courseAreaName': '경상북도', 'courseName': '남호고택에서의 하룻밤', 'spotAreaId': 102, 'spotAreaName': '봉화', 'spotName': '(봉화)춘양목 송이마을', 'th3': -10, 'wd': 302, 'ws': 1, 'sky': 1, 'rhm': 55, 'pop': 0}]}, 'pageNo': 1, 'numOfRows': 10, 'totalCount': 256}}}\n"
          ]
        }
      ]
    },
    {
      "cell_type": "code",
      "source": [
        "print(response.text)"
      ],
      "metadata": {
        "colab": {
          "base_uri": "https://localhost:8080/"
        },
        "id": "Ufi7GvWrJBUo",
        "outputId": "bf821a3a-6ffc-4cba-f536-4e3fa7f80165"
      },
      "execution_count": null,
      "outputs": [
        {
          "output_type": "stream",
          "name": "stdout",
          "text": [
            "{\"response\":{\"header\":{\"resultCode\":\"00\",\"resultMsg\":\"NORMAL_SERVICE\"},\"body\":{\"dataType\":\"JSON\",\"items\":{\"item\":[{\"tm\":\"2019-12-06 00:00\",\"thema\":\"문화/예술\",\"courseId\":\"1\",\"courseAreaId\":\"4700000000\",\"courseAreaName\":\"경상북도\",\"courseName\":\"남호고택에서의 하룻밤\",\"spotAreaId\":102,\"spotAreaName\":\"봉화\",\"spotName\":\"(봉화)춘양목 송이마을\",\"th3\":-10,\"wd\":302,\"ws\":1,\"sky\":1,\"rhm\":55,\"pop\":0},{\"tm\":\"2019-12-06 00:00\",\"thema\":\"종교/역사/전통\",\"courseId\":\"1\",\"courseAreaId\":\"4700000000\",\"courseAreaName\":\"경상북도\",\"courseName\":\"남호고택에서의 하룻밤\",\"spotAreaId\":104,\"spotAreaName\":\"봉화\",\"spotName\":\"(봉화)계서당(성이성 생가)\",\"th3\":-8,\"wd\":309,\"ws\":1,\"sky\":1,\"rhm\":50,\"pop\":0},{\"tm\":\"2019-12-06 00:00\",\"thema\":\"자연/힐링\",\"courseId\":\"1\",\"courseAreaId\":\"4700000000\",\"courseAreaName\":\"경상북도\",\"courseName\":\"남호고택에서의 하룻밤\",\"spotAreaId\":104,\"spotAreaName\":\"봉화\",\"spotName\":\"(봉화)계서당(성이성 생가)\",\"th3\":-8,\"wd\":309,\"ws\":1,\"sky\":1,\"rhm\":50,\"pop\":0},{\"tm\":\"2019-12-06 00:00\",\"thema\":\"체험/학습/산업\",\"courseId\":\"1\",\"courseAreaId\":\"4700000000\",\"courseAreaName\":\"경상북도\",\"courseName\":\"남호고택에서의 하룻밤\",\"spotAreaId\":104,\"spotAreaName\":\"봉화\",\"spotName\":\"(봉화)계서당(성이성 생가)\",\"th3\":-8,\"wd\":309,\"ws\":1,\"sky\":1,\"rhm\":50,\"pop\":0},{\"tm\":\"2019-12-06 00:00\",\"thema\":\"문화/예술\",\"courseId\":\"1\",\"courseAreaId\":\"4700000000\",\"courseAreaName\":\"경상북도\",\"courseName\":\"남호고택에서의 하룻밤\",\"spotAreaId\":103,\"spotAreaName\":\"봉화\",\"spotName\":\"(봉화)지림사\",\"th3\":-7,\"wd\":304,\"ws\":1,\"sky\":1,\"rhm\":50,\"pop\":0},{\"tm\":\"2019-12-06 00:00\",\"thema\":\"종교/역사/전통\",\"courseId\":\"1\",\"courseAreaId\":\"4700000000\",\"courseAreaName\":\"경상북도\",\"courseName\":\"남호고택에서의 하룻밤\",\"spotAreaId\":103,\"spotAreaName\":\"봉화\",\"spotName\":\"(봉화)지림사\",\"th3\":-7,\"wd\":304,\"ws\":1,\"sky\":1,\"rhm\":50,\"pop\":0},{\"tm\":\"2019-12-06 00:00\",\"thema\":\"자연/힐링\",\"courseId\":\"1\",\"courseAreaId\":\"4700000000\",\"courseAreaName\":\"경상북도\",\"courseName\":\"남호고택에서의 하룻밤\",\"spotAreaId\":103,\"spotAreaName\":\"봉화\",\"spotName\":\"(봉화)지림사\",\"th3\":-7,\"wd\":304,\"ws\":1,\"sky\":1,\"rhm\":50,\"pop\":0},{\"tm\":\"2019-12-06 00:00\",\"thema\":\"체험/학습/산업\",\"courseId\":\"1\",\"courseAreaId\":\"4700000000\",\"courseAreaName\":\"경상북도\",\"courseName\":\"남호고택에서의 하룻밤\",\"spotAreaId\":103,\"spotAreaName\":\"봉화\",\"spotName\":\"(봉화)지림사\",\"th3\":-7,\"wd\":304,\"ws\":1,\"sky\":1,\"rhm\":50,\"pop\":0},{\"tm\":\"2019-12-06 00:00\",\"thema\":\"문화/예술\",\"courseId\":\"1\",\"courseAreaId\":\"4700000000\",\"courseAreaName\":\"경상북도\",\"courseName\":\"남호고택에서의 하룻밤\",\"spotAreaId\":104,\"spotAreaName\":\"봉화\",\"spotName\":\"(봉화)계서당(성이성 생가)\",\"th3\":-8,\"wd\":309,\"ws\":1,\"sky\":1,\"rhm\":50,\"pop\":0},{\"tm\":\"2019-12-06 00:00\",\"thema\":\"종교/역사/전통\",\"courseId\":\"1\",\"courseAreaId\":\"4700000000\",\"courseAreaName\":\"경상북도\",\"courseName\":\"남호고택에서의 하룻밤\",\"spotAreaId\":102,\"spotAreaName\":\"봉화\",\"spotName\":\"(봉화)춘양목 송이마을\",\"th3\":-10,\"wd\":302,\"ws\":1,\"sky\":1,\"rhm\":55,\"pop\":0}]},\"pageNo\":1,\"numOfRows\":10,\"totalCount\":256}}}\n"
          ]
        }
      ]
    },
    {
      "cell_type": "code",
      "source": [
        "url = 'http://apis.data.go.kr/1360000/TourStnInfoService1/getTourStnVilageFcst1'\n",
        "key = 'RXVwJwSXdyxU0kdWMO5CrpUiEgHX3e4qA5XiX2UFfO2uO2OM9ZHsO4MiGOgo9%2BAVrbnnBwYFuEqT2Im1wTbj6g%3D%3D'\n",
        "url += '?ServiceKey='+key+'&pageNo=1&numOfRows=10&dataType=xml&CURRENT_DATE=2019120401&HOUR=24&COURSE_ID=1'\n",
        "\n",
        "response = requests.get(url)\n",
        "print(response)\n",
        "print(dir(response))\n",
        "print(type(response))\n",
        "print(response.text)"
      ],
      "metadata": {
        "colab": {
          "base_uri": "https://localhost:8080/"
        },
        "id": "uImHATjHNb8e",
        "outputId": "25b7df59-f3f6-4785-dbc5-533787bb3995"
      },
      "execution_count": 6,
      "outputs": [
        {
          "output_type": "stream",
          "name": "stdout",
          "text": [
            "<Response [200]>\n",
            "['__attrs__', '__bool__', '__class__', '__delattr__', '__dict__', '__dir__', '__doc__', '__enter__', '__eq__', '__exit__', '__format__', '__ge__', '__getattribute__', '__getstate__', '__gt__', '__hash__', '__init__', '__init_subclass__', '__iter__', '__le__', '__lt__', '__module__', '__ne__', '__new__', '__nonzero__', '__reduce__', '__reduce_ex__', '__repr__', '__setattr__', '__setstate__', '__sizeof__', '__str__', '__subclasshook__', '__weakref__', '_content', '_content_consumed', '_next', 'apparent_encoding', 'close', 'connection', 'content', 'cookies', 'elapsed', 'encoding', 'headers', 'history', 'is_permanent_redirect', 'is_redirect', 'iter_content', 'iter_lines', 'json', 'links', 'next', 'ok', 'raise_for_status', 'raw', 'reason', 'request', 'status_code', 'text', 'url']\n",
            "<class 'requests.models.Response'>\n",
            "<?xml version=\"1.0\" encoding=\"UTF-8\"?>\r\n",
            "<response><header><resultCode>00</resultCode><resultMsg>NORMAL_SERVICE</resultMsg></header><body><dataType>XML</dataType><items><item><tm>2019-12-06 00:00</tm><thema>문화/예술</thema><courseId>1</courseId><courseAreaId>4700000000</courseAreaId><courseAreaName>경상북도</courseAreaName><courseName>남호고택에서의 하룻밤</courseName><spotAreaId>102</spotAreaId><spotAreaName>봉화</spotAreaName><spotName>(봉화)춘양목 송이마을</spotName><th3>-10</th3><wd>302</wd><ws>1</ws><sky>1</sky><rhm>55</rhm><pop>0</pop></item><item><tm>2019-12-06 00:00</tm><thema>종교/역사/전통</thema><courseId>1</courseId><courseAreaId>4700000000</courseAreaId><courseAreaName>경상북도</courseAreaName><courseName>남호고택에서의 하룻밤</courseName><spotAreaId>104</spotAreaId><spotAreaName>봉화</spotAreaName><spotName>(봉화)계서당(성이성 생가)</spotName><th3>-8</th3><wd>309</wd><ws>1</ws><sky>1</sky><rhm>50</rhm><pop>0</pop></item><item><tm>2019-12-06 00:00</tm><thema>자연/힐링</thema><courseId>1</courseId><courseAreaId>4700000000</courseAreaId><courseAreaName>경상북도</courseAreaName><courseName>남호고택에서의 하룻밤</courseName><spotAreaId>104</spotAreaId><spotAreaName>봉화</spotAreaName><spotName>(봉화)계서당(성이성 생가)</spotName><th3>-8</th3><wd>309</wd><ws>1</ws><sky>1</sky><rhm>50</rhm><pop>0</pop></item><item><tm>2019-12-06 00:00</tm><thema>체험/학습/산업</thema><courseId>1</courseId><courseAreaId>4700000000</courseAreaId><courseAreaName>경상북도</courseAreaName><courseName>남호고택에서의 하룻밤</courseName><spotAreaId>104</spotAreaId><spotAreaName>봉화</spotAreaName><spotName>(봉화)계서당(성이성 생가)</spotName><th3>-8</th3><wd>309</wd><ws>1</ws><sky>1</sky><rhm>50</rhm><pop>0</pop></item><item><tm>2019-12-06 00:00</tm><thema>문화/예술</thema><courseId>1</courseId><courseAreaId>4700000000</courseAreaId><courseAreaName>경상북도</courseAreaName><courseName>남호고택에서의 하룻밤</courseName><spotAreaId>103</spotAreaId><spotAreaName>봉화</spotAreaName><spotName>(봉화)지림사</spotName><th3>-7</th3><wd>304</wd><ws>1</ws><sky>1</sky><rhm>50</rhm><pop>0</pop></item><item><tm>2019-12-06 00:00</tm><thema>종교/역사/전통</thema><courseId>1</courseId><courseAreaId>4700000000</courseAreaId><courseAreaName>경상북도</courseAreaName><courseName>남호고택에서의 하룻밤</courseName><spotAreaId>103</spotAreaId><spotAreaName>봉화</spotAreaName><spotName>(봉화)지림사</spotName><th3>-7</th3><wd>304</wd><ws>1</ws><sky>1</sky><rhm>50</rhm><pop>0</pop></item><item><tm>2019-12-06 00:00</tm><thema>자연/힐링</thema><courseId>1</courseId><courseAreaId>4700000000</courseAreaId><courseAreaName>경상북도</courseAreaName><courseName>남호고택에서의 하룻밤</courseName><spotAreaId>103</spotAreaId><spotAreaName>봉화</spotAreaName><spotName>(봉화)지림사</spotName><th3>-7</th3><wd>304</wd><ws>1</ws><sky>1</sky><rhm>50</rhm><pop>0</pop></item><item><tm>2019-12-06 00:00</tm><thema>체험/학습/산업</thema><courseId>1</courseId><courseAreaId>4700000000</courseAreaId><courseAreaName>경상북도</courseAreaName><courseName>남호고택에서의 하룻밤</courseName><spotAreaId>103</spotAreaId><spotAreaName>봉화</spotAreaName><spotName>(봉화)지림사</spotName><th3>-7</th3><wd>304</wd><ws>1</ws><sky>1</sky><rhm>50</rhm><pop>0</pop></item><item><tm>2019-12-06 00:00</tm><thema>문화/예술</thema><courseId>1</courseId><courseAreaId>4700000000</courseAreaId><courseAreaName>경상북도</courseAreaName><courseName>남호고택에서의 하룻밤</courseName><spotAreaId>104</spotAreaId><spotAreaName>봉화</spotAreaName><spotName>(봉화)계서당(성이성 생가)</spotName><th3>-8</th3><wd>309</wd><ws>1</ws><sky>1</sky><rhm>50</rhm><pop>0</pop></item><item><tm>2019-12-06 00:00</tm><thema>종교/역사/전통</thema><courseId>1</courseId><courseAreaId>4700000000</courseAreaId><courseAreaName>경상북도</courseAreaName><courseName>남호고택에서의 하룻밤</courseName><spotAreaId>102</spotAreaId><spotAreaName>봉화</spotAreaName><spotName>(봉화)춘양목 송이마을</spotName><th3>-10</th3><wd>302</wd><ws>1</ws><sky>1</sky><rhm>55</rhm><pop>0</pop></item></items><numOfRows>10</numOfRows><pageNo>1</pageNo><totalCount>256</totalCount></body></response>\r\n",
            "\n"
          ]
        }
      ]
    },
    {
      "cell_type": "code",
      "source": [
        "if response.status_code == 200 :\n",
        "  xd = xmltodict.parse(response.text)\n",
        "  print(type(xd))\n",
        "  print(xd)"
      ],
      "metadata": {
        "colab": {
          "base_uri": "https://localhost:8080/"
        },
        "id": "kWlorB21hMq9",
        "outputId": "19ab3fa7-4086-4780-95af-2fd8caabf9b2"
      },
      "execution_count": 8,
      "outputs": [
        {
          "output_type": "stream",
          "name": "stdout",
          "text": [
            "<class 'dict'>\n",
            "{'response': {'header': {'resultCode': '00', 'resultMsg': 'NORMAL_SERVICE'}, 'body': {'dataType': 'XML', 'items': {'item': [{'tm': '2019-12-06 00:00', 'thema': '문화/예술', 'courseId': '1', 'courseAreaId': '4700000000', 'courseAreaName': '경상북도', 'courseName': '남호고택에서의 하룻밤', 'spotAreaId': '102', 'spotAreaName': '봉화', 'spotName': '(봉화)춘양목 송이마을', 'th3': '-10', 'wd': '302', 'ws': '1', 'sky': '1', 'rhm': '55', 'pop': '0'}, {'tm': '2019-12-06 00:00', 'thema': '종교/역사/전통', 'courseId': '1', 'courseAreaId': '4700000000', 'courseAreaName': '경상북도', 'courseName': '남호고택에서의 하룻밤', 'spotAreaId': '104', 'spotAreaName': '봉화', 'spotName': '(봉화)계서당(성이성 생가)', 'th3': '-8', 'wd': '309', 'ws': '1', 'sky': '1', 'rhm': '50', 'pop': '0'}, {'tm': '2019-12-06 00:00', 'thema': '자연/힐링', 'courseId': '1', 'courseAreaId': '4700000000', 'courseAreaName': '경상북도', 'courseName': '남호고택에서의 하룻밤', 'spotAreaId': '104', 'spotAreaName': '봉화', 'spotName': '(봉화)계서당(성이성 생가)', 'th3': '-8', 'wd': '309', 'ws': '1', 'sky': '1', 'rhm': '50', 'pop': '0'}, {'tm': '2019-12-06 00:00', 'thema': '체험/학습/산업', 'courseId': '1', 'courseAreaId': '4700000000', 'courseAreaName': '경상북도', 'courseName': '남호고택에서의 하룻밤', 'spotAreaId': '104', 'spotAreaName': '봉화', 'spotName': '(봉화)계서당(성이성 생가)', 'th3': '-8', 'wd': '309', 'ws': '1', 'sky': '1', 'rhm': '50', 'pop': '0'}, {'tm': '2019-12-06 00:00', 'thema': '문화/예술', 'courseId': '1', 'courseAreaId': '4700000000', 'courseAreaName': '경상북도', 'courseName': '남호고택에서의 하룻밤', 'spotAreaId': '103', 'spotAreaName': '봉화', 'spotName': '(봉화)지림사', 'th3': '-7', 'wd': '304', 'ws': '1', 'sky': '1', 'rhm': '50', 'pop': '0'}, {'tm': '2019-12-06 00:00', 'thema': '종교/역사/전통', 'courseId': '1', 'courseAreaId': '4700000000', 'courseAreaName': '경상북도', 'courseName': '남호고택에서의 하룻밤', 'spotAreaId': '103', 'spotAreaName': '봉화', 'spotName': '(봉화)지림사', 'th3': '-7', 'wd': '304', 'ws': '1', 'sky': '1', 'rhm': '50', 'pop': '0'}, {'tm': '2019-12-06 00:00', 'thema': '자연/힐링', 'courseId': '1', 'courseAreaId': '4700000000', 'courseAreaName': '경상북도', 'courseName': '남호고택에서의 하룻밤', 'spotAreaId': '103', 'spotAreaName': '봉화', 'spotName': '(봉화)지림사', 'th3': '-7', 'wd': '304', 'ws': '1', 'sky': '1', 'rhm': '50', 'pop': '0'}, {'tm': '2019-12-06 00:00', 'thema': '체험/학습/산업', 'courseId': '1', 'courseAreaId': '4700000000', 'courseAreaName': '경상북도', 'courseName': '남호고택에서의 하룻밤', 'spotAreaId': '103', 'spotAreaName': '봉화', 'spotName': '(봉화)지림사', 'th3': '-7', 'wd': '304', 'ws': '1', 'sky': '1', 'rhm': '50', 'pop': '0'}, {'tm': '2019-12-06 00:00', 'thema': '문화/예술', 'courseId': '1', 'courseAreaId': '4700000000', 'courseAreaName': '경상북도', 'courseName': '남호고택에서의 하룻밤', 'spotAreaId': '104', 'spotAreaName': '봉화', 'spotName': '(봉화)계서당(성이성 생가)', 'th3': '-8', 'wd': '309', 'ws': '1', 'sky': '1', 'rhm': '50', 'pop': '0'}, {'tm': '2019-12-06 00:00', 'thema': '종교/역사/전통', 'courseId': '1', 'courseAreaId': '4700000000', 'courseAreaName': '경상북도', 'courseName': '남호고택에서의 하룻밤', 'spotAreaId': '102', 'spotAreaName': '봉화', 'spotName': '(봉화)춘양목 송이마을', 'th3': '-10', 'wd': '302', 'ws': '1', 'sky': '1', 'rhm': '55', 'pop': '0'}]}, 'numOfRows': '10', 'pageNo': '1', 'totalCount': '256'}}}\n"
          ]
        }
      ]
    },
    {
      "cell_type": "code",
      "source": [
        "#item 접근\n",
        "w_data = xd['response']['body']['items']['item']\n",
        "print(type(w_data))\n",
        "print(w_data)"
      ],
      "metadata": {
        "colab": {
          "base_uri": "https://localhost:8080/"
        },
        "id": "-XRYQYPZh5kY",
        "outputId": "88e916f8-b87a-4bf6-d93a-6f68b7641f9c"
      },
      "execution_count": 9,
      "outputs": [
        {
          "output_type": "stream",
          "name": "stdout",
          "text": [
            "<class 'list'>\n",
            "[{'tm': '2019-12-06 00:00', 'thema': '문화/예술', 'courseId': '1', 'courseAreaId': '4700000000', 'courseAreaName': '경상북도', 'courseName': '남호고택에서의 하룻밤', 'spotAreaId': '102', 'spotAreaName': '봉화', 'spotName': '(봉화)춘양목 송이마을', 'th3': '-10', 'wd': '302', 'ws': '1', 'sky': '1', 'rhm': '55', 'pop': '0'}, {'tm': '2019-12-06 00:00', 'thema': '종교/역사/전통', 'courseId': '1', 'courseAreaId': '4700000000', 'courseAreaName': '경상북도', 'courseName': '남호고택에서의 하룻밤', 'spotAreaId': '104', 'spotAreaName': '봉화', 'spotName': '(봉화)계서당(성이성 생가)', 'th3': '-8', 'wd': '309', 'ws': '1', 'sky': '1', 'rhm': '50', 'pop': '0'}, {'tm': '2019-12-06 00:00', 'thema': '자연/힐링', 'courseId': '1', 'courseAreaId': '4700000000', 'courseAreaName': '경상북도', 'courseName': '남호고택에서의 하룻밤', 'spotAreaId': '104', 'spotAreaName': '봉화', 'spotName': '(봉화)계서당(성이성 생가)', 'th3': '-8', 'wd': '309', 'ws': '1', 'sky': '1', 'rhm': '50', 'pop': '0'}, {'tm': '2019-12-06 00:00', 'thema': '체험/학습/산업', 'courseId': '1', 'courseAreaId': '4700000000', 'courseAreaName': '경상북도', 'courseName': '남호고택에서의 하룻밤', 'spotAreaId': '104', 'spotAreaName': '봉화', 'spotName': '(봉화)계서당(성이성 생가)', 'th3': '-8', 'wd': '309', 'ws': '1', 'sky': '1', 'rhm': '50', 'pop': '0'}, {'tm': '2019-12-06 00:00', 'thema': '문화/예술', 'courseId': '1', 'courseAreaId': '4700000000', 'courseAreaName': '경상북도', 'courseName': '남호고택에서의 하룻밤', 'spotAreaId': '103', 'spotAreaName': '봉화', 'spotName': '(봉화)지림사', 'th3': '-7', 'wd': '304', 'ws': '1', 'sky': '1', 'rhm': '50', 'pop': '0'}, {'tm': '2019-12-06 00:00', 'thema': '종교/역사/전통', 'courseId': '1', 'courseAreaId': '4700000000', 'courseAreaName': '경상북도', 'courseName': '남호고택에서의 하룻밤', 'spotAreaId': '103', 'spotAreaName': '봉화', 'spotName': '(봉화)지림사', 'th3': '-7', 'wd': '304', 'ws': '1', 'sky': '1', 'rhm': '50', 'pop': '0'}, {'tm': '2019-12-06 00:00', 'thema': '자연/힐링', 'courseId': '1', 'courseAreaId': '4700000000', 'courseAreaName': '경상북도', 'courseName': '남호고택에서의 하룻밤', 'spotAreaId': '103', 'spotAreaName': '봉화', 'spotName': '(봉화)지림사', 'th3': '-7', 'wd': '304', 'ws': '1', 'sky': '1', 'rhm': '50', 'pop': '0'}, {'tm': '2019-12-06 00:00', 'thema': '체험/학습/산업', 'courseId': '1', 'courseAreaId': '4700000000', 'courseAreaName': '경상북도', 'courseName': '남호고택에서의 하룻밤', 'spotAreaId': '103', 'spotAreaName': '봉화', 'spotName': '(봉화)지림사', 'th3': '-7', 'wd': '304', 'ws': '1', 'sky': '1', 'rhm': '50', 'pop': '0'}, {'tm': '2019-12-06 00:00', 'thema': '문화/예술', 'courseId': '1', 'courseAreaId': '4700000000', 'courseAreaName': '경상북도', 'courseName': '남호고택에서의 하룻밤', 'spotAreaId': '104', 'spotAreaName': '봉화', 'spotName': '(봉화)계서당(성이성 생가)', 'th3': '-8', 'wd': '309', 'ws': '1', 'sky': '1', 'rhm': '50', 'pop': '0'}, {'tm': '2019-12-06 00:00', 'thema': '종교/역사/전통', 'courseId': '1', 'courseAreaId': '4700000000', 'courseAreaName': '경상북도', 'courseName': '남호고택에서의 하룻밤', 'spotAreaId': '102', 'spotAreaName': '봉화', 'spotName': '(봉화)춘양목 송이마을', 'th3': '-10', 'wd': '302', 'ws': '1', 'sky': '1', 'rhm': '55', 'pop': '0'}]\n"
          ]
        }
      ]
    },
    {
      "cell_type": "code",
      "source": [
        "#기상상태 출력\n",
        "dict_key = {'1':'맑음','2':'구름','3':'흐림','4':'비','5':'소나기','6':'비눈','7':'눈비','8':'눈' }\n",
        "\n",
        "\n",
        "key_sky = w_data[0]['sky']\n",
        "print(key_sky)\n",
        "print('기상상태:',dict_key[key_sky])"
      ],
      "metadata": {
        "colab": {
          "base_uri": "https://localhost:8080/"
        },
        "id": "T4oR4nY8h5jc",
        "outputId": "43b4d075-120f-4460-e31a-dacb49a4353a"
      },
      "execution_count": 14,
      "outputs": [
        {
          "output_type": "stream",
          "name": "stdout",
          "text": [
            "1\n",
            "기상상태: 맑음\n"
          ]
        }
      ]
    },
    {
      "cell_type": "code",
      "source": [
        "for i in range(len(w_data)):\n",
        "   key_sky = w_data[i]['sky']\n",
        "   print('관광지명:',w_data[i]['spotAreaName'])\n",
        "   print('시간',w_data[i]['tm'])\n",
        "   print('기온',w_data[i]['th3'])\n",
        "   print('강수확률',w_data[i]['pop'])\n",
        "   print('기상상태',dict_key[key_sky])\n",
        "\n",
        "\n",
        "\n",
        "   #총 item t수 출력\n",
        "   totalCount =xd['response']['body']['totalCount']\n",
        "   print('totalCount:', totalCount)"
      ],
      "metadata": {
        "colab": {
          "base_uri": "https://localhost:8080/"
        },
        "id": "2x151UB4jXO_",
        "outputId": "4f03f945-dc98-4fe8-cf87-c14b5438f808"
      },
      "execution_count": 19,
      "outputs": [
        {
          "output_type": "stream",
          "name": "stdout",
          "text": [
            "관광지명: 봉화\n",
            "시간 2019-12-06 00:00\n",
            "기온 -10\n",
            "강수확률 0\n",
            "기상상태 맑음\n",
            "totalCount: 256\n",
            "관광지명: 봉화\n",
            "시간 2019-12-06 00:00\n",
            "기온 -8\n",
            "강수확률 0\n",
            "기상상태 맑음\n",
            "totalCount: 256\n",
            "관광지명: 봉화\n",
            "시간 2019-12-06 00:00\n",
            "기온 -8\n",
            "강수확률 0\n",
            "기상상태 맑음\n",
            "totalCount: 256\n",
            "관광지명: 봉화\n",
            "시간 2019-12-06 00:00\n",
            "기온 -8\n",
            "강수확률 0\n",
            "기상상태 맑음\n",
            "totalCount: 256\n",
            "관광지명: 봉화\n",
            "시간 2019-12-06 00:00\n",
            "기온 -7\n",
            "강수확률 0\n",
            "기상상태 맑음\n",
            "totalCount: 256\n",
            "관광지명: 봉화\n",
            "시간 2019-12-06 00:00\n",
            "기온 -7\n",
            "강수확률 0\n",
            "기상상태 맑음\n",
            "totalCount: 256\n",
            "관광지명: 봉화\n",
            "시간 2019-12-06 00:00\n",
            "기온 -7\n",
            "강수확률 0\n",
            "기상상태 맑음\n",
            "totalCount: 256\n",
            "관광지명: 봉화\n",
            "시간 2019-12-06 00:00\n",
            "기온 -7\n",
            "강수확률 0\n",
            "기상상태 맑음\n",
            "totalCount: 256\n",
            "관광지명: 봉화\n",
            "시간 2019-12-06 00:00\n",
            "기온 -8\n",
            "강수확률 0\n",
            "기상상태 맑음\n",
            "totalCount: 256\n",
            "관광지명: 봉화\n",
            "시간 2019-12-06 00:00\n",
            "기온 -10\n",
            "강수확률 0\n",
            "기상상태 맑음\n",
            "totalCount: 256\n"
          ]
        }
      ]
    },
    {
      "cell_type": "markdown",
      "source": [],
      "metadata": {
        "id": "zODThf5jNbgl"
      }
    }
  ]
}