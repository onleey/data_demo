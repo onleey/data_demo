{
  "nbformat": 4,
  "nbformat_minor": 0,
  "metadata": {
    "colab": {
      "provenance": [],
      "authorship_tag": "ABX9TyN0xdfwqnvshi47fxh1PwLf",
      "include_colab_link": true
    },
    "kernelspec": {
      "name": "python3",
      "display_name": "Python 3"
    },
    "language_info": {
      "name": "python"
    }
  },
  "cells": [
    {
      "cell_type": "markdown",
      "metadata": {
        "id": "view-in-github",
        "colab_type": "text"
      },
      "source": [
        "<a href=\"https://colab.research.google.com/github/onleey/data_demo/blob/master/open_API_%EA%B5%AD%EB%AF%BC%EA%B1%B4%EA%B0%95%EB%B3%B4%ED%97%98%EA%B3%B5%EB%8B%A8_%EC%A7%88%EB%B3%91%EC%98%88%EC%B8%A1_%EC%A0%95%EB%B3%B43.ipynb\" target=\"_parent\"><img src=\"https://colab.research.google.com/assets/colab-badge.svg\" alt=\"Open In Colab\"/></a>"
      ]
    },
    {
      "cell_type": "markdown",
      "source": [
        "구글 드라이브 연동"
      ],
      "metadata": {
        "id": "90TcNO9v9-oq"
      }
    },
    {
      "cell_type": "code",
      "execution_count": 1,
      "metadata": {
        "colab": {
          "base_uri": "https://localhost:8080/"
        },
        "id": "f7j0r0Pi8jk5",
        "outputId": "24b93611-033b-4880-8fa4-15d6cb2a6b58"
      },
      "outputs": [
        {
          "output_type": "stream",
          "name": "stdout",
          "text": [
            "Mounted at /content/drive\n",
            "/content/drive/MyDrive/001\n"
          ]
        }
      ],
      "source": [
        "from google.colab import drive\n",
        "drive.mount('/content/drive')\n",
        "\n",
        "%cd  '/content/drive/MyDrive/001'"
      ]
    },
    {
      "cell_type": "code",
      "source": [
        "!pip install xmltodict"
      ],
      "metadata": {
        "colab": {
          "base_uri": "https://localhost:8080/"
        },
        "id": "AELITHnX-JSv",
        "outputId": "0fd2f9e3-f975-42bb-851f-df7f143b636b"
      },
      "execution_count": 2,
      "outputs": [
        {
          "output_type": "stream",
          "name": "stdout",
          "text": [
            "Collecting xmltodict\n",
            "  Downloading xmltodict-0.13.0-py2.py3-none-any.whl (10.0 kB)\n",
            "Installing collected packages: xmltodict\n",
            "Successfully installed xmltodict-0.13.0\n"
          ]
        }
      ]
    },
    {
      "cell_type": "code",
      "source": [
        "import requests\n",
        "import json\n",
        "import xmltodict\n",
        "\n",
        "key = 'RXVwJwSXdyxU0kdWMO5CrpUiEgHX3e4qA5XiX2UFfO2uO2OM9ZHsO4MiGOgo9%2BAVrbnnBwYFuEqT2Im1wTbj6g%3D%3D'\n",
        "#ServiceKey= 'RXVwJwSXdyxU0kdWMO5CrpUiEgHX3e4qA5XiX2UFfO2uO2OM9ZHsO4MiGOgo9+AVrbnnBwYFuEqT2Im1wTbj6g=='\n",
        "url = 'http://apis.data.go.kr/B550928/dissForecastInfoSvc/getDissForecastInfo'\n",
        "url +='?serviceKey='+ key +'&numOfRows=10&pageNo=1&type=json&dissCd=1&znCd='\n",
        "\n",
        "response = requests.get(url)\n",
        "print(response)            #<Response [200]>\n",
        "print(dir(response))\n",
        "print(type(response))     # requests.models.Response\n",
        "print(response.json())\n"
      ],
      "metadata": {
        "colab": {
          "base_uri": "https://localhost:8080/"
        },
        "id": "UWWdWbK_-NZ1",
        "outputId": "0d7cfe92-bf47-47d6-fc32-386990cb8eca"
      },
      "execution_count": 7,
      "outputs": [
        {
          "output_type": "stream",
          "name": "stdout",
          "text": [
            "<Response [200]>\n",
            "['__attrs__', '__bool__', '__class__', '__delattr__', '__dict__', '__dir__', '__doc__', '__enter__', '__eq__', '__exit__', '__format__', '__ge__', '__getattribute__', '__getstate__', '__gt__', '__hash__', '__init__', '__init_subclass__', '__iter__', '__le__', '__lt__', '__module__', '__ne__', '__new__', '__nonzero__', '__reduce__', '__reduce_ex__', '__repr__', '__setattr__', '__setstate__', '__sizeof__', '__str__', '__subclasshook__', '__weakref__', '_content', '_content_consumed', '_next', 'apparent_encoding', 'close', 'connection', 'content', 'cookies', 'elapsed', 'encoding', 'headers', 'history', 'is_permanent_redirect', 'is_redirect', 'iter_content', 'iter_lines', 'json', 'links', 'next', 'ok', 'raise_for_status', 'raw', 'reason', 'request', 'status_code', 'text', 'url']\n",
            "<class 'requests.models.Response'>\n",
            "{'response': {'header': {'resultCode': 0, 'resultMsg': 'NORMAL_SERVICE', 'type': 'json'}, 'body': {'items': [{'dissCd': '1', 'dt': '20231129', 'znCd': '11', 'lowrnkZnCd': '0', 'cnt': 73198, 'risk': 2, 'dissRiskXpln': '기침과 재채기를 할 때에는 반드시 휴지나 손수건으로 가리는 등 기침 에티켓을 지켜주시고 충분한 휴식 및 수분을 섭취합니다.'}, {'dissCd': '1', 'dt': '20231129', 'znCd': '26', 'lowrnkZnCd': '0', 'cnt': 27792, 'risk': 2, 'dissRiskXpln': '기침과 재채기를 할 때에는 반드시 휴지나 손수건으로 가리는 등 기침 에티켓을 지켜주시고 충분한 휴식 및 수분을 섭취합니다.'}, {'dissCd': '1', 'dt': '20231129', 'znCd': '27', 'lowrnkZnCd': '0', 'cnt': 18136, 'risk': 2, 'dissRiskXpln': '기침과 재채기를 할 때에는 반드시 휴지나 손수건으로 가리는 등 기침 에티켓을 지켜주시고 충분한 휴식 및 수분을 섭취합니다.'}, {'dissCd': '1', 'dt': '20231129', 'znCd': '28', 'lowrnkZnCd': '0', 'cnt': 19437, 'risk': 2, 'dissRiskXpln': '기침과 재채기를 할 때에는 반드시 휴지나 손수건으로 가리는 등 기침 에티켓을 지켜주시고 충분한 휴식 및 수분을 섭취합니다.'}, {'dissCd': '1', 'dt': '20231129', 'znCd': '29', 'lowrnkZnCd': '0', 'cnt': 10889, 'risk': 2, 'dissRiskXpln': '기침과 재채기를 할 때에는 반드시 휴지나 손수건으로 가리는 등 기침 에티켓을 지켜주시고 충분한 휴식 및 수분을 섭취합니다.'}, {'dissCd': '1', 'dt': '20231129', 'znCd': '30', 'lowrnkZnCd': '0', 'cnt': 12132, 'risk': 2, 'dissRiskXpln': '기침과 재채기를 할 때에는 반드시 휴지나 손수건으로 가리는 등 기침 에티켓을 지켜주시고 충분한 휴식 및 수분을 섭취합니다.'}, {'dissCd': '1', 'dt': '20231129', 'znCd': '31', 'lowrnkZnCd': '0', 'cnt': 9620, 'risk': 2, 'dissRiskXpln': '기침과 재채기를 할 때에는 반드시 휴지나 손수건으로 가리는 등 기침 에티켓을 지켜주시고 충분한 휴식 및 수분을 섭취합니다.'}, {'dissCd': '1', 'dt': '20231129', 'znCd': '41', 'lowrnkZnCd': '0', 'cnt': 85219, 'risk': 2, 'dissRiskXpln': '기침과 재채기를 할 때에는 반드시 휴지나 손수건으로 가리는 등 기침 에티켓을 지켜주시고 충분한 휴식 및 수분을 섭취합니다.'}, {'dissCd': '1', 'dt': '20231129', 'znCd': '42', 'lowrnkZnCd': '0', 'cnt': 9897, 'risk': 2, 'dissRiskXpln': '기침과 재채기를 할 때에는 반드시 휴지나 손수건으로 가리는 등 기침 에티켓을 지켜주시고 충분한 휴식 및 수분을 섭취합니다.'}, {'dissCd': '1', 'dt': '20231129', 'znCd': '43', 'lowrnkZnCd': '0', 'cnt': 10677, 'risk': 2, 'dissRiskXpln': '기침과 재채기를 할 때에는 반드시 휴지나 손수건으로 가리는 등 기침 에티켓을 지켜주시고 충분한 휴식 및 수분을 섭취합니다.'}], 'totalCount': 51, 'numOfRows': 10, 'pageNo': 1}}}\n"
          ]
        }
      ]
    },
    {
      "cell_type": "code",
      "source": [
        "print(response.text)"
      ],
      "metadata": {
        "colab": {
          "base_uri": "https://localhost:8080/"
        },
        "id": "Zbv4ZxEsBrp3",
        "outputId": "f9775f1d-4582-4759-f2e2-4561fe9a543a"
      },
      "execution_count": 8,
      "outputs": [
        {
          "output_type": "stream",
          "name": "stdout",
          "text": [
            "{\n",
            "  \"response\" : {\n",
            "    \"header\" : {\n",
            "      \"resultCode\" : 0,\n",
            "      \"resultMsg\" : \"NORMAL_SERVICE\",\n",
            "      \"type\" : \"json\"\n",
            "    },\n",
            "    \"body\" : {\n",
            "      \"items\" : [ {\n",
            "        \"dissCd\" : \"1\",\n",
            "        \"dt\" : \"20231129\",\n",
            "        \"znCd\" : \"11\",\n",
            "        \"lowrnkZnCd\" : \"0\",\n",
            "        \"cnt\" : 73198,\n",
            "        \"risk\" : 2,\n",
            "        \"dissRiskXpln\" : \"기침과 재채기를 할 때에는 반드시 휴지나 손수건으로 가리는 등 기침 에티켓을 지켜주시고 충분한 휴식 및 수분을 섭취합니다.\"\n",
            "      }, {\n",
            "        \"dissCd\" : \"1\",\n",
            "        \"dt\" : \"20231129\",\n",
            "        \"znCd\" : \"26\",\n",
            "        \"lowrnkZnCd\" : \"0\",\n",
            "        \"cnt\" : 27792,\n",
            "        \"risk\" : 2,\n",
            "        \"dissRiskXpln\" : \"기침과 재채기를 할 때에는 반드시 휴지나 손수건으로 가리는 등 기침 에티켓을 지켜주시고 충분한 휴식 및 수분을 섭취합니다.\"\n",
            "      }, {\n",
            "        \"dissCd\" : \"1\",\n",
            "        \"dt\" : \"20231129\",\n",
            "        \"znCd\" : \"27\",\n",
            "        \"lowrnkZnCd\" : \"0\",\n",
            "        \"cnt\" : 18136,\n",
            "        \"risk\" : 2,\n",
            "        \"dissRiskXpln\" : \"기침과 재채기를 할 때에는 반드시 휴지나 손수건으로 가리는 등 기침 에티켓을 지켜주시고 충분한 휴식 및 수분을 섭취합니다.\"\n",
            "      }, {\n",
            "        \"dissCd\" : \"1\",\n",
            "        \"dt\" : \"20231129\",\n",
            "        \"znCd\" : \"28\",\n",
            "        \"lowrnkZnCd\" : \"0\",\n",
            "        \"cnt\" : 19437,\n",
            "        \"risk\" : 2,\n",
            "        \"dissRiskXpln\" : \"기침과 재채기를 할 때에는 반드시 휴지나 손수건으로 가리는 등 기침 에티켓을 지켜주시고 충분한 휴식 및 수분을 섭취합니다.\"\n",
            "      }, {\n",
            "        \"dissCd\" : \"1\",\n",
            "        \"dt\" : \"20231129\",\n",
            "        \"znCd\" : \"29\",\n",
            "        \"lowrnkZnCd\" : \"0\",\n",
            "        \"cnt\" : 10889,\n",
            "        \"risk\" : 2,\n",
            "        \"dissRiskXpln\" : \"기침과 재채기를 할 때에는 반드시 휴지나 손수건으로 가리는 등 기침 에티켓을 지켜주시고 충분한 휴식 및 수분을 섭취합니다.\"\n",
            "      }, {\n",
            "        \"dissCd\" : \"1\",\n",
            "        \"dt\" : \"20231129\",\n",
            "        \"znCd\" : \"30\",\n",
            "        \"lowrnkZnCd\" : \"0\",\n",
            "        \"cnt\" : 12132,\n",
            "        \"risk\" : 2,\n",
            "        \"dissRiskXpln\" : \"기침과 재채기를 할 때에는 반드시 휴지나 손수건으로 가리는 등 기침 에티켓을 지켜주시고 충분한 휴식 및 수분을 섭취합니다.\"\n",
            "      }, {\n",
            "        \"dissCd\" : \"1\",\n",
            "        \"dt\" : \"20231129\",\n",
            "        \"znCd\" : \"31\",\n",
            "        \"lowrnkZnCd\" : \"0\",\n",
            "        \"cnt\" : 9620,\n",
            "        \"risk\" : 2,\n",
            "        \"dissRiskXpln\" : \"기침과 재채기를 할 때에는 반드시 휴지나 손수건으로 가리는 등 기침 에티켓을 지켜주시고 충분한 휴식 및 수분을 섭취합니다.\"\n",
            "      }, {\n",
            "        \"dissCd\" : \"1\",\n",
            "        \"dt\" : \"20231129\",\n",
            "        \"znCd\" : \"41\",\n",
            "        \"lowrnkZnCd\" : \"0\",\n",
            "        \"cnt\" : 85219,\n",
            "        \"risk\" : 2,\n",
            "        \"dissRiskXpln\" : \"기침과 재채기를 할 때에는 반드시 휴지나 손수건으로 가리는 등 기침 에티켓을 지켜주시고 충분한 휴식 및 수분을 섭취합니다.\"\n",
            "      }, {\n",
            "        \"dissCd\" : \"1\",\n",
            "        \"dt\" : \"20231129\",\n",
            "        \"znCd\" : \"42\",\n",
            "        \"lowrnkZnCd\" : \"0\",\n",
            "        \"cnt\" : 9897,\n",
            "        \"risk\" : 2,\n",
            "        \"dissRiskXpln\" : \"기침과 재채기를 할 때에는 반드시 휴지나 손수건으로 가리는 등 기침 에티켓을 지켜주시고 충분한 휴식 및 수분을 섭취합니다.\"\n",
            "      }, {\n",
            "        \"dissCd\" : \"1\",\n",
            "        \"dt\" : \"20231129\",\n",
            "        \"znCd\" : \"43\",\n",
            "        \"lowrnkZnCd\" : \"0\",\n",
            "        \"cnt\" : 10677,\n",
            "        \"risk\" : 2,\n",
            "        \"dissRiskXpln\" : \"기침과 재채기를 할 때에는 반드시 휴지나 손수건으로 가리는 등 기침 에티켓을 지켜주시고 충분한 휴식 및 수분을 섭취합니다.\"\n",
            "      } ],\n",
            "      \"totalCount\" : 51,\n",
            "      \"numOfRows\" : 10,\n",
            "      \"pageNo\" : 1\n",
            "    }\n",
            "  }\n",
            "}\n"
          ]
        }
      ]
    },
    {
      "cell_type": "code",
      "source": [
        "url = 'http://apis.data.go.kr/B550928/dissForecastInfoSvc/getDissForecastInfo'\n",
        "key = 'RXVwJwSXdyxU0kdWMO5CrpUiEgHX3e4qA5XiX2UFfO2uO2OM9ZHsO4MiGOgo9%2BAVrbnnBwYFuEqT2Im1wTbj6g%3D%3D'\n",
        "\n",
        "queryParams = {\"dissCd\": 1,\n",
        "              \"dt\": 2017,\n",
        "              \"znCd\" : 11,\n",
        "              \"lowrnkZnCd\" : 0,\n",
        "              \"cnt\": 57779,\n",
        "              \"risk\":2,\n",
        "              \"dissRiskXpln\":\"기침과 재채기를 할 때에는 반드시 휴지나 손수건으로 가리는 등 기침 에티켓을 지켜주시고 충분한 휴식 및 수분을 섭취합니다.\"\n",
        "              }\n",
        "\n",
        "\n",
        "response = requests.get(url, queryParams)\n",
        "print(response)            #<Response [200]>\n",
        "\n",
        "print(response.text)"
      ],
      "metadata": {
        "colab": {
          "base_uri": "https://localhost:8080/"
        },
        "id": "uPS8cbhVCemi",
        "outputId": "41056ff6-24ea-4e96-f9d8-bac59f691d1c"
      },
      "execution_count": 13,
      "outputs": [
        {
          "output_type": "stream",
          "name": "stdout",
          "text": [
            "<Response [200]>\n",
            "<OpenAPI_ServiceResponse>\n",
            "\t<cmmMsgHeader>\n",
            "\t\t<errMsg>SERVICE ERROR</errMsg>\n",
            "\t\t<returnAuthMsg>SERVICE_KEY_IS_NOT_REGISTERED_ERROR</returnAuthMsg>\n",
            "\t\t<returnReasonCode>30</returnReasonCode>\n",
            "\t</cmmMsgHeader>\n",
            "</OpenAPI_ServiceResponse>\n"
          ]
        }
      ]
    }
  ]
}