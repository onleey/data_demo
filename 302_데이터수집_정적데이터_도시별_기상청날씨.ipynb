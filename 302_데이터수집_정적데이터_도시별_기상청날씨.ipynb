{
  "nbformat": 4,
  "nbformat_minor": 0,
  "metadata": {
    "colab": {
      "provenance": [],
      "authorship_tag": "ABX9TyOZNT2rpMlnkUHAPAseJV46",
      "include_colab_link": true
    },
    "kernelspec": {
      "name": "python3",
      "display_name": "Python 3"
    },
    "language_info": {
      "name": "python"
    }
  },
  "cells": [
    {
      "cell_type": "markdown",
      "metadata": {
        "id": "view-in-github",
        "colab_type": "text"
      },
      "source": [
        "<a href=\"https://colab.research.google.com/github/onleey/data_demo/blob/master/302_%EB%8D%B0%EC%9D%B4%ED%84%B0%EC%88%98%EC%A7%91_%EC%A0%95%EC%A0%81%EB%8D%B0%EC%9D%B4%ED%84%B0_%EB%8F%84%EC%8B%9C%EB%B3%84_%EA%B8%B0%EC%83%81%EC%B2%AD%EB%82%A0%EC%94%A8.ipynb\" target=\"_parent\"><img src=\"https://colab.research.google.com/assets/colab-badge.svg\" alt=\"Open In Colab\"/></a>"
      ]
    },
    {
      "cell_type": "code",
      "source": [
        "from google.colab import drive\n",
        "drive.mount ('/content/drive')"
      ],
      "metadata": {
        "colab": {
          "base_uri": "https://localhost:8080/"
        },
        "id": "DmEhZDss2vMm",
        "outputId": "8f711402-2876-412a-f231-1996e7f961df"
      },
      "execution_count": 96,
      "outputs": [
        {
          "output_type": "stream",
          "name": "stdout",
          "text": [
            "Drive already mounted at /content/drive; to attempt to forcibly remount, call drive.mount(\"/content/drive\", force_remount=True).\n"
          ]
        }
      ]
    },
    {
      "cell_type": "code",
      "source": [
        "%cd '/content/drive/MyDrive/001'"
      ],
      "metadata": {
        "colab": {
          "base_uri": "https://localhost:8080/"
        },
        "id": "hoJ5pFzA3Awo",
        "outputId": "c31f4163-9945-4da9-c8ec-63c860fce59b"
      },
      "execution_count": 97,
      "outputs": [
        {
          "output_type": "stream",
          "name": "stdout",
          "text": [
            "/content/drive/MyDrive/001\n"
          ]
        }
      ]
    },
    {
      "cell_type": "code",
      "execution_count": 98,
      "metadata": {
        "id": "cqmBEuPOxfz6"
      },
      "outputs": [],
      "source": [
        "from bs4 import BeautifulSoup\n",
        "import requests"
      ]
    },
    {
      "cell_type": "code",
      "source": [
        "\n",
        "result = []\n",
        "\n",
        "url = 'https://www.weather.go.kr/w/obs-climate/land/city-obs.do'\n",
        "res = requests.get(url)\n",
        "print(res)\n",
        "\n",
        "\n",
        "\n",
        "soup = BeautifulSoup(res.text,'html.parser')\n",
        "#print(soup)\n",
        "print(type(soup))\n",
        "\n",
        "t_body_tag = soup.find('tbody')\n",
        "#print(t_body_tag)\n",
        "print(type(t_body_tag))\n",
        "\n",
        "\n",
        "tr_rs_tag = t_body_tag.find_all('tr')\n",
        "#print(tr_rs_tag)\n",
        "print(type(tr_rs_tag))\n",
        "print(len(tr_rs_tag))\n",
        "\n",
        "\n",
        "for tr_tag in tr_rs_tag:\n",
        "  td_rs_tag = tr_tag.find_all('td')\n",
        "  city = td_rs_tag[0].string   #지점\n",
        "  cur_temp =td_rs_tag[5].string  #현재온도\n",
        "  sen_temp = td_rs_tag[7].string   #체감온도\n",
        "  result.append([city]+[cur_temp]+[sen_temp])\n",
        "\n",
        "\n"
      ],
      "metadata": {
        "colab": {
          "base_uri": "https://localhost:8080/"
        },
        "id": "s-uPcXMTyP23",
        "outputId": "f59d1ddb-b5fa-42f5-91cc-c51cda5c4487"
      },
      "execution_count": 99,
      "outputs": [
        {
          "output_type": "stream",
          "name": "stdout",
          "text": [
            "<Response [200]>\n",
            "<class 'bs4.BeautifulSoup'>\n",
            "<class 'bs4.element.Tag'>\n",
            "<class 'bs4.element.ResultSet'>\n",
            "97\n"
          ]
        }
      ]
    },
    {
      "cell_type": "code",
      "source": [
        "for element in result:\n",
        "  print(element)\n",
        "  break"
      ],
      "metadata": {
        "colab": {
          "base_uri": "https://localhost:8080/"
        },
        "id": "RrEqj4511Z9F",
        "outputId": "d9ae5cea-0188-4ec4-80ff-97f3809958d8"
      },
      "execution_count": 100,
      "outputs": [
        {
          "output_type": "stream",
          "name": "stdout",
          "text": [
            "['강릉', '6.8', '3.6']\n"
          ]
        }
      ]
    },
    {
      "cell_type": "code",
      "source": [
        "import datetime\n",
        "\n",
        "to_now = datetime.datetime.now()\n",
        "to_now = to_now.strftime('%Y-%m-%d %H:%M:%s')\n",
        "to_now"
      ],
      "metadata": {
        "colab": {
          "base_uri": "https://localhost:8080/",
          "height": 35
        },
        "id": "6SpeheIm1phb",
        "outputId": "a2c076c8-3ccf-4a7e-e3e2-ffb3b1d2ec5d"
      },
      "execution_count": 101,
      "outputs": [
        {
          "output_type": "execute_result",
          "data": {
            "text/plain": [
              "'2023-11-28 06:00:1701151225'"
            ],
            "application/vnd.google.colaboratory.intrinsic+json": {
              "type": "string"
            }
          },
          "metadata": {},
          "execution_count": 101
        }
      ]
    },
    {
      "cell_type": "code",
      "source": [
        "!pwd\n"
      ],
      "metadata": {
        "colab": {
          "base_uri": "https://localhost:8080/"
        },
        "id": "6WpfsCjJ3vFt",
        "outputId": "d9dc1806-0702-4f4f-81cf-769da8d69b38"
      },
      "execution_count": 102,
      "outputs": [
        {
          "output_type": "stream",
          "name": "stdout",
          "text": [
            "/content/drive/MyDrive/001\n"
          ]
        }
      ]
    },
    {
      "cell_type": "code",
      "source": [
        "import sys\n",
        "sys.setrecursionlimit(1000000)"
      ],
      "metadata": {
        "id": "xcZj2QOXEcqm"
      },
      "execution_count": 103,
      "outputs": []
    },
    {
      "cell_type": "code",
      "source": [
        "import csv\n",
        "import copy"
      ],
      "metadata": {
        "id": "n47I9O_BEw_m"
      },
      "execution_count": 104,
      "outputs": []
    },
    {
      "cell_type": "code",
      "source": [
        "import csv\n",
        "\n",
        "fields = ['city','curtemp','sentemp']\n",
        "\n",
        "with open('./001_1/{}-weather.csv'.format(to_now),'w', encoding='cp949') as f:\n",
        "    writer = csv.writer(f)\n",
        "    writer.writerow(fields)\n",
        "    writer.writerows(result)\n",
        "# del result[:]"
      ],
      "metadata": {
        "id": "_wKluib817wc"
      },
      "execution_count": 105,
      "outputs": []
    },
    {
      "cell_type": "code",
      "source": [
        "import csv\n",
        "\n",
        "with open('./001_1/{}-weather.csv'.format(to_now),'r', encoding='cp949') as f:\n",
        "  reader = csv.reader(f)\n",
        "  for row in reader :\n",
        "    print(','.join(row))"
      ],
      "metadata": {
        "colab": {
          "base_uri": "https://localhost:8080/"
        },
        "id": "20zXwQVV1pgd",
        "outputId": "b200a7d5-fdf7-427f-8a84-e120362345fa"
      },
      "execution_count": 106,
      "outputs": [
        {
          "output_type": "stream",
          "name": "stdout",
          "text": [
            "city,curtemp,sentemp\n",
            "강릉,6.8,3.6\n",
            "강진군,10.6,10.6\n",
            "강화,1.7,-2.1\n",
            "거제,11.1,11.1\n",
            "거창,6.2,2.9\n",
            "경주시,9.1,5.8\n",
            "고산,11.9,11.9\n",
            "고창,6.7,3.7\n",
            "고창군,8.3,6.2\n",
            "고흥,10.8,10.8\n",
            "광양시,10.2,10.2\n",
            "광주,8.0,7.0\n",
            "구미,8.4,7.4\n",
            "군산,7.1,4.3\n",
            "금산,6.1,3.4\n",
            "김해시,11.4,11.4\n",
            "남원,7.0,4.6\n",
            "남해,10.3,10.3\n",
            "대관령,-1.3,-9.5\n",
            "대구,8.5,6.0\n",
            "대전,6.0,2.9\n",
            "동두천,3.3,-0.2\n",
            "동해,7.5,4.8\n",
            "목포,7.8,4.8\n",
            "문경,5.7,2.8\n",
            "밀양,10.7,10.7\n",
            "백령도,1.1,-4.4\n",
            "보령,5.2,5.2\n",
            "보성군,9.7,6.5\n",
            "보은,5.8,3.4\n",
            "봉화,4.4,1.6\n",
            "부산,12.7,12.7\n",
            "부안,7.9,6.5\n",
            "부여,7.9,5.9\n",
            "북강릉,7.7,5.0\n",
            "북부산,11.9,11.9\n",
            "북창원,11.2,11.2\n",
            "북춘천,4.0,0.2\n",
            "산청,7.5,3.9\n",
            "상주,6.0,2.9\n",
            "서귀포,13.0,13.0\n",
            "서산,3.6,1.5\n",
            "서울,2.8,-1.3\n",
            "서청주,5.4,1.8\n",
            "성산,12.3,12.3\n",
            "세종,6.4,4.4\n",
            "속초,6.0,2.4\n",
            "수원,3.1,-0.8\n",
            "순창군,6.5,3.3\n",
            "순천,7.7,5.2\n",
            "안동,6.5,2.8\n",
            "양산시,12.2,12.2\n",
            "양평,4.3,1.0\n",
            "여수,10.3,10.3\n",
            "영광군,7.1,5.2\n",
            "영덕,7.9,4.8\n",
            "영월,4.6,0.8\n",
            "영주,4.3,-1.5\n",
            "영천,8.7,6.0\n",
            "완도,10.1,10.1\n",
            "울릉도,5.8,2.3\n",
            "울산,10.5,10.5\n",
            "울진,9.2,6.8\n",
            "원주,4.5,1.1\n",
            "의령군,10.3,10.3\n",
            "의성,7.6,4.7\n",
            "이천,5.9,3.1\n",
            "인제,3.1,-0.6\n",
            "인천,1.7,-2.3\n",
            "임실,7.2,4.9\n",
            "장수,5.1,2.5\n",
            "장흥,9.5,7.9\n",
            "전주,7.2,4.7\n",
            "정선군,2.6,-1.1\n",
            "정읍,7.1,6.1\n",
            "제주,12.1,12.1\n",
            "제천,2.8,-1.8\n",
            "진도군,9.6,7.7\n",
            "진주,11.0,11.0\n",
            "창원,10.7,10.7\n",
            "천안,4.7,2.5\n",
            "철원,2.5,-0.4\n",
            "청송군,6.5,3.6\n",
            "청주,6.3,4.5\n",
            "추풍령,4.5,0.1\n",
            "춘천,5.5,2.5\n",
            "충주,4.5,0.6\n",
            "태백,-0.4,-2.1\n",
            "통영,11.3,11.3\n",
            "파주,2.6,-0.2\n",
            "포항,9.2,6.4\n",
            "함양군,7.6,4.3\n",
            "합천,9.3,6.8\n",
            "해남,9.5,6.4\n",
            "홍성,5.2,2.8\n",
            "홍천,3.4,0.2\n",
            "흑산도,10.3,10.3\n"
          ]
        }
      ]
    },
    {
      "cell_type": "code",
      "source": [
        "%%writefile ./001_1/weather.py"
      ],
      "metadata": {
        "colab": {
          "base_uri": "https://localhost:8080/"
        },
        "id": "SfNSbqGi6Cnc",
        "outputId": "1925e750-7a4b-412d-a231-cd2ff49e3096"
      },
      "execution_count": 107,
      "outputs": [
        {
          "output_type": "stream",
          "name": "stdout",
          "text": [
            "Overwriting ./001_1/weather.py\n"
          ]
        }
      ]
    },
    {
      "cell_type": "code",
      "source": [
        "!python ./001_1/weather.py"
      ],
      "metadata": {
        "id": "xsCC3MJNA6TC"
      },
      "execution_count": 108,
      "outputs": []
    },
    {
      "cell_type": "markdown",
      "source": [
        "# 파이썬에서는 재귀호출 횟수가 1000회로 한정이 되어있어서 아래와 같이 한정을 늘리면 된다. 하지만 현재 colab에서는 늘리면 시스템 다운이 된다.\n",
        "\n",
        "import sys\n",
        "sys.setrecursionlimit(10000)"
      ],
      "metadata": {
        "id": "S7WWuiY0HxSb"
      }
    },
    {
      "cell_type": "markdown",
      "source": [],
      "metadata": {
        "id": "7IKVQ28EHxRI"
      }
    },
    {
      "cell_type": "code",
      "source": [
        "#아래와 같이 용량이 적을때는 이상없이 colab에서 deepcopy가 실행이된다.\n",
        "#하지만 result [] 와 같이 많이 용량이 저장되어 있으면 실행이 안된다.\n",
        "\n",
        "import copy\n",
        "result = [['강릉','7.6','4.8'],['강진군','9.4','7.2']]\n",
        "aa = copy.deepcopy(result)\n",
        "print(aa)\n"
      ],
      "metadata": {
        "colab": {
          "base_uri": "https://localhost:8080/"
        },
        "id": "PNpHUivAHbsl",
        "outputId": "cff7c735-bd9f-473a-c773-a8aec2fa098b"
      },
      "execution_count": 109,
      "outputs": [
        {
          "output_type": "stream",
          "name": "stdout",
          "text": [
            "[['강릉', '7.6', '4.8'], ['강진군', '9.4', '7.2']]\n"
          ]
        }
      ]
    },
    {
      "cell_type": "code",
      "source": [
        "%%writefile ./001_1/weather.py"
      ],
      "metadata": {
        "colab": {
          "base_uri": "https://localhost:8080/"
        },
        "id": "5xxkn0hpIWDN",
        "outputId": "c4956901-73bc-4b09-b18d-8671ebfbd685"
      },
      "execution_count": 114,
      "outputs": [
        {
          "output_type": "stream",
          "name": "stdout",
          "text": [
            "Overwriting ./001_1/weather.py\n"
          ]
        }
      ]
    },
    {
      "cell_type": "code",
      "source": [
        "!python ./001_1/weather.py"
      ],
      "metadata": {
        "id": "TCOkRipsIYel"
      },
      "execution_count": 111,
      "outputs": []
    },
    {
      "cell_type": "code",
      "source": [
        "%%writefile ./001_1/weather.py\n",
        "\n",
        "from bs4 import BeautifulSoup\n",
        "import requests\n",
        "import csv\n",
        "import datetime\n",
        "\n",
        "\n",
        "result = []\n",
        "rowdata = []\n",
        "\n",
        "def weather_process():\n",
        "\n",
        "  url = 'https://www.weather.go.kr/w/obs-climate/land/city-obs.do'\n",
        "  res = requests.get(url)\n",
        "\n",
        "  soup = BeautifulSoup(res.text, 'html.parser')\n",
        "\n",
        "  t_body_tag = soup.find('tbody')\n",
        "  tr_rs_tag = t_body_tag.find_all('tr')\n",
        "\n",
        "\n",
        "  for tr_tag in tr_rs_tag:\n",
        "    td_rs_tag = tr_tag.find_all('td')\n",
        "    city = td_rs_tag[0].string   #지점\n",
        "    cur_temp =td_rs_tag[5].string  #현재온도\n",
        "    sen_temp = td_rs_tag[7].string   #체감온도\n",
        "    result.append([city]+[cur_temp]+[sen_temp])\n",
        "\n",
        "\n",
        "  global rowdata\n",
        "  rowdata = result.copy()\n",
        "\n",
        "\n",
        "def weather_save(to_now):\n",
        "    fields = ['city','curtemp','sentemp']\n",
        "    with open('./001_1/{}-weather.csv'.format(to_now),'w', encoding='cp949') as f:\n",
        "      writer = csv.writer(f)\n",
        "      writer.writerow(fields)\n",
        "      writer.writerows(rowdata)\n",
        "    del result[:]\n",
        "\n",
        "def weather_load(to_now):\n",
        "  with open('./001_1/{}-weather.csv'.format(to_now),'r', encoding='cp949') as f:\n",
        "    reader = csv.reader(f)\n",
        "    for row in reader :\n",
        "      print(','.join(row))\n",
        "\n",
        "if __name__ == '__main__':\n",
        "  to_now = datetime.datetime.now()\n",
        "  to_now = to_now.strftime('%Y-%m-%d %H:%M:%s')\n",
        "  weather_process()\n",
        "  weather_save(to_now)\n",
        "  weather_load(to_now)\n",
        "\n"
      ],
      "metadata": {
        "colab": {
          "base_uri": "https://localhost:8080/"
        },
        "id": "57y4s38eIYdk",
        "outputId": "0d282ad1-f298-4329-fc59-3432fb974f1b"
      },
      "execution_count": 118,
      "outputs": [
        {
          "output_type": "stream",
          "name": "stdout",
          "text": [
            "Overwriting ./001_1/weather.py\n"
          ]
        }
      ]
    },
    {
      "cell_type": "code",
      "source": [
        "!python ./001_1/weather.py"
      ],
      "metadata": {
        "colab": {
          "base_uri": "https://localhost:8080/"
        },
        "id": "1HKB9a2FgCNK",
        "outputId": "32c67e8d-4337-479b-8d64-15931f319060"
      },
      "execution_count": 119,
      "outputs": [
        {
          "output_type": "stream",
          "name": "stdout",
          "text": [
            "city,curtemp,sentemp\n",
            "강릉,6.8,3.6\n",
            "강진군,10.6,10.6\n",
            "강화,1.7,-2.1\n",
            "거제,11.1,11.1\n",
            "거창,6.2,2.9\n",
            "경주시,9.1,5.8\n",
            "고산,11.9,11.9\n",
            "고창,6.7,3.7\n",
            "고창군,8.3,6.2\n",
            "고흥,10.8,10.8\n",
            "광양시,10.2,10.2\n",
            "광주,8.0,7.0\n",
            "구미,8.4,7.4\n",
            "군산,7.1,4.3\n",
            "금산,6.1,3.4\n",
            "김해시,11.4,11.4\n",
            "남원,7.0,4.6\n",
            "남해,10.3,10.3\n",
            "대관령,-1.3,-9.5\n",
            "대구,8.5,6.0\n",
            "대전,6.0,2.9\n",
            "동두천,3.3,-0.2\n",
            "동해,7.5,4.8\n",
            "목포,7.8,4.8\n",
            "문경,5.7,2.8\n",
            "밀양,10.7,10.7\n",
            "백령도,1.1,-4.4\n",
            "보령,5.2,5.2\n",
            "보성군,9.7,6.5\n",
            "보은,5.8,3.4\n",
            "봉화,4.4,1.6\n",
            "부산,12.7,12.7\n",
            "부안,7.9,6.5\n",
            "부여,7.9,5.9\n",
            "북강릉,7.7,5.0\n",
            "북부산,11.9,11.9\n",
            "북창원,11.2,11.2\n",
            "북춘천,4.0,0.2\n",
            "산청,7.5,3.9\n",
            "상주,6.0,2.9\n",
            "서귀포,13.0,13.0\n",
            "서산,3.6,1.5\n",
            "서울,2.8,-1.3\n",
            "서청주,5.4,1.8\n",
            "성산,12.3,12.3\n",
            "세종,6.4,4.4\n",
            "속초,6.0,2.4\n",
            "수원,3.1,-0.8\n",
            "순창군,6.5,3.3\n",
            "순천,7.7,5.2\n",
            "안동,6.5,2.8\n",
            "양산시,12.2,12.2\n",
            "양평,4.3,1.0\n",
            "여수,10.3,10.3\n",
            "영광군,7.1,5.2\n",
            "영덕,7.9,4.8\n",
            "영월,4.6,0.8\n",
            "영주,4.3,-1.5\n",
            "영천,8.7,6.0\n",
            "완도,10.1,10.1\n",
            "울릉도,5.8,2.3\n",
            "울산,10.5,10.5\n",
            "울진,9.2,6.8\n",
            "원주,4.5,1.1\n",
            "의령군,10.3,10.3\n",
            "의성,7.6,4.7\n",
            "이천,5.9,3.1\n",
            "인제,3.1,-0.6\n",
            "인천,1.7,-2.3\n",
            "임실,7.2,4.9\n",
            "장수,5.1,2.5\n",
            "장흥,9.5,7.9\n",
            "전주,7.2,4.7\n",
            "정선군,2.6,-1.1\n",
            "정읍,7.1,6.1\n",
            "제주,12.1,12.1\n",
            "제천,2.8,-1.8\n",
            "진도군,9.6,7.7\n",
            "진주,11.0,11.0\n",
            "창원,10.7,10.7\n",
            "천안,4.7,2.5\n",
            "철원,2.5,-0.4\n",
            "청송군,6.5,3.6\n",
            "청주,6.3,4.5\n",
            "추풍령,4.5,0.1\n",
            "춘천,5.5,2.5\n",
            "충주,4.5,0.6\n",
            "태백,-0.4,-2.1\n",
            "통영,11.3,11.3\n",
            "파주,2.6,-0.2\n",
            "포항,9.2,6.4\n",
            "함양군,7.6,4.3\n",
            "합천,9.3,6.8\n",
            "해남,9.5,6.4\n",
            "홍성,5.2,2.8\n",
            "홍천,3.4,0.2\n",
            "흑산도,10.3,10.3\n"
          ]
        }
      ]
    }
  ]
}