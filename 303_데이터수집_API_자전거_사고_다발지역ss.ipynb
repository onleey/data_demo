{
  "nbformat": 4,
  "nbformat_minor": 0,
  "metadata": {
    "colab": {
      "provenance": [],
      "include_colab_link": true
    },
    "kernelspec": {
      "name": "python3",
      "display_name": "Python 3"
    },
    "language_info": {
      "name": "python"
    }
  },
  "cells": [
    {
      "cell_type": "markdown",
      "metadata": {
        "id": "view-in-github",
        "colab_type": "text"
      },
      "source": [
        "<a href=\"https://colab.research.google.com/github/onleey/data_demo/blob/master/303_%EB%8D%B0%EC%9D%B4%ED%84%B0%EC%88%98%EC%A7%91_API_%EC%9E%90%EC%A0%84%EA%B1%B0_%EC%82%AC%EA%B3%A0_%EB%8B%A4%EB%B0%9C%EC%A7%80%EC%97%ADss.ipynb\" target=\"_parent\"><img src=\"https://colab.research.google.com/assets/colab-badge.svg\" alt=\"Open In Colab\"/></a>"
      ]
    },
    {
      "cell_type": "markdown",
      "source": [
        "### 공공데이터 포털\n",
        "- https://www.data.go.kr/index.do\n",
        "- https://www.data.go.kr/data/15056681/openapi.do\n",
        "- 도로교통공단_자전거사고다발지역정보서비스"
      ],
      "metadata": {
        "id": "vTW2QUD3oVPF"
      }
    },
    {
      "cell_type": "markdown",
      "source": [
        "### 구글 드라이브 연결"
      ],
      "metadata": {
        "id": "38Og6ZT4sKmm"
      }
    },
    {
      "cell_type": "code",
      "execution_count": 1,
      "metadata": {
        "colab": {
          "base_uri": "https://localhost:8080/"
        },
        "id": "9PkmwawnoPvD",
        "outputId": "a44e04dc-22b0-47e2-a6b5-6f716195c8dc"
      },
      "outputs": [
        {
          "output_type": "stream",
          "name": "stdout",
          "text": [
            "Mounted at /content/drive\n",
            "/content/drive/MyDrive/ai_chat_python\n"
          ]
        }
      ],
      "source": [
        "from google.colab import drive\n",
        "drive.mount('/content/drive')\n",
        "\n",
        "%cd  '/content/drive/MyDrive/ai_chat_python'"
      ]
    },
    {
      "cell_type": "code",
      "source": [
        "import requests"
      ],
      "metadata": {
        "id": "uCOMajehvMDV"
      },
      "execution_count": 2,
      "outputs": []
    },
    {
      "cell_type": "code",
      "source": [
        "url = 'http://apis.data.go.kr/B552061/frequentzoneBicycle/getRestFrequentzoneBicycle'\n",
        "key = 'rcp7JiITf5HDn/WoxyEwyGUC36dU/LjdFaGd3cIRmo8OSDOzqZ7BB4AVnQUT6FuZRv+xIs3Bv6kUjs4UWwxt0Q=='\n",
        "url += '?ServiceKey='+ key +'&searchYearCd=2021&siDo=11&guGun=110&type=json&numOfRows=10&pageNo=1'\n",
        "\n",
        "response = requests.get(url)\n",
        "print(response)            #<Response [200]>\n",
        "print(dir(response))\n",
        "print(type(response))     # requests.models.Response\n",
        "print(response.json())"
      ],
      "metadata": {
        "colab": {
          "base_uri": "https://localhost:8080/",
          "height": 540
        },
        "id": "AB4re7HssbTZ",
        "outputId": "abcfe6b2-4335-46ad-edda-9f51f8dc358e"
      },
      "execution_count": 3,
      "outputs": [
        {
          "output_type": "stream",
          "name": "stdout",
          "text": [
            "<Response [200]>\n",
            "['__attrs__', '__bool__', '__class__', '__delattr__', '__dict__', '__dir__', '__doc__', '__enter__', '__eq__', '__exit__', '__format__', '__ge__', '__getattribute__', '__getstate__', '__gt__', '__hash__', '__init__', '__init_subclass__', '__iter__', '__le__', '__lt__', '__module__', '__ne__', '__new__', '__nonzero__', '__reduce__', '__reduce_ex__', '__repr__', '__setattr__', '__setstate__', '__sizeof__', '__str__', '__subclasshook__', '__weakref__', '_content', '_content_consumed', '_next', 'apparent_encoding', 'close', 'connection', 'content', 'cookies', 'elapsed', 'encoding', 'headers', 'history', 'is_permanent_redirect', 'is_redirect', 'iter_content', 'iter_lines', 'json', 'links', 'next', 'ok', 'raise_for_status', 'raw', 'reason', 'request', 'status_code', 'text', 'url']\n",
            "<class 'requests.models.Response'>\n"
          ]
        },
        {
          "output_type": "error",
          "ename": "JSONDecodeError",
          "evalue": "ignored",
          "traceback": [
            "\u001b[0;31m---------------------------------------------------------------------------\u001b[0m",
            "\u001b[0;31mJSONDecodeError\u001b[0m                           Traceback (most recent call last)",
            "\u001b[0;32m/usr/local/lib/python3.10/dist-packages/requests/models.py\u001b[0m in \u001b[0;36mjson\u001b[0;34m(self, **kwargs)\u001b[0m\n\u001b[1;32m    970\u001b[0m         \u001b[0;32mtry\u001b[0m\u001b[0;34m:\u001b[0m\u001b[0;34m\u001b[0m\u001b[0;34m\u001b[0m\u001b[0m\n\u001b[0;32m--> 971\u001b[0;31m             \u001b[0;32mreturn\u001b[0m \u001b[0mcomplexjson\u001b[0m\u001b[0;34m.\u001b[0m\u001b[0mloads\u001b[0m\u001b[0;34m(\u001b[0m\u001b[0mself\u001b[0m\u001b[0;34m.\u001b[0m\u001b[0mtext\u001b[0m\u001b[0;34m,\u001b[0m \u001b[0;34m**\u001b[0m\u001b[0mkwargs\u001b[0m\u001b[0;34m)\u001b[0m\u001b[0;34m\u001b[0m\u001b[0;34m\u001b[0m\u001b[0m\n\u001b[0m\u001b[1;32m    972\u001b[0m         \u001b[0;32mexcept\u001b[0m \u001b[0mJSONDecodeError\u001b[0m \u001b[0;32mas\u001b[0m \u001b[0me\u001b[0m\u001b[0;34m:\u001b[0m\u001b[0;34m\u001b[0m\u001b[0;34m\u001b[0m\u001b[0m\n",
            "\u001b[0;32m/usr/lib/python3.10/json/__init__.py\u001b[0m in \u001b[0;36mloads\u001b[0;34m(s, cls, object_hook, parse_float, parse_int, parse_constant, object_pairs_hook, **kw)\u001b[0m\n\u001b[1;32m    345\u001b[0m             parse_constant is None and object_pairs_hook is None and not kw):\n\u001b[0;32m--> 346\u001b[0;31m         \u001b[0;32mreturn\u001b[0m \u001b[0m_default_decoder\u001b[0m\u001b[0;34m.\u001b[0m\u001b[0mdecode\u001b[0m\u001b[0;34m(\u001b[0m\u001b[0ms\u001b[0m\u001b[0;34m)\u001b[0m\u001b[0;34m\u001b[0m\u001b[0;34m\u001b[0m\u001b[0m\n\u001b[0m\u001b[1;32m    347\u001b[0m     \u001b[0;32mif\u001b[0m \u001b[0mcls\u001b[0m \u001b[0;32mis\u001b[0m \u001b[0;32mNone\u001b[0m\u001b[0;34m:\u001b[0m\u001b[0;34m\u001b[0m\u001b[0;34m\u001b[0m\u001b[0m\n",
            "\u001b[0;32m/usr/lib/python3.10/json/decoder.py\u001b[0m in \u001b[0;36mdecode\u001b[0;34m(self, s, _w)\u001b[0m\n\u001b[1;32m    336\u001b[0m         \"\"\"\n\u001b[0;32m--> 337\u001b[0;31m         \u001b[0mobj\u001b[0m\u001b[0;34m,\u001b[0m \u001b[0mend\u001b[0m \u001b[0;34m=\u001b[0m \u001b[0mself\u001b[0m\u001b[0;34m.\u001b[0m\u001b[0mraw_decode\u001b[0m\u001b[0;34m(\u001b[0m\u001b[0ms\u001b[0m\u001b[0;34m,\u001b[0m \u001b[0midx\u001b[0m\u001b[0;34m=\u001b[0m\u001b[0m_w\u001b[0m\u001b[0;34m(\u001b[0m\u001b[0ms\u001b[0m\u001b[0;34m,\u001b[0m \u001b[0;36m0\u001b[0m\u001b[0;34m)\u001b[0m\u001b[0;34m.\u001b[0m\u001b[0mend\u001b[0m\u001b[0;34m(\u001b[0m\u001b[0;34m)\u001b[0m\u001b[0;34m)\u001b[0m\u001b[0;34m\u001b[0m\u001b[0;34m\u001b[0m\u001b[0m\n\u001b[0m\u001b[1;32m    338\u001b[0m         \u001b[0mend\u001b[0m \u001b[0;34m=\u001b[0m \u001b[0m_w\u001b[0m\u001b[0;34m(\u001b[0m\u001b[0ms\u001b[0m\u001b[0;34m,\u001b[0m \u001b[0mend\u001b[0m\u001b[0;34m)\u001b[0m\u001b[0;34m.\u001b[0m\u001b[0mend\u001b[0m\u001b[0;34m(\u001b[0m\u001b[0;34m)\u001b[0m\u001b[0;34m\u001b[0m\u001b[0;34m\u001b[0m\u001b[0m\n",
            "\u001b[0;32m/usr/lib/python3.10/json/decoder.py\u001b[0m in \u001b[0;36mraw_decode\u001b[0;34m(self, s, idx)\u001b[0m\n\u001b[1;32m    354\u001b[0m         \u001b[0;32mexcept\u001b[0m \u001b[0mStopIteration\u001b[0m \u001b[0;32mas\u001b[0m \u001b[0merr\u001b[0m\u001b[0;34m:\u001b[0m\u001b[0;34m\u001b[0m\u001b[0;34m\u001b[0m\u001b[0m\n\u001b[0;32m--> 355\u001b[0;31m             \u001b[0;32mraise\u001b[0m \u001b[0mJSONDecodeError\u001b[0m\u001b[0;34m(\u001b[0m\u001b[0;34m\"Expecting value\"\u001b[0m\u001b[0;34m,\u001b[0m \u001b[0ms\u001b[0m\u001b[0;34m,\u001b[0m \u001b[0merr\u001b[0m\u001b[0;34m.\u001b[0m\u001b[0mvalue\u001b[0m\u001b[0;34m)\u001b[0m \u001b[0;32mfrom\u001b[0m \u001b[0;32mNone\u001b[0m\u001b[0;34m\u001b[0m\u001b[0;34m\u001b[0m\u001b[0m\n\u001b[0m\u001b[1;32m    356\u001b[0m         \u001b[0;32mreturn\u001b[0m \u001b[0mobj\u001b[0m\u001b[0;34m,\u001b[0m \u001b[0mend\u001b[0m\u001b[0;34m\u001b[0m\u001b[0;34m\u001b[0m\u001b[0m\n",
            "\u001b[0;31mJSONDecodeError\u001b[0m: Expecting value: line 1 column 1 (char 0)",
            "\nDuring handling of the above exception, another exception occurred:\n",
            "\u001b[0;31mJSONDecodeError\u001b[0m                           Traceback (most recent call last)",
            "\u001b[0;32m<ipython-input-3-a543f64d40f3>\u001b[0m in \u001b[0;36m<cell line: 9>\u001b[0;34m()\u001b[0m\n\u001b[1;32m      7\u001b[0m \u001b[0mprint\u001b[0m\u001b[0;34m(\u001b[0m\u001b[0mdir\u001b[0m\u001b[0;34m(\u001b[0m\u001b[0mresponse\u001b[0m\u001b[0;34m)\u001b[0m\u001b[0;34m)\u001b[0m\u001b[0;34m\u001b[0m\u001b[0;34m\u001b[0m\u001b[0m\n\u001b[1;32m      8\u001b[0m \u001b[0mprint\u001b[0m\u001b[0;34m(\u001b[0m\u001b[0mtype\u001b[0m\u001b[0;34m(\u001b[0m\u001b[0mresponse\u001b[0m\u001b[0;34m)\u001b[0m\u001b[0;34m)\u001b[0m     \u001b[0;31m# requests.models.Response\u001b[0m\u001b[0;34m\u001b[0m\u001b[0;34m\u001b[0m\u001b[0m\n\u001b[0;32m----> 9\u001b[0;31m \u001b[0mprint\u001b[0m\u001b[0;34m(\u001b[0m\u001b[0mresponse\u001b[0m\u001b[0;34m.\u001b[0m\u001b[0mjson\u001b[0m\u001b[0;34m(\u001b[0m\u001b[0;34m)\u001b[0m\u001b[0;34m)\u001b[0m\u001b[0;34m\u001b[0m\u001b[0;34m\u001b[0m\u001b[0m\n\u001b[0m",
            "\u001b[0;32m/usr/local/lib/python3.10/dist-packages/requests/models.py\u001b[0m in \u001b[0;36mjson\u001b[0;34m(self, **kwargs)\u001b[0m\n\u001b[1;32m    973\u001b[0m             \u001b[0;31m# Catch JSON-related errors and raise as requests.JSONDecodeError\u001b[0m\u001b[0;34m\u001b[0m\u001b[0;34m\u001b[0m\u001b[0m\n\u001b[1;32m    974\u001b[0m             \u001b[0;31m# This aliases json.JSONDecodeError and simplejson.JSONDecodeError\u001b[0m\u001b[0;34m\u001b[0m\u001b[0;34m\u001b[0m\u001b[0m\n\u001b[0;32m--> 975\u001b[0;31m             \u001b[0;32mraise\u001b[0m \u001b[0mRequestsJSONDecodeError\u001b[0m\u001b[0;34m(\u001b[0m\u001b[0me\u001b[0m\u001b[0;34m.\u001b[0m\u001b[0mmsg\u001b[0m\u001b[0;34m,\u001b[0m \u001b[0me\u001b[0m\u001b[0;34m.\u001b[0m\u001b[0mdoc\u001b[0m\u001b[0;34m,\u001b[0m \u001b[0me\u001b[0m\u001b[0;34m.\u001b[0m\u001b[0mpos\u001b[0m\u001b[0;34m)\u001b[0m\u001b[0;34m\u001b[0m\u001b[0;34m\u001b[0m\u001b[0m\n\u001b[0m\u001b[1;32m    976\u001b[0m \u001b[0;34m\u001b[0m\u001b[0m\n\u001b[1;32m    977\u001b[0m     \u001b[0;34m@\u001b[0m\u001b[0mproperty\u001b[0m\u001b[0;34m\u001b[0m\u001b[0;34m\u001b[0m\u001b[0m\n",
            "\u001b[0;31mJSONDecodeError\u001b[0m: Expecting value: line 1 column 1 (char 0)"
          ]
        }
      ]
    },
    {
      "cell_type": "code",
      "source": [
        "print(response.text)"
      ],
      "metadata": {
        "colab": {
          "base_uri": "https://localhost:8080/"
        },
        "id": "ac4ONLvKtyqg",
        "outputId": "01906760-0122-4c1c-b8e1-d8e17f9f7ed0"
      },
      "execution_count": 4,
      "outputs": [
        {
          "output_type": "stream",
          "name": "stdout",
          "text": [
            "<OpenAPI_ServiceResponse>\n",
            "\t<cmmMsgHeader>\n",
            "\t\t<errMsg>SERVICE ERROR</errMsg>\n",
            "\t\t<returnAuthMsg>SERVICE_KEY_IS_NOT_REGISTERED_ERROR</returnAuthMsg>\n",
            "\t\t<returnReasonCode>30</returnReasonCode>\n",
            "\t</cmmMsgHeader>\n",
            "</OpenAPI_ServiceResponse>\n"
          ]
        }
      ]
    },
    {
      "cell_type": "code",
      "source": [
        "url = 'http://apis.data.go.kr/B552061/frequentzoneBicycle/getRestFrequentzoneBicycle'\n",
        "key = 'rcp7JiITf5HDn%2FWoxyEwyGUC36dU%2FLjdFaGd3cIRmo8OSDOzqZ7BB4AVnQUT6FuZRv%2BxIs3Bv6kUjs4UWwxt0Q%3D%3D'\n",
        "\n",
        "queryParams = {'serviceKey': key,\n",
        "              'searchYearCd': 2017,\n",
        "              'siDo' : 11,\n",
        "              'guGun' : 200,\n",
        "              'type': 'json',\n",
        "              'numOfRows':10,\n",
        "              'pageNo':1\n",
        "              }\n",
        "\n",
        "\n",
        "response = requests.get(url, queryParams)\n",
        "print(response)            #<Response [200]>\n",
        "print(dir(response))\n",
        "print(type(response))     # requests.models.Response\n",
        "print(response.json())\n",
        "print(response.text)"
      ],
      "metadata": {
        "colab": {
          "base_uri": "https://localhost:8080/"
        },
        "id": "C-a1SvOSxggk",
        "outputId": "f3134f49-9cae-46e5-a44c-481ff439cf64"
      },
      "execution_count": null,
      "outputs": [
        {
          "output_type": "stream",
          "name": "stdout",
          "text": [
            "<Response [200]>\n",
            "['__attrs__', '__bool__', '__class__', '__delattr__', '__dict__', '__dir__', '__doc__', '__enter__', '__eq__', '__exit__', '__format__', '__ge__', '__getattribute__', '__getstate__', '__gt__', '__hash__', '__init__', '__init_subclass__', '__iter__', '__le__', '__lt__', '__module__', '__ne__', '__new__', '__nonzero__', '__reduce__', '__reduce_ex__', '__repr__', '__setattr__', '__setstate__', '__sizeof__', '__str__', '__subclasshook__', '__weakref__', '_content', '_content_consumed', '_next', 'apparent_encoding', 'close', 'connection', 'content', 'cookies', 'elapsed', 'encoding', 'headers', 'history', 'is_permanent_redirect', 'is_redirect', 'iter_content', 'iter_lines', 'json', 'links', 'next', 'ok', 'raise_for_status', 'raw', 'reason', 'request', 'status_code', 'text', 'url']\n",
            "<class 'requests.models.Response'>\n",
            "<bound method Response.json of <Response [200]>>\n",
            "<OpenAPI_ServiceResponse>\n",
            "\t<cmmMsgHeader>\n",
            "\t\t<errMsg>SERVICE ERROR</errMsg>\n",
            "\t\t<returnAuthMsg>SERVICE_KEY_IS_NOT_REGISTERED_ERROR</returnAuthMsg>\n",
            "\t\t<returnReasonCode>30</returnReasonCode>\n",
            "\t</cmmMsgHeader>\n",
            "</OpenAPI_ServiceResponse>\n"
          ]
        }
      ]
    },
    {
      "cell_type": "code",
      "source": [
        "print(type(response.json()))  #dict\n",
        "response.json()"
      ],
      "metadata": {
        "colab": {
          "base_uri": "https://localhost:8080/"
        },
        "id": "mEmkeFGqxyt3",
        "outputId": "2aec4331-32fc-450f-c8e7-5a0caa875656"
      },
      "execution_count": null,
      "outputs": [
        {
          "output_type": "stream",
          "name": "stdout",
          "text": [
            "<class 'dict'>\n"
          ]
        },
        {
          "output_type": "execute_result",
          "data": {
            "text/plain": [
              "{'resultCode': '00',\n",
              " 'resultMsg': 'NORMAL_CODE',\n",
              " 'items': {'item': [{'afos_fid': 6806238,\n",
              "    'afos_id': '2022083',\n",
              "    'bjd_cd': '1111010700',\n",
              "    'spot_cd': '11110001',\n",
              "    'sido_sgg_nm': '서울특별시 종로구1',\n",
              "    'spot_nm': '서울특별시 종로구 적선동(적선현대빌딩 부근)',\n",
              "    'occrrnc_cnt': 5,\n",
              "    'caslt_cnt': 5,\n",
              "    'dth_dnv_cnt': 0,\n",
              "    'se_dnv_cnt': 1,\n",
              "    'sl_dnv_cnt': 2,\n",
              "    'wnd_dnv_cnt': 2,\n",
              "    'geom_json': '{\"type\":\"Polygon\",\"coordinates\":[[[126.97466371,37.57536392],[126.97462919,37.57508612],[126.97452695,37.574819],[126.97436092,37.57457282],[126.97413749,37.57435704],[126.97386523,37.57417996],[126.97355462,37.57404837],[126.97321758,37.57396734],[126.97286708,37.57393998],[126.97251657,37.57396734],[126.97217954,37.57404837],[126.97186892,37.57417996],[126.97159667,37.57435704],[126.97137323,37.57457282],[126.97120721,37.574819],[126.97110497,37.57508612],[126.97107045,37.57536392],[126.97110497,37.57564171],[126.97120721,37.57590883],[126.97137323,37.576155],[126.97159667,37.57637077],[126.97186892,37.57654786],[126.97217954,37.57667944],[126.97251657,37.57676047],[126.97286708,37.57678783],[126.97321758,37.57676047],[126.97355462,37.57667944],[126.97386523,37.57654786],[126.97413749,37.57637077],[126.97436092,37.576155],[126.97452695,37.57590883],[126.97462919,37.57564171],[126.97466371,37.57536392]]]}',\n",
              "    'lo_crd': '126.972867077854',\n",
              "    'la_crd': '37.575363915713'},\n",
              "   {'afos_fid': 6806239,\n",
              "    'afos_id': '2022083',\n",
              "    'bjd_cd': '1111015700',\n",
              "    'spot_cd': '11110002',\n",
              "    'sido_sgg_nm': '서울특별시 종로구2',\n",
              "    'spot_nm': '서울특별시 종로구 인의동(종로4가사거리 부근)',\n",
              "    'occrrnc_cnt': 4,\n",
              "    'caslt_cnt': 4,\n",
              "    'dth_dnv_cnt': 0,\n",
              "    'se_dnv_cnt': 1,\n",
              "    'sl_dnv_cnt': 0,\n",
              "    'wnd_dnv_cnt': 3,\n",
              "    'geom_json': '{\"type\":\"Polygon\",\"coordinates\":[[[126.99939223,37.57083711],[126.99935771,37.5705593],[126.99925547,37.57029217],[126.99908945,37.57004597],[126.99886601,37.56983018],[126.99859376,37.56965308],[126.99828314,37.56952149],[126.99794611,37.56944045],[126.9975956,37.56941309],[126.9972451,37.56944045],[126.99690806,37.56952149],[126.99659745,37.56965308],[126.99632519,37.56983018],[126.99610176,37.57004597],[126.99593573,37.57029217],[126.99583349,37.5705593],[126.99579897,37.57083711],[126.99583349,37.57111492],[126.99593573,37.57138206],[126.99610176,37.57162825],[126.99632519,37.57184403],[126.99659745,37.57202112],[126.99690806,37.57215271],[126.9972451,37.57223375],[126.9975956,37.57226111],[126.99794611,37.57223375],[126.99828314,37.57215271],[126.99859376,37.57202112],[126.99886601,37.57184403],[126.99908945,37.57162825],[126.99925547,37.57138206],[126.99935771,37.57111492],[126.99939223,37.57083711]]]}',\n",
              "    'lo_crd': '126.997595602156',\n",
              "    'la_crd': '37.570837112544'},\n",
              "   {'afos_fid': 6805883,\n",
              "    'afos_id': '2022083',\n",
              "    'bjd_cd': '1111012300',\n",
              "    'spot_cd': '11110003',\n",
              "    'sido_sgg_nm': '서울특별시 종로구3',\n",
              "    'spot_nm': '서울특별시 종로구 서린동(종로구청입구교차로 부근)',\n",
              "    'occrrnc_cnt': 4,\n",
              "    'caslt_cnt': 4,\n",
              "    'dth_dnv_cnt': 0,\n",
              "    'se_dnv_cnt': 0,\n",
              "    'sl_dnv_cnt': 4,\n",
              "    'wnd_dnv_cnt': 0,\n",
              "    'geom_json': '{\"type\":\"Polygon\",\"coordinates\":[[[126.98089454,37.56987425],[126.98086002,37.56959644],[126.98075778,37.5693293],[126.98059176,37.5690831],[126.98036832,37.56886731],[126.98009607,37.56869021],[126.97978545,37.56855861],[126.97944842,37.56847758],[126.97909791,37.56845021],[126.97874741,37.56847758],[126.97841037,37.56855861],[126.97809976,37.56869021],[126.9778275,37.56886731],[126.97760407,37.5690831],[126.97743804,37.5693293],[126.9773358,37.56959644],[126.97730128,37.56987425],[126.9773358,37.57015207],[126.97743804,37.5704192],[126.97760407,37.5706654],[126.9778275,37.57088119],[126.97809976,37.57105828],[126.97841037,37.57118987],[126.97874741,37.57127091],[126.97909791,37.57129827],[126.97944842,37.57127091],[126.97978545,37.57118987],[126.98009607,37.57105828],[126.98036832,37.57088119],[126.98059176,37.5706654],[126.98075778,37.5704192],[126.98086002,37.57015207],[126.98089454,37.56987425]]]}',\n",
              "    'lo_crd': '126.979097913739',\n",
              "    'la_crd': '37.569874254294'}]},\n",
              " 'totalCount': 3,\n",
              " 'numOfRows': 3,\n",
              " 'pageNo': 1}"
            ]
          },
          "metadata": {},
          "execution_count": 35
        }
      ]
    },
    {
      "cell_type": "code",
      "source": [
        "# item 접근\n",
        "w_data = response.json()['items']['item']\n",
        "print(type(w_data))               # list\n",
        "print((len(w_data)))              # 갯수\n",
        "\n",
        "for row in range(len(w_data)):\n",
        "  print('spot_nm: ', w_data[row]['spot_nm'])\n",
        "  print('경도: ', w_data[row]['lo_crd'])\n",
        "  print('위도: ', w_data[row]['la_crd'])\n"
      ],
      "metadata": {
        "colab": {
          "base_uri": "https://localhost:8080/"
        },
        "id": "tixGuZ0r0SmC",
        "outputId": "82d804d2-8bdb-4b09-9790-168348db174c"
      },
      "execution_count": null,
      "outputs": [
        {
          "output_type": "stream",
          "name": "stdout",
          "text": [
            "<class 'list'>\n",
            "3\n",
            "spot_nm:  서울특별시 종로구 적선동(적선현대빌딩 부근)\n",
            "경도:  126.972867077854\n",
            "위도:  37.575363915713\n",
            "spot_nm:  서울특별시 종로구 인의동(종로4가사거리 부근)\n",
            "경도:  126.997595602156\n",
            "위도:  37.570837112544\n",
            "spot_nm:  서울특별시 종로구 서린동(종로구청입구교차로 부근)\n",
            "경도:  126.979097913739\n",
            "위도:  37.569874254294\n"
          ]
        }
      ]
    },
    {
      "cell_type": "code",
      "source": [
        "result = []\n",
        "data = response.json()\n",
        "w_data = data['items']['item']\n",
        "for row in range(len(w_data)):\n",
        "  line = {}\n",
        "  line['spot_nm'] = w_data[row]['spot_nm']\n",
        "  line['lo_crd'] = w_data[row]['lo_crd']\n",
        "  line['la_crd'] = w_data[row]['la_crd']\n",
        "  result.append(line)\n"
      ],
      "metadata": {
        "id": "l9w2RMDG5u9O"
      },
      "execution_count": null,
      "outputs": []
    },
    {
      "cell_type": "code",
      "source": [
        "result"
      ],
      "metadata": {
        "colab": {
          "base_uri": "https://localhost:8080/"
        },
        "id": "nh7S8qnf6sg3",
        "outputId": "9999ab4e-891e-4a3d-b108-e419251c24b2"
      },
      "execution_count": null,
      "outputs": [
        {
          "output_type": "execute_result",
          "data": {
            "text/plain": [
              "[{'spot_nm': '서울특별시 종로구 적선동(적선현대빌딩 부근)',\n",
              "  'lo_crd': '126.972867077854',\n",
              "  'la_crd': '37.575363915713'},\n",
              " {'spot_nm': '서울특별시 종로구 인의동(종로4가사거리 부근)',\n",
              "  'lo_crd': '126.997595602156',\n",
              "  'la_crd': '37.570837112544'},\n",
              " {'spot_nm': '서울특별시 종로구 서린동(종로구청입구교차로 부근)',\n",
              "  'lo_crd': '126.979097913739',\n",
              "  'la_crd': '37.569874254294'}]"
            ]
          },
          "metadata": {},
          "execution_count": 42
        }
      ]
    },
    {
      "cell_type": "code",
      "source": [
        "import json\n",
        "\n",
        "print(dir(json))\n"
      ],
      "metadata": {
        "colab": {
          "base_uri": "https://localhost:8080/"
        },
        "id": "0ybLcXez7TLb",
        "outputId": "48e2a2d2-afe3-4423-e916-9a471e6e9e0b"
      },
      "execution_count": null,
      "outputs": [
        {
          "output_type": "stream",
          "name": "stdout",
          "text": [
            "['JSONDecodeError', 'JSONDecoder', 'JSONEncoder', '__all__', '__author__', '__builtins__', '__cached__', '__doc__', '__file__', '__loader__', '__name__', '__package__', '__path__', '__spec__', '__version__', '_default_decoder', '_default_encoder', 'codecs', 'decoder', 'detect_encoding', 'dump', 'dumps', 'encoder', 'load', 'loads', 'scanner']\n"
          ]
        }
      ]
    },
    {
      "cell_type": "code",
      "source": [
        "#  ensure_ascii=False : 유니코드로 변환되는 작업 방지\n",
        "# indent =\"\\t\" : 들여쓰기를 탭으로 설정\n",
        "with open('./source/cycle.json', 'w',  encoding='utf-8') as f:\n",
        "   json.dump(result, f, indent='\\t', ensure_ascii=False)              # dump(obj, fp)"
      ],
      "metadata": {
        "id": "HTPoFmlW68f0"
      },
      "execution_count": null,
      "outputs": []
    },
    {
      "cell_type": "code",
      "source": [
        "with open('./source/cycle.json', 'r' , encoding='utf-8') as f:\n",
        "  data = json.load(f)\n",
        "  print(data)"
      ],
      "metadata": {
        "colab": {
          "base_uri": "https://localhost:8080/"
        },
        "id": "YTcRcH928SHc",
        "outputId": "81efc0a9-9939-4d63-9a09-664b786aa80b"
      },
      "execution_count": null,
      "outputs": [
        {
          "output_type": "stream",
          "name": "stdout",
          "text": [
            "[{'spot_nm': '서울특별시 종로구 적선동(적선현대빌딩 부근)', 'lo_crd': '126.972867077854', 'la_crd': '37.575363915713'}, {'spot_nm': '서울특별시 종로구 인의동(종로4가사거리 부근)', 'lo_crd': '126.997595602156', 'la_crd': '37.570837112544'}, {'spot_nm': '서울특별시 종로구 서린동(종로구청입구교차로 부근)', 'lo_crd': '126.979097913739', 'la_crd': '37.569874254294'}]\n"
          ]
        }
      ]
    },
    {
      "cell_type": "markdown",
      "source": [
        "dump - 파일로 저장    \n",
        "dumps - 데이터로 저장    \n",
        "load - 파일에 내용 읽어올때  \n",
        "loads - 변수에 있는 내용을 읽어올때"
      ],
      "metadata": {
        "id": "-45ryfq_88bY"
      }
    },
    {
      "cell_type": "code",
      "source": [
        "json_str = '[1,2,3,4]'\n",
        "print(type(json_str))\n",
        "data = json.loads(json_str)\n",
        "print(type(data))\n",
        "print(data)"
      ],
      "metadata": {
        "colab": {
          "base_uri": "https://localhost:8080/"
        },
        "id": "fUww716M9RFG",
        "outputId": "5897bc4d-7731-4bb0-a7b3-b9aee0cb0ca9"
      },
      "execution_count": null,
      "outputs": [
        {
          "output_type": "stream",
          "name": "stdout",
          "text": [
            "<class 'str'>\n",
            "<class 'list'>\n",
            "[1, 2, 3, 4]\n"
          ]
        }
      ]
    },
    {
      "cell_type": "code",
      "source": [
        "json.dumps(data)"
      ],
      "metadata": {
        "colab": {
          "base_uri": "https://localhost:8080/",
          "height": 35
        },
        "id": "NBj7Uh45_NUe",
        "outputId": "17b48190-36fe-4910-a368-a1b75a2d282a"
      },
      "execution_count": null,
      "outputs": [
        {
          "output_type": "execute_result",
          "data": {
            "text/plain": [
              "'[1, 2, 3, 4]'"
            ],
            "application/vnd.google.colaboratory.intrinsic+json": {
              "type": "string"
            }
          },
          "metadata": {},
          "execution_count": 60
        }
      ]
    },
    {
      "cell_type": "code",
      "source": [
        "json_str = '{\"a\":1, \"b\":2, \"c\":3}'\n",
        "print(type(json_str))\n",
        "\n",
        "data = json.loads(json_str)\n",
        "print(type(data))"
      ],
      "metadata": {
        "colab": {
          "base_uri": "https://localhost:8080/"
        },
        "id": "iICD3Pjg95G4",
        "outputId": "02d434bc-3bed-4ca6-c6c3-9fa9ab5849c2"
      },
      "execution_count": null,
      "outputs": [
        {
          "output_type": "stream",
          "name": "stdout",
          "text": [
            "<class 'str'>\n",
            "<class 'dict'>\n"
          ]
        }
      ]
    },
    {
      "cell_type": "code",
      "source": [
        "json.dumps(data)"
      ],
      "metadata": {
        "colab": {
          "base_uri": "https://localhost:8080/",
          "height": 35
        },
        "id": "Fw0srQZv_mh6",
        "outputId": "95cfd7ad-9526-4248-e7cf-ee1e1b286341"
      },
      "execution_count": null,
      "outputs": [
        {
          "output_type": "execute_result",
          "data": {
            "text/plain": [
              "'{\"a\": 1, \"b\": 2, \"c\": 3}'"
            ],
            "application/vnd.google.colaboratory.intrinsic+json": {
              "type": "string"
            }
          },
          "metadata": {},
          "execution_count": 62
        }
      ]
    },
    {
      "cell_type": "code",
      "source": [
        "json_str ='''\n",
        "  {\n",
        "    \"name\":\"홍길동\",\n",
        "    \"age\":30\n",
        "  }\n",
        "'''\n",
        "\n",
        "print(type(json_str))\n",
        "\n",
        "data = json.loads(json_str)\n",
        "print(type(data))\n",
        "print(data)"
      ],
      "metadata": {
        "colab": {
          "base_uri": "https://localhost:8080/"
        },
        "id": "p1P9T2Xm-CMa",
        "outputId": "d6c5b714-41ae-4ef1-a65d-1ec0532f9a54"
      },
      "execution_count": null,
      "outputs": [
        {
          "output_type": "stream",
          "name": "stdout",
          "text": [
            "<class 'str'>\n",
            "<class 'dict'>\n",
            "{'name': '홍길동', 'age': 30}\n"
          ]
        }
      ]
    },
    {
      "cell_type": "code",
      "source": [
        "json.dumps(data, ensure_ascii=False)"
      ],
      "metadata": {
        "colab": {
          "base_uri": "https://localhost:8080/",
          "height": 35
        },
        "id": "TrR7GEpw-w6a",
        "outputId": "d72d4fc8-88b7-4a3d-b736-9c84e80c90e2"
      },
      "execution_count": null,
      "outputs": [
        {
          "output_type": "execute_result",
          "data": {
            "text/plain": [
              "'{\"name\": \"홍길동\", \"age\": 30}'"
            ],
            "application/vnd.google.colaboratory.intrinsic+json": {
              "type": "string"
            }
          },
          "metadata": {},
          "execution_count": 65
        }
      ]
    }
  ]
}